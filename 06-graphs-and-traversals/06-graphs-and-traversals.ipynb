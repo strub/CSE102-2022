{
 "cells": [
  {
   "cell_type": "code",
   "execution_count": 1,
   "metadata": {
    "execution": {
     "iopub.execute_input": "2023-03-20T05:49:17.465541Z",
     "iopub.status.busy": "2023-03-20T05:49:17.465137Z",
     "iopub.status.idle": "2023-03-20T05:49:17.481988Z",
     "shell.execute_reply": "2023-03-20T05:49:17.481269Z"
    }
   },
   "outputs": [],
   "source": [
    "import sys; sys.setrecursionlimit(100)"
   ]
  },
  {
   "cell_type": "markdown",
   "metadata": {},
   "source": [
    "# Reminder: Stacks and Queues\n",
    "\n",
    "We here give a reminder about two basic datastructures: stacks and queues. Stacks and queues are list-like data structures in which one can push and pull values and that impose an (implicit) order over the pulled values:\n",
    "\n",
    " - In a queue, elements are accessed on a first-in-first-out (FIFO) basis, i.e. when you pull an element from a queue, you obtain the first inserted one that has not been already removed. It follows the same logic as (real life) queues: the earlier you arrive, the earlier you leave.\n",
    " - In a stack, elements are accessed on a last-in-first-out (LIFO) basis, i.e. when you pull an element from a stack, you obtain the last inserted one.\n",
    "\n",
    "We can graphically represent stacks and queues as follow. The first graphic shows the evolution of the state of a stack after some operations, where we see the LIFO nature of the structure:\n",
    "\n",
    "<img src=\"files/stack.png\" style=\"max-height: 300px;\"></img>\n",
    "\n",
    "Whereas in the following graphic, we show the evolution of the state of a queue after some operations, where we see the FIFO nature of the structure:\n",
    "\n",
    "<img src=\"files/queue.png\" style=\"max-height: 300px;\"></img>\n",
    "\n",
    "Queues and stack can be easily implemented in Python using lists. We here give one implementation for each data-structure:"
   ]
  },
  {
   "cell_type": "code",
   "execution_count": 2,
   "metadata": {
    "execution": {
     "iopub.execute_input": "2023-03-20T05:49:17.486015Z",
     "iopub.status.busy": "2023-03-20T05:49:17.485479Z",
     "iopub.status.idle": "2023-03-20T05:49:17.496328Z",
     "shell.execute_reply": "2023-03-20T05:49:17.495706Z"
    }
   },
   "outputs": [],
   "source": [
    "class Stack:\n",
    "    def __init__(self, elements = None):\n",
    "        \"\"\" Create an empty stack \"\"\"\n",
    "        self._stack = [] if elements is None else elements\n",
    "        \n",
    "    def __len__(self):\n",
    "        \"\"\" Return the number of elements in the stack \"\"\"\n",
    "        return len(self._stack)\n",
    "    \n",
    "    def __bool__(self):\n",
    "        \"\"\" Return wether the stack is empty or not \"\"\"\n",
    "        return self._stack != []\n",
    "    \n",
    "    def clear(self):\n",
    "        \"\"\" Clear the stack, i.e. remove all its elements \"\"\"\n",
    "        self._stack = []\n",
    "    \n",
    "    def push(self, x):\n",
    "        \"\"\" Push an element on top of the stack \"\"\"\n",
    "        print(f'Push {x}')\n",
    "        self._stack.append(x)\n",
    "        \n",
    "    def pop(self):\n",
    "        \"\"\" Pop an element from the top of the stack and return it\n",
    "        \n",
    "            Raise [IndexError] if the stack is empty \"\"\"\n",
    "        print('Pop')\n",
    "        return self._stack.pop()\n",
    "        \n",
    "    def top(self):\n",
    "        \"\"\" Return the top-element, but do not pop it\n",
    "        \n",
    "            Raise [IndexError] if the stack is empty \"\"\"\n",
    "        return self._stack[-1]\n",
    "    \n",
    "    def __repr__(self):\n",
    "        return 'Stack({})'.format(self._stack)\n",
    "    \n",
    "class Queue:\n",
    "    def __init__(self, elements = None):\n",
    "        \"\"\" Create an empty queue \"\"\"\n",
    "        self._queue = [] if elements is None else elements\n",
    "        \n",
    "    def __len__(self):\n",
    "        \"\"\" Return the number of elements in the queue \"\"\"        \n",
    "        return len(self._queue)\n",
    "    \n",
    "    def __bool__(self):\n",
    "        \"\"\" Return wether the queue is empty or not \"\"\"\n",
    "        return self._queue != []\n",
    "    \n",
    "    def clear(self):\n",
    "        \"\"\" Clear the queue, i.e. remove all its elements \"\"\"\n",
    "        self._queue = []\n",
    "    \n",
    "    def enqueue(self, x):\n",
    "        \"\"\" Enqueue an element in the queue \"\"\"\n",
    "        print(f'Enqueue: {x}')\n",
    "        self._queue.append(x)\n",
    "        \n",
    "    def dequeue(self):\n",
    "        \"\"\" Dequeue an element from the queue and return it\n",
    "        \n",
    "            Raise [IndexError] if the queue is empty \"\"\"\n",
    "        \n",
    "        # Note that the `pop(0)` operation is linear in the size of [self._queue]\n",
    "        # We could use a double-linked list to obtain a better complexity\n",
    "        # (See for instance the class `deque` in the `collections` Python module)\n",
    "        print('Dequeue')\n",
    "        return self._queue.pop(0)\n",
    "    \n",
    "    def front(self):\n",
    "        \"\"\" Return the front element from the queue without removing it\n",
    "        \n",
    "            Raise [IndexError] if the queue is empty\"\"\"\n",
    "        return self._queue[0]\n",
    "    \n",
    "    def __repr__(self):\n",
    "        return 'Queue({})'.format(self._queue)"
   ]
  },
  {
   "cell_type": "code",
   "execution_count": 3,
   "metadata": {
    "execution": {
     "iopub.execute_input": "2023-03-20T05:49:17.498684Z",
     "iopub.status.busy": "2023-03-20T05:49:17.498478Z",
     "iopub.status.idle": "2023-03-20T05:49:17.506484Z",
     "shell.execute_reply": "2023-03-20T05:49:17.506071Z"
    }
   },
   "outputs": [
    {
     "name": "stdout",
     "output_type": "stream",
     "text": [
      "Help on class deque in module collections:\n",
      "\n",
      "class deque(builtins.object)\n",
      " |  deque([iterable[, maxlen]]) --> deque object\n",
      " |  \n",
      " |  A list-like sequence optimized for data accesses near its endpoints.\n",
      " |  \n",
      " |  Methods defined here:\n",
      " |  \n",
      " |  __add__(self, value, /)\n",
      " |      Return self+value.\n",
      " |  \n",
      " |  __bool__(self, /)\n",
      " |      True if self else False\n",
      " |  \n",
      " |  __contains__(self, key, /)\n",
      " |      Return key in self.\n",
      " |  \n",
      " |  __copy__(...)\n",
      " |      Return a shallow copy of a deque.\n",
      " |  \n",
      " |  __delitem__(self, key, /)\n",
      " |      Delete self[key].\n",
      " |  \n",
      " |  __eq__(self, value, /)\n",
      " |      Return self==value.\n",
      " |  \n",
      " |  __ge__(self, value, /)\n",
      " |      Return self>=value.\n",
      " |  \n",
      " |  __getattribute__(self, name, /)\n",
      " |      Return getattr(self, name).\n",
      " |  \n",
      " |  __getitem__(self, key, /)\n",
      " |      Return self[key].\n",
      " |  \n",
      " |  __gt__(self, value, /)\n",
      " |      Return self>value.\n",
      " |  \n",
      " |  __iadd__(self, value, /)\n",
      " |      Implement self+=value.\n",
      " |  \n",
      " |  __imul__(self, value, /)\n",
      " |      Implement self*=value.\n",
      " |  \n",
      " |  __init__(self, /, *args, **kwargs)\n",
      " |      Initialize self.  See help(type(self)) for accurate signature.\n",
      " |  \n",
      " |  __iter__(self, /)\n",
      " |      Implement iter(self).\n",
      " |  \n",
      " |  __le__(self, value, /)\n",
      " |      Return self<=value.\n",
      " |  \n",
      " |  __len__(self, /)\n",
      " |      Return len(self).\n",
      " |  \n",
      " |  __lt__(self, value, /)\n",
      " |      Return self<value.\n",
      " |  \n",
      " |  __mul__(self, value, /)\n",
      " |      Return self*value.\n",
      " |  \n",
      " |  __ne__(self, value, /)\n",
      " |      Return self!=value.\n",
      " |  \n",
      " |  __reduce__(...)\n",
      " |      Return state information for pickling.\n",
      " |  \n",
      " |  __repr__(self, /)\n",
      " |      Return repr(self).\n",
      " |  \n",
      " |  __reversed__(...)\n",
      " |      D.__reversed__() -- return a reverse iterator over the deque\n",
      " |  \n",
      " |  __rmul__(self, value, /)\n",
      " |      Return value*self.\n",
      " |  \n",
      " |  __setitem__(self, key, value, /)\n",
      " |      Set self[key] to value.\n",
      " |  \n",
      " |  __sizeof__(...)\n",
      " |      D.__sizeof__() -- size of D in memory, in bytes\n",
      " |  \n",
      " |  append(...)\n",
      " |      Add an element to the right side of the deque.\n",
      " |  \n",
      " |  appendleft(...)\n",
      " |      Add an element to the left side of the deque.\n",
      " |  \n",
      " |  clear(...)\n",
      " |      Remove all elements from the deque.\n",
      " |  \n",
      " |  copy(...)\n",
      " |      Return a shallow copy of a deque.\n",
      " |  \n",
      " |  count(...)\n",
      " |      D.count(value) -> integer -- return number of occurrences of value\n",
      " |  \n",
      " |  extend(...)\n",
      " |      Extend the right side of the deque with elements from the iterable\n",
      " |  \n",
      " |  extendleft(...)\n",
      " |      Extend the left side of the deque with elements from the iterable\n",
      " |  \n",
      " |  index(...)\n",
      " |      D.index(value, [start, [stop]]) -> integer -- return first index of value.\n",
      " |      Raises ValueError if the value is not present.\n",
      " |  \n",
      " |  insert(...)\n",
      " |      D.insert(index, object) -- insert object before index\n",
      " |  \n",
      " |  pop(...)\n",
      " |      Remove and return the rightmost element.\n",
      " |  \n",
      " |  popleft(...)\n",
      " |      Remove and return the leftmost element.\n",
      " |  \n",
      " |  remove(...)\n",
      " |      D.remove(value) -- remove first occurrence of value.\n",
      " |  \n",
      " |  reverse(...)\n",
      " |      D.reverse() -- reverse *IN PLACE*\n",
      " |  \n",
      " |  rotate(...)\n",
      " |      Rotate the deque n steps to the right (default n=1).  If n is negative, rotates left.\n",
      " |  \n",
      " |  ----------------------------------------------------------------------\n",
      " |  Class methods defined here:\n",
      " |  \n",
      " |  __class_getitem__(...) from builtins.type\n",
      " |      See PEP 585\n",
      " |  \n",
      " |  ----------------------------------------------------------------------\n",
      " |  Static methods defined here:\n",
      " |  \n",
      " |  __new__(*args, **kwargs) from builtins.type\n",
      " |      Create and return a new object.  See help(type) for accurate signature.\n",
      " |  \n",
      " |  ----------------------------------------------------------------------\n",
      " |  Data descriptors defined here:\n",
      " |  \n",
      " |  maxlen\n",
      " |      maximum size of a deque or None if unbounded\n",
      " |  \n",
      " |  ----------------------------------------------------------------------\n",
      " |  Data and other attributes defined here:\n",
      " |  \n",
      " |  __hash__ = None\n",
      "\n"
     ]
    }
   ],
   "source": [
    "import collections\n",
    "\n",
    "help(collections.deque)"
   ]
  },
  {
   "cell_type": "markdown",
   "metadata": {},
   "source": [
    "We here give a test case for `Queue`:"
   ]
  },
  {
   "cell_type": "code",
   "execution_count": 4,
   "metadata": {
    "execution": {
     "iopub.execute_input": "2023-03-20T05:49:17.537515Z",
     "iopub.status.busy": "2023-03-20T05:49:17.537356Z",
     "iopub.status.idle": "2023-03-20T05:49:17.540062Z",
     "shell.execute_reply": "2023-03-20T05:49:17.539771Z"
    }
   },
   "outputs": [
    {
     "name": "stdout",
     "output_type": "stream",
     "text": [
      "Enqueue: 0\n",
      "Enqueue: 1\n",
      "Enqueue: 2\n",
      "Enqueue: 3\n",
      "Enqueue: 4\n",
      "Dequeue\n",
      "0\n",
      "Dequeue\n",
      "1\n",
      "Enqueue: 5\n",
      "Dequeue\n",
      "2\n",
      "Dequeue\n",
      "3\n",
      "Dequeue\n",
      "4\n",
      "Dequeue\n",
      "5\n"
     ]
    }
   ],
   "source": [
    "def test_queue():\n",
    "    q = Queue()\n",
    "    for i in range(5):\n",
    "        # We enqueue values 0, 1, 2, 3, 4\n",
    "        q.enqueue(i)\n",
    "    print(q.dequeue()) # We pull 0 (the first value inserted)\n",
    "    print(q.dequeue()) # We pull 1 (the second first value inserted)\n",
    "    q.enqueue(5) # We enqueue an extra element (5)\n",
    "    while q:\n",
    "        # We dequeue all the elements one by one\n",
    "        # The last element is going to be 5 (the last value inserted)\n",
    "        print(q.dequeue())\n",
    "        \n",
    "test_queue()"
   ]
  },
  {
   "cell_type": "markdown",
   "metadata": {},
   "source": [
    "And for `Stack`:"
   ]
  },
  {
   "cell_type": "code",
   "execution_count": 5,
   "metadata": {
    "execution": {
     "iopub.execute_input": "2023-03-20T05:49:17.541415Z",
     "iopub.status.busy": "2023-03-20T05:49:17.541300Z",
     "iopub.status.idle": "2023-03-20T05:49:17.544048Z",
     "shell.execute_reply": "2023-03-20T05:49:17.543756Z"
    }
   },
   "outputs": [
    {
     "name": "stdout",
     "output_type": "stream",
     "text": [
      "Push 0\n",
      "Push 1\n",
      "Push 2\n",
      "Push 3\n",
      "Push 4\n",
      "Pop\n",
      "4\n",
      "Pop\n",
      "3\n",
      "Push 5\n",
      "Pop\n",
      "5\n",
      "Pop\n",
      "2\n",
      "Pop\n",
      "1\n",
      "Pop\n",
      "0\n"
     ]
    }
   ],
   "source": [
    "def test_stack():\n",
    "    q = Stack()\n",
    "    for i in range(5):\n",
    "        # We push values 0, 1, 2, 3, 4\n",
    "        q.push(i)\n",
    "    print(q.pop()) # We pop 4 (the last value inserted)\n",
    "    print(q.pop()) # We pop 3 (the before the last value inserted)\n",
    "    q.push(5) # We push an extra element (5)\n",
    "    while q:\n",
    "        # We pop all the elements one by one\n",
    "        # Since we just pushed `5`, we are going to pop it before\n",
    "        # the others (`3`, `2` and `1`)\n",
    "        print(q.pop())\n",
    "        \n",
    "test_stack()"
   ]
  },
  {
   "cell_type": "markdown",
   "metadata": {},
   "source": [
    "# Graphs\n",
    "\n",
    "An (oriented) graph is a data-structure that consists of a finite set of vertices (or nodes), along with a set of ordered pairs of such elements. These pairs are called *edges* or *arcs*. A graph structure can also have a *value* or *label* associated with each edge, such as a label or numeric value (a cost, capacity, length, etc.).\n",
    "\n",
    "In Python, following what we did for trees, we can represent a graph with instances of the following class `Node`. In this case, the class `Node` contains two data-attributes (one for the label of the node and one for the successor nodes) and a graph will be the data of the set (or list) of its nodes:"
   ]
  },
  {
   "cell_type": "code",
   "execution_count": 6,
   "metadata": {
    "execution": {
     "iopub.execute_input": "2023-03-20T05:49:17.545377Z",
     "iopub.status.busy": "2023-03-20T05:49:17.545264Z",
     "iopub.status.idle": "2023-03-20T05:49:17.547400Z",
     "shell.execute_reply": "2023-03-20T05:49:17.547146Z"
    }
   },
   "outputs": [
    {
     "name": "stdout",
     "output_type": "stream",
     "text": [
      "x=2, y=4, args=()\n",
      "x=2, y=3, args=(4, 5)\n",
      "x=foo, y=None, args=(True,)\n"
     ]
    }
   ],
   "source": [
    "def f(x, y, *args):\n",
    "    print(f'x={x}, y={y}, args={args}')\n",
    "    \n",
    "f(2, 4)\n",
    "f(2, 3, 4, 5)\n",
    "f(\"foo\", None, True)"
   ]
  },
  {
   "cell_type": "code",
   "execution_count": 7,
   "metadata": {
    "execution": {
     "iopub.execute_input": "2023-03-20T05:49:17.548603Z",
     "iopub.status.busy": "2023-03-20T05:49:17.548494Z",
     "iopub.status.idle": "2023-03-20T05:49:17.552289Z",
     "shell.execute_reply": "2023-03-20T05:49:17.552037Z"
    }
   },
   "outputs": [
    {
     "name": "stdout",
     "output_type": "stream",
     "text": [
      "[Node[1], Node[3], Node[5]]\n"
     ]
    }
   ],
   "source": [
    "class Node:\n",
    "    def __init__(self, label):\n",
    "        self.label      = label\n",
    "        self.successors = []\n",
    "\n",
    "    def add(self, *nodes):\n",
    "        self.successors.extend(nodes)\n",
    "#        for succ in nodes:\n",
    "#            if succ.label != self.label:\n",
    "#                succ.successors.append(self)\n",
    "\n",
    "    def __repr__(self):\n",
    "        return f'Node[{self.label}]'\n",
    "\n",
    "# If you install Graphviz (https://www.graphviz.org/)\n",
    "# you can use that function to get a visual representation of\n",
    "# a graph using the `Node` representation (see below)\n",
    "#\n",
    "# You also need to install the graphviz python module\n",
    "def repr_graph(graph):\n",
    "    import graphviz\n",
    "    dot, nodes = graphviz.Digraph(), {}\n",
    "    dot.node_attr.update(\n",
    "        margin='0', fontsize='12', width='0.5',\n",
    "        shape='circle', style='filled')\n",
    "    for node in graph:\n",
    "        nodes[node.label] = dot.node(str(node.label))\n",
    "    for node in graph:\n",
    "        for succ in node.successors:\n",
    "            dot.edge(str(node.label), str(succ.label))\n",
    "    return dot\n",
    "\n",
    "\n",
    "        \n",
    "graph = [Node(i) for i in range(7)]\n",
    "graph[0].add(graph[1])\n",
    "graph[1].add(graph[2])\n",
    "graph[2].add(graph[0])\n",
    "graph[3].add(graph[1], graph[3], graph[5])\n",
    "graph[5].add(graph[6])\n",
    "\n",
    "print(graph[3].successors)\n",
    "\n",
    "# repr_graph(graph) # Uncommment if you have graphviz"
   ]
  },
  {
   "cell_type": "markdown",
   "metadata": {},
   "source": [
    "The graph we just constructed (in `graph`) as the following representation:\n",
    "\n",
    "<img src=\"files/graph.png\" style=\"max-height: 200px;\"></img>\n",
    "\n",
    "However, we tend to use different, more compact and/or efficient representation of graphs. We below present two of them: the adjacency matrix representation and the adjacency list representation.\n",
    "\n",
    "From now on, we assume that the nodes of our graphs are labelled with the integers $0$, $1$, ..., $n-1$ where $n$ is the number of nodes of the graph. In that case, we order the nodes by their label where the $i$-th node is the node labelled with $i$.\n",
    "\n",
    "## Adjacency list\n",
    "\n",
    "In the adjacency list form, we attach to node $i$ a list $l$ of labels s.t. $j \\in l$ iff there exists an edge from $i$ to $j$. For example, our example graph is represented by the following adjacency list:"
   ]
  },
  {
   "cell_type": "code",
   "execution_count": 8,
   "metadata": {
    "execution": {
     "iopub.execute_input": "2023-03-20T05:49:17.553474Z",
     "iopub.status.busy": "2023-03-20T05:49:17.553391Z",
     "iopub.status.idle": "2023-03-20T05:49:17.555160Z",
     "shell.execute_reply": "2023-03-20T05:49:17.554933Z"
    }
   },
   "outputs": [],
   "source": [
    "G = [\n",
    "    [1],        # Successors of node 0\n",
    "    [2],        # Successors of node 1\n",
    "    [0],        # Successors of node 2\n",
    "    [1, 3, 5],  # Successors of node 3\n",
    "    [],         # Successors of node 4\n",
    "    [6],        # Successors of node 5\n",
    "    [],         # Successors of node 6\n",
    "]"
   ]
  },
  {
   "cell_type": "markdown",
   "metadata": {},
   "source": [
    "To examplify the adjacency list representation, we give a function that convert a graph `G` in this representation to the one using the class `Node`:"
   ]
  },
  {
   "cell_type": "code",
   "execution_count": 9,
   "metadata": {
    "execution": {
     "iopub.execute_input": "2023-03-20T05:49:17.556346Z",
     "iopub.status.busy": "2023-03-20T05:49:17.556266Z",
     "iopub.status.idle": "2023-03-20T05:49:17.558619Z",
     "shell.execute_reply": "2023-03-20T05:49:17.558387Z"
    }
   },
   "outputs": [
    {
     "name": "stdout",
     "output_type": "stream",
     "text": [
      "0 [Node[1]]\n",
      "1 [Node[2]]\n",
      "2 [Node[0]]\n",
      "3 [Node[1], Node[3], Node[5]]\n",
      "4 []\n",
      "5 [Node[6]]\n",
      "6 []\n"
     ]
    }
   ],
   "source": [
    "def adjlst_to_nodes(G):\n",
    "    # Create a node per label\n",
    "    nodes = [Node(i) for i in range(len(G))]\n",
    "    for i, successors in enumerate(G):\n",
    "        # Enumerate all the nodes\n",
    "        # i = node label / index\n",
    "        # successors = successors of `i`\n",
    "        for j in successors:\n",
    "            # Add a link between `i` and `j` for `j`\n",
    "            # iterating over all the successors of `i`\n",
    "            nodes[i].add(nodes[j])\n",
    "    return nodes\n",
    "\n",
    "G2 = adjlst_to_nodes(G)\n",
    "for i, node in enumerate(G2):\n",
    "    print (i, node.successors)\n",
    "\n",
    "# repr_graph(adjlst_to_nodes(G))"
   ]
  },
  {
   "cell_type": "markdown",
   "metadata": {},
   "source": [
    "## Adjacency matrix\n",
    "\n",
    "In the adjacency matrix representation, a matrix $m$ of booleans (or integers) of size $n \\times n$ (where $n$ is the size of the graph) is used. This matrix is s.t. $m_{i,j}$ is `True` (or different from `0`) iff there exists an edge from $i$ to $j$. For example, our example graph is represented by the following adjacency matrix:"
   ]
  },
  {
   "cell_type": "code",
   "execution_count": 10,
   "metadata": {
    "execution": {
     "iopub.execute_input": "2023-03-20T05:49:17.559771Z",
     "iopub.status.busy": "2023-03-20T05:49:17.559692Z",
     "iopub.status.idle": "2023-03-20T05:49:17.561762Z",
     "shell.execute_reply": "2023-03-20T05:49:17.561497Z"
    }
   },
   "outputs": [],
   "source": [
    "G = [\n",
    "    [0, 1, 0, 0, 0, 0, 0],\n",
    "    [0, 0, 1, 0, 0, 0, 0],\n",
    "    [1, 0, 0, 0, 0, 0, 0],\n",
    "    [0, 1, 0, 1, 0, 1, 0],\n",
    "    [0, 0, 0, 0, 0, 0, 0],\n",
    "    [0, 0, 0, 0, 0, 0, 1],\n",
    "    [0, 0, 0, 0, 0, 0, 0],\n",
    "]"
   ]
  },
  {
   "cell_type": "markdown",
   "metadata": {},
   "source": [
    "To examplify the adjacency matrix representation, we give a function that convert a graph `G` in this representation to the one using the class `Node`:"
   ]
  },
  {
   "cell_type": "code",
   "execution_count": 11,
   "metadata": {
    "execution": {
     "iopub.execute_input": "2023-03-20T05:49:17.562976Z",
     "iopub.status.busy": "2023-03-20T05:49:17.562895Z",
     "iopub.status.idle": "2023-03-20T05:49:17.565239Z",
     "shell.execute_reply": "2023-03-20T05:49:17.564975Z"
    }
   },
   "outputs": [
    {
     "name": "stdout",
     "output_type": "stream",
     "text": [
      "0 [Node[1]]\n",
      "1 [Node[2]]\n",
      "2 [Node[0]]\n",
      "3 [Node[1], Node[3], Node[5]]\n",
      "4 []\n",
      "5 [Node[6]]\n",
      "6 []\n"
     ]
    }
   ],
   "source": [
    "def adjmx_to_nodes(G):\n",
    "    nodes = [Node(i) for i in range(len(G))]\n",
    "    for i in range(len(G)):\n",
    "        for j in range(len(G)):\n",
    "            if G[i][j]:\n",
    "                nodes[i].add(nodes[j])\n",
    "    return nodes\n",
    "\n",
    "G2 = adjmx_to_nodes(G)\n",
    "for i, node in enumerate(G2):\n",
    "    print (i, node.successors)\n",
    "\n",
    "# repr_graph(adjmx_to_nodes(G))"
   ]
  },
  {
   "cell_type": "markdown",
   "metadata": {},
   "source": [
    "## Undirected graph\n",
    "\n",
    "Undirected graphs (i.e. when the presence of an edge from `i` to `j` imply the existence of an edge from `j` to `i`) can be represented using the aforementioned representations by *symmetrizing* then - i.e. by forcing the presence of back-edges in the representation.\n",
    "\n",
    "E.g., in the case of adjacency matrix representation, a graph is undirected its adjacency matrix is symmetric. In that case, as an optimization, we could only store the upper part of the adjacency matrix since it is always possible to recover the value $m_{j,i}$ (when $j > i$) from the one of $m_{i,j}$.\n",
    "\n",
    "## Encapsultation\n",
    "\n",
    "In all this notebook, in order the lighten the presentation, we are directly manipulating the representation of graphs. This would be a very bad idea in a real application where the graph representation should be abstracted behing an API. Moreover, doing so would allow the API implementation to swap from one representation to another one depending on the shape of the graphs --- without changing the way the application manipulate the graph. For instance, for graphs with numerous nodes but very few edges, one may want to switch to a adjacency sparse matrix representation."
   ]
  },
  {
   "cell_type": "markdown",
   "metadata": {},
   "source": [
    "# Traversing a Graph\n",
    "\n",
    "In this section, we use the `Node` base representation of graphs.\n",
    "\n",
    "Assume that we want to traverse all the nodes of a given graph. We are going to use them methodology as we did for trees: we start from a node, we apply some operation on it (e.g., we print its value) and the, we recursively visit all the successors:"
   ]
  },
  {
   "cell_type": "code",
   "execution_count": 12,
   "metadata": {
    "execution": {
     "iopub.execute_input": "2023-03-20T05:49:17.566455Z",
     "iopub.status.busy": "2023-03-20T05:49:17.566377Z",
     "iopub.status.idle": "2023-03-20T05:49:17.646700Z",
     "shell.execute_reply": "2023-03-20T05:49:17.646449Z"
    },
    "tags": [
     "raises-exception"
    ]
   },
   "outputs": [
    {
     "name": "stdout",
     "output_type": "stream",
     "text": [
      "3, 1, 2, 0, 1, 2, 0, 1, 2, 0, 1, 2, 0, 1, 2, 0, 1, 2, 0, 1, 2, 0, 1, 2, 0, 1, 2, 0, 1, 2, 0, 1, 2, 0, 1, 2, 0, 1, 2, 0, 1, 2, 0, 1, 2, 0, 1, 2, 0, 1, 2, 0, 1, 2, 0, 1, 2, 0, 1, 2, 0, 1, 2, 0, 1, 2, 0, 1, 2, Unexpected exception formatting exception. Falling back to standard exception\n"
     ]
    },
    {
     "name": "stderr",
     "output_type": "stream",
     "text": [
      "Traceback (most recent call last):\n",
      "  File \"/Users/strubpy/.pyenv/versions/3.10.4/lib/python3.10/site-packages/IPython/core/interactiveshell.py\", line 3442, in run_code\n",
      "    exec(code_obj, self.user_global_ns, self.user_ns)\n",
      "  File \"/var/folders/7p/3n4lkkq94d915jm2fvz906ch0000gn/T/ipykernel_64211/349771589.py\", line 10, in <module>\n",
      "    visit_1(graph[3])\n",
      "  File \"/var/folders/7p/3n4lkkq94d915jm2fvz906ch0000gn/T/ipykernel_64211/349771589.py\", line 7, in visit_1\n",
      "    visit_1(successor)\n",
      "  File \"/var/folders/7p/3n4lkkq94d915jm2fvz906ch0000gn/T/ipykernel_64211/349771589.py\", line 7, in visit_1\n",
      "    visit_1(successor)\n",
      "  File \"/var/folders/7p/3n4lkkq94d915jm2fvz906ch0000gn/T/ipykernel_64211/349771589.py\", line 7, in visit_1\n",
      "    visit_1(successor)\n",
      "  [Previous line repeated 66 more times]\n",
      "  File \"/var/folders/7p/3n4lkkq94d915jm2fvz906ch0000gn/T/ipykernel_64211/349771589.py\", line 4, in visit_1\n",
      "    print(node.label, end = ', ') # Visit the current node\n",
      "  File \"/Users/strubpy/.pyenv/versions/3.10.4/lib/python3.10/site-packages/ipykernel/iostream.py\", line 561, in write\n",
      "    is_child = not self._is_master_process()\n",
      "  File \"/Users/strubpy/.pyenv/versions/3.10.4/lib/python3.10/site-packages/ipykernel/iostream.py\", line 445, in _is_master_process\n",
      "    return os.getpid() == self._master_pid\n",
      "RecursionError: maximum recursion depth exceeded while calling a Python object\n",
      "\n",
      "During handling of the above exception, another exception occurred:\n",
      "\n",
      "Traceback (most recent call last):\n",
      "  File \"/Users/strubpy/.pyenv/versions/3.10.4/lib/python3.10/site-packages/pygments/lexer.py\", line 498, in _process_state\n",
      "    rex = cls._process_regex(tdef[0], rflags, state)\n",
      "  File \"/Users/strubpy/.pyenv/versions/3.10.4/lib/python3.10/site-packages/pygments/lexer.py\", line 426, in _process_regex\n",
      "    regex = regex.get()\n",
      "  File \"/Users/strubpy/.pyenv/versions/3.10.4/lib/python3.10/site-packages/pygments/lexer.py\", line 414, in get\n",
      "    return regex_opt(self.words, prefix=self.prefix, suffix=self.suffix)\n",
      "  File \"/Users/strubpy/.pyenv/versions/3.10.4/lib/python3.10/site-packages/pygments/regexopt.py\", line 91, in regex_opt\n",
      "    return prefix + regex_opt_inner(strings, '(') + suffix\n",
      "  File \"/Users/strubpy/.pyenv/versions/3.10.4/lib/python3.10/site-packages/pygments/regexopt.py\", line 77, in regex_opt_inner\n",
      "    '|'.join(regex_opt_inner(list(group[1]), '')\n",
      "  File \"/Users/strubpy/.pyenv/versions/3.10.4/lib/python3.10/site-packages/pygments/regexopt.py\", line 77, in <genexpr>\n",
      "    '|'.join(regex_opt_inner(list(group[1]), '')\n",
      "  File \"/Users/strubpy/.pyenv/versions/3.10.4/lib/python3.10/site-packages/pygments/regexopt.py\", line 77, in regex_opt_inner\n",
      "    '|'.join(regex_opt_inner(list(group[1]), '')\n",
      "  File \"/Users/strubpy/.pyenv/versions/3.10.4/lib/python3.10/site-packages/pygments/regexopt.py\", line 77, in <genexpr>\n",
      "    '|'.join(regex_opt_inner(list(group[1]), '')\n",
      "  File \"/Users/strubpy/.pyenv/versions/3.10.4/lib/python3.10/site-packages/pygments/regexopt.py\", line 77, in regex_opt_inner\n",
      "    '|'.join(regex_opt_inner(list(group[1]), '')\n",
      "  File \"/Users/strubpy/.pyenv/versions/3.10.4/lib/python3.10/site-packages/pygments/regexopt.py\", line 77, in <genexpr>\n",
      "    '|'.join(regex_opt_inner(list(group[1]), '')\n",
      "  File \"/Users/strubpy/.pyenv/versions/3.10.4/lib/python3.10/site-packages/pygments/regexopt.py\", line 77, in regex_opt_inner\n",
      "    '|'.join(regex_opt_inner(list(group[1]), '')\n",
      "  File \"/Users/strubpy/.pyenv/versions/3.10.4/lib/python3.10/site-packages/pygments/regexopt.py\", line 77, in <genexpr>\n",
      "    '|'.join(regex_opt_inner(list(group[1]), '')\n",
      "  File \"/Users/strubpy/.pyenv/versions/3.10.4/lib/python3.10/site-packages/pygments/regexopt.py\", line 77, in regex_opt_inner\n",
      "    '|'.join(regex_opt_inner(list(group[1]), '')\n",
      "  File \"/Users/strubpy/.pyenv/versions/3.10.4/lib/python3.10/site-packages/pygments/regexopt.py\", line 77, in <genexpr>\n",
      "    '|'.join(regex_opt_inner(list(group[1]), '')\n",
      "  File \"/Users/strubpy/.pyenv/versions/3.10.4/lib/python3.10/site-packages/pygments/regexopt.py\", line 77, in regex_opt_inner\n",
      "    '|'.join(regex_opt_inner(list(group[1]), '')\n",
      "  File \"/Users/strubpy/.pyenv/versions/3.10.4/lib/python3.10/site-packages/pygments/regexopt.py\", line 77, in <genexpr>\n",
      "    '|'.join(regex_opt_inner(list(group[1]), '')\n",
      "  File \"/Users/strubpy/.pyenv/versions/3.10.4/lib/python3.10/site-packages/pygments/regexopt.py\", line 77, in regex_opt_inner\n",
      "    '|'.join(regex_opt_inner(list(group[1]), '')\n",
      "  File \"/Users/strubpy/.pyenv/versions/3.10.4/lib/python3.10/site-packages/pygments/regexopt.py\", line 77, in <genexpr>\n",
      "    '|'.join(regex_opt_inner(list(group[1]), '')\n",
      "  File \"/Users/strubpy/.pyenv/versions/3.10.4/lib/python3.10/site-packages/pygments/regexopt.py\", line 77, in regex_opt_inner\n",
      "    '|'.join(regex_opt_inner(list(group[1]), '')\n",
      "  File \"/Users/strubpy/.pyenv/versions/3.10.4/lib/python3.10/site-packages/pygments/regexopt.py\", line 77, in <genexpr>\n",
      "    '|'.join(regex_opt_inner(list(group[1]), '')\n",
      "  File \"/Users/strubpy/.pyenv/versions/3.10.4/lib/python3.10/site-packages/pygments/regexopt.py\", line 77, in regex_opt_inner\n",
      "    '|'.join(regex_opt_inner(list(group[1]), '')\n",
      "  File \"/Users/strubpy/.pyenv/versions/3.10.4/lib/python3.10/site-packages/pygments/regexopt.py\", line 77, in <genexpr>\n",
      "    '|'.join(regex_opt_inner(list(group[1]), '')\n",
      "  File \"/Users/strubpy/.pyenv/versions/3.10.4/lib/python3.10/site-packages/pygments/regexopt.py\", line 77, in regex_opt_inner\n",
      "    '|'.join(regex_opt_inner(list(group[1]), '')\n",
      "  File \"/Users/strubpy/.pyenv/versions/3.10.4/lib/python3.10/site-packages/pygments/regexopt.py\", line 77, in <genexpr>\n",
      "    '|'.join(regex_opt_inner(list(group[1]), '')\n",
      "  File \"/Users/strubpy/.pyenv/versions/3.10.4/lib/python3.10/site-packages/pygments/regexopt.py\", line 77, in regex_opt_inner\n",
      "    '|'.join(regex_opt_inner(list(group[1]), '')\n",
      "  File \"/Users/strubpy/.pyenv/versions/3.10.4/lib/python3.10/site-packages/pygments/regexopt.py\", line 77, in <genexpr>\n",
      "    '|'.join(regex_opt_inner(list(group[1]), '')\n",
      "  File \"/Users/strubpy/.pyenv/versions/3.10.4/lib/python3.10/site-packages/pygments/regexopt.py\", line 77, in regex_opt_inner\n",
      "    '|'.join(regex_opt_inner(list(group[1]), '')\n",
      "  File \"/Users/strubpy/.pyenv/versions/3.10.4/lib/python3.10/site-packages/pygments/regexopt.py\", line 77, in <genexpr>\n",
      "    '|'.join(regex_opt_inner(list(group[1]), '')\n",
      "  File \"/Users/strubpy/.pyenv/versions/3.10.4/lib/python3.10/site-packages/pygments/regexopt.py\", line 77, in regex_opt_inner\n",
      "    '|'.join(regex_opt_inner(list(group[1]), '')\n",
      "  File \"/Users/strubpy/.pyenv/versions/3.10.4/lib/python3.10/site-packages/pygments/regexopt.py\", line 77, in <genexpr>\n",
      "    '|'.join(regex_opt_inner(list(group[1]), '')\n",
      "  File \"/Users/strubpy/.pyenv/versions/3.10.4/lib/python3.10/site-packages/pygments/regexopt.py\", line 77, in regex_opt_inner\n",
      "    '|'.join(regex_opt_inner(list(group[1]), '')\n",
      "  File \"/Users/strubpy/.pyenv/versions/3.10.4/lib/python3.10/site-packages/pygments/regexopt.py\", line 77, in <genexpr>\n",
      "    '|'.join(regex_opt_inner(list(group[1]), '')\n",
      "  File \"/Users/strubpy/.pyenv/versions/3.10.4/lib/python3.10/site-packages/pygments/regexopt.py\", line 63, in regex_opt_inner\n",
      "    + regex_opt_inner([s[plen:] for s in strings], '(?:') \\\n",
      "  File \"/Users/strubpy/.pyenv/versions/3.10.4/lib/python3.10/site-packages/pygments/regexopt.py\", line 77, in regex_opt_inner\n",
      "    '|'.join(regex_opt_inner(list(group[1]), '')\n",
      "  File \"/Users/strubpy/.pyenv/versions/3.10.4/lib/python3.10/site-packages/pygments/regexopt.py\", line 77, in <genexpr>\n",
      "    '|'.join(regex_opt_inner(list(group[1]), '')\n",
      "  File \"/Users/strubpy/.pyenv/versions/3.10.4/lib/python3.10/site-packages/pygments/regexopt.py\", line 77, in regex_opt_inner\n",
      "    '|'.join(regex_opt_inner(list(group[1]), '')\n",
      "  File \"/Users/strubpy/.pyenv/versions/3.10.4/lib/python3.10/site-packages/pygments/regexopt.py\", line 77, in <genexpr>\n",
      "    '|'.join(regex_opt_inner(list(group[1]), '')\n",
      "  File \"/Users/strubpy/.pyenv/versions/3.10.4/lib/python3.10/site-packages/pygments/regexopt.py\", line 77, in regex_opt_inner\n",
      "    '|'.join(regex_opt_inner(list(group[1]), '')\n",
      "  File \"/Users/strubpy/.pyenv/versions/3.10.4/lib/python3.10/site-packages/pygments/regexopt.py\", line 77, in <genexpr>\n",
      "    '|'.join(regex_opt_inner(list(group[1]), '')\n",
      "  File \"/Users/strubpy/.pyenv/versions/3.10.4/lib/python3.10/site-packages/pygments/regexopt.py\", line 36, in regex_opt_inner\n",
      "    return open_paren + escape(first) + close_paren\n",
      "  File \"/Users/strubpy/.pyenv/versions/3.10.4/lib/python3.10/re.py\", line 273, in escape\n",
      "    if isinstance(pattern, str):\n",
      "RecursionError: maximum recursion depth exceeded while calling a Python object\n",
      "\n",
      "The above exception was the direct cause of the following exception:\n",
      "\n",
      "Traceback (most recent call last):\n",
      "  File \"/Users/strubpy/.pyenv/versions/3.10.4/lib/python3.10/site-packages/IPython/core/interactiveshell.py\", line 2057, in showtraceback\n",
      "    stb = self.InteractiveTB.structured_traceback(\n",
      "  File \"/Users/strubpy/.pyenv/versions/3.10.4/lib/python3.10/site-packages/IPython/core/ultratb.py\", line 1118, in structured_traceback\n",
      "    return FormattedTB.structured_traceback(\n",
      "  File \"/Users/strubpy/.pyenv/versions/3.10.4/lib/python3.10/site-packages/IPython/core/ultratb.py\", line 1012, in structured_traceback\n",
      "    return VerboseTB.structured_traceback(\n",
      "  File \"/Users/strubpy/.pyenv/versions/3.10.4/lib/python3.10/site-packages/IPython/core/ultratb.py\", line 865, in structured_traceback\n",
      "    formatted_exception = self.format_exception_as_a_whole(etype, evalue, etb, number_of_lines_of_context,\n",
      "  File \"/Users/strubpy/.pyenv/versions/3.10.4/lib/python3.10/site-packages/IPython/core/ultratb.py\", line 818, in format_exception_as_a_whole\n",
      "    frames.append(self.format_record(r))\n",
      "  File \"/Users/strubpy/.pyenv/versions/3.10.4/lib/python3.10/site-packages/IPython/core/ultratb.py\", line 736, in format_record\n",
      "    result += ''.join(_format_traceback_lines(frame_info.lines, Colors, self.has_colors, lvals))\n",
      "  File \"/Users/strubpy/.pyenv/versions/3.10.4/lib/python3.10/site-packages/IPython/core/ultratb.py\", line 155, in _format_traceback_lines\n",
      "    line = stack_line.render(pygmented=has_colors).rstrip('\\n') + '\\n'\n",
      "  File \"/Users/strubpy/.pyenv/versions/3.10.4/lib/python3.10/site-packages/stack_data/core.py\", line 391, in render\n",
      "    start_line, lines = self.frame_info._pygmented_scope_lines\n",
      "  File \"/Users/strubpy/.pyenv/versions/3.10.4/lib/python3.10/site-packages/stack_data/utils.py\", line 144, in cached_property_wrapper\n",
      "    value = obj.__dict__[self.func.__name__] = self.func(obj)\n",
      "  File \"/Users/strubpy/.pyenv/versions/3.10.4/lib/python3.10/site-packages/stack_data/core.py\", line 824, in _pygmented_scope_lines\n",
      "    lines = _pygmented_with_ranges(formatter, code, ranges)\n",
      "  File \"/Users/strubpy/.pyenv/versions/3.10.4/lib/python3.10/site-packages/stack_data/utils.py\", line 154, in _pygmented_with_ranges\n",
      "    class MyLexer(type(get_lexer_by_name(\"python3\"))):\n",
      "  File \"/Users/strubpy/.pyenv/versions/3.10.4/lib/python3.10/site-packages/pygments/lexers/__init__.py\", line 107, in get_lexer_by_name\n",
      "    return _lexer_cache[name](**options)\n",
      "  File \"/Users/strubpy/.pyenv/versions/3.10.4/lib/python3.10/site-packages/pygments/lexer.py\", line 580, in __call__\n",
      "    cls._tokens = cls.process_tokendef('', cls.get_tokendefs())\n",
      "  File \"/Users/strubpy/.pyenv/versions/3.10.4/lib/python3.10/site-packages/pygments/lexer.py\", line 519, in process_tokendef\n",
      "    cls._process_state(tokendefs, processed, state)\n",
      "  File \"/Users/strubpy/.pyenv/versions/3.10.4/lib/python3.10/site-packages/pygments/lexer.py\", line 482, in _process_state\n",
      "    tokens.extend(cls._process_state(unprocessed, processed,\n",
      "  File \"/Users/strubpy/.pyenv/versions/3.10.4/lib/python3.10/site-packages/pygments/lexer.py\", line 482, in _process_state\n",
      "    tokens.extend(cls._process_state(unprocessed, processed,\n",
      "  File \"/Users/strubpy/.pyenv/versions/3.10.4/lib/python3.10/site-packages/pygments/lexer.py\", line 500, in _process_state\n",
      "    raise ValueError(\"uncompilable regex %r in state %r of %r: %s\" %\n",
      "ValueError: uncompilable regex <pygments.lexer.words object at 0x11839b730> in state 'builtins' of <class 'pygments.lexers.python.PythonLexer'>: maximum recursion depth exceeded while calling a Python object\n"
     ]
    }
   ],
   "source": [
    "def visit_1(node):\n",
    "    \"\"\" Visit a graph from node `node`, printing\n",
    "        all the visited labels\"\"\"\n",
    "    print(node.label, end = ', ') # Visit the current node\n",
    "    for successor in node.successors:\n",
    "         # Recursively visit all the successors of `node`\n",
    "        visit_1(successor)\n",
    "\n",
    "# Print all the labels of the graph `graph`, starting at node `3`\n",
    "visit_1(graph[3])\n",
    "    "
   ]
  },
  {
   "cell_type": "markdown",
   "metadata": {},
   "source": [
    "As you can see, we have a problem here: we are visiting the nodes $0$, $1$, $2$ over and over, in a cycle, up to a point where we exhaust the system stack. If we look more carefully, we indeed see that from the node $3$, following the edges, we reach a cycle $1 \\rightarrow 2 \\rightarrow 0 \\rightarrow 1$. In trees, this scenario was not possible since trees are acyclic structures. For graphs, we may have cycles and we hence need to remember which nodes we already visited.\n",
    "\n",
    "This gives the following implementation:"
   ]
  },
  {
   "cell_type": "code",
   "execution_count": 13,
   "metadata": {
    "execution": {
     "iopub.execute_input": "2023-03-20T05:49:17.648133Z",
     "iopub.status.busy": "2023-03-20T05:49:17.648028Z",
     "iopub.status.idle": "2023-03-20T05:49:17.650372Z",
     "shell.execute_reply": "2023-03-20T05:49:17.650128Z"
    }
   },
   "outputs": [
    {
     "name": "stdout",
     "output_type": "stream",
     "text": [
      "3\n",
      "1\n",
      "2\n",
      "0\n",
      "5\n",
      "6\n",
      "{0, 1, 2, 3, 5, 6}\n"
     ]
    }
   ],
   "source": [
    "def visit(node, visited):\n",
    "    \"\"\" Visit a graph from node `node`, applying `cb` on\n",
    "        all the visited labels. The variable `visited` is\n",
    "        a set that contains the labels of all the nodes that\n",
    "        we already visited.\"\"\"\n",
    "    if node.label in visited:\n",
    "        # If `node` has already been visited, we stop\n",
    "        return\n",
    "    print(node.label)       # We visit `node`...\n",
    "    visited.add(node.label) # ...and we store that it has been visited\n",
    "    for succ in node.successors:\n",
    "        # Then, we recursively visit all the successors of `node`\n",
    "        visit(succ, visited)\n",
    "\n",
    "S = set()\n",
    "visit(graph[3], S)\n",
    "print(S)\n"
   ]
  },
  {
   "cell_type": "markdown",
   "metadata": {},
   "source": [
    "Note that there is one node that hasn't been visited: the one labeled with `4`. This comes from the fact that `4` is not reachable from `3` - a graph, unlike a tree, might not be fully connected.\n",
    "\n",
    "The strategy we used for graph traversal is called a Depth-first search (DFS) strategy. In DFS, the traversal starts at the considered node and explores as far as possible along each path in the graph before backtracking.\n",
    "\n",
    "For example, in our case, starting from the node `3`, we have $3$ successors: `1`, `3` and `5`. We first go to `1` and will explore all the paths from `1` --- since we are in DFS, we will only consider the nodes `3` and `5` when we are done with the paths rooted at `1`. From `1`, there is only one path: `1` $\\rightarrow$ `2` $\\rightarrow$ `0`. Arrived at `0`, we stop since `1` has already been visited. Hence, we backtrack. The last choice has been made at the node `3`, where we decided to go for `1`, but we had two other choices: `3` and `5`. We then take the next one (`3`) that brings to a dead end (`3` has already been visited). We then backtrack again and follow `5`. The choice leads to the path `5` $\\rightarrow$ `6`. At the end of that path, we cannot backtrack anymore (we explored all the possible choices) and we are done."
   ]
  },
  {
   "cell_type": "markdown",
   "metadata": {},
   "source": [
    "The animated image below shows the order in which nodes are visited. The node in red is the node we are visiting, whereas the nodes in yellow are the ones we fully visited (i.e. we followed all the path starting at that node). Last, the node in blue are the nodes along the path we are currently on. At the top of the image, we display the list of nodes being visited (i.e. the active one in addition to the ones we still have to backtrack over). You can see that this list has the behaviour of a *stack*.\n",
    "\n",
    "<img src=\"files/dfs.gif\" style=\"max-height: 250px;\"></img>\n",
    "\n",
    "This gives us a hint that DFS could be implemented using iteratively using a stack, as follow:"
   ]
  },
  {
   "cell_type": "code",
   "execution_count": 14,
   "metadata": {
    "execution": {
     "iopub.execute_input": "2023-03-20T05:49:17.651645Z",
     "iopub.status.busy": "2023-03-20T05:49:17.651547Z",
     "iopub.status.idle": "2023-03-20T05:49:17.653840Z",
     "shell.execute_reply": "2023-03-20T05:49:17.653595Z"
    }
   },
   "outputs": [
    {
     "name": "stdout",
     "output_type": "stream",
     "text": [
      "Pop\n",
      "3\n",
      "Push Node[5]\n",
      "Push Node[3]\n",
      "Push Node[1]\n",
      "Pop\n",
      "1\n",
      "Push Node[2]\n",
      "Pop\n",
      "2\n",
      "Push Node[0]\n",
      "Pop\n",
      "0\n",
      "Push Node[1]\n",
      "Pop\n",
      "Pop\n",
      "Pop\n",
      "5\n",
      "Push Node[6]\n",
      "Pop\n",
      "6\n"
     ]
    }
   ],
   "source": [
    "def dfs_iter(node):\n",
    "    stack, visited = Stack([node]), set()\n",
    "    # `stack` contains the nodes we have to visit\n",
    "    while stack:\n",
    "        node = stack.pop()\n",
    "        if node.label in visited:\n",
    "            # If the node has been visited, we skip it\n",
    "            continue\n",
    "        # Otherwise, we register we visited it...\n",
    "        visited.add(node.label)\n",
    "        # ...do something with its label...\n",
    "        print(node.label)\n",
    "        # ...and register all its successors in `stack`\n",
    "        for subnode in reversed(node.successors):\n",
    "            stack.push(subnode)\n",
    "        \n",
    "dfs_iter(graph[3])\n"
   ]
  },
  {
   "cell_type": "markdown",
   "metadata": {},
   "source": [
    "What happens if we use a queue instead of a stack:"
   ]
  },
  {
   "cell_type": "code",
   "execution_count": 15,
   "metadata": {
    "execution": {
     "iopub.execute_input": "2023-03-20T05:49:17.655023Z",
     "iopub.status.busy": "2023-03-20T05:49:17.654925Z",
     "iopub.status.idle": "2023-03-20T05:49:17.657189Z",
     "shell.execute_reply": "2023-03-20T05:49:17.656960Z"
    }
   },
   "outputs": [
    {
     "name": "stdout",
     "output_type": "stream",
     "text": [
      "Dequeue\n",
      "3\n",
      "Enqueue: Node[1]\n",
      "Enqueue: Node[3]\n",
      "Enqueue: Node[5]\n",
      "Dequeue\n",
      "1\n",
      "Enqueue: Node[2]\n",
      "Dequeue\n",
      "Dequeue\n",
      "5\n",
      "Enqueue: Node[6]\n",
      "Dequeue\n",
      "2\n",
      "Enqueue: Node[0]\n",
      "Dequeue\n",
      "6\n",
      "Dequeue\n",
      "0\n",
      "Enqueue: Node[1]\n",
      "Dequeue\n"
     ]
    }
   ],
   "source": [
    "def bfs_iter(node, cb):\n",
    "    queue, visited = Queue([node]), set()\n",
    "    # `queue` contains the nodes we have to visit\n",
    "    while queue:\n",
    "        node = queue.dequeue()\n",
    "        if node.label in visited:\n",
    "            # If the node has been visited, we skip it\n",
    "            continue\n",
    "        # Otherwise, we register we visited it...\n",
    "        visited.add(node.label)\n",
    "        # ...do something with its label...\n",
    "        cb(node.label)\n",
    "        # ...and register all its successors in `stack`\n",
    "        for subnode in node.successors:\n",
    "            queue.enqueue(subnode)\n",
    "        \n",
    "bfs_iter(graph[3], print)\n"
   ]
  },
  {
   "cell_type": "markdown",
   "metadata": {},
   "source": [
    "Then, we still obtain a graph traversal algorithm, but the order in which we visit the node is different. In image, we obtain this:\n",
    "\n",
    "<img src=\"files/bfs.gif\" style=\"max-height: 250px;\"></img>\n",
    "\n",
    "As you can see, we here visit the starting node, then all the nodes that are at distance $1$ from the starting node, then all the nodes that are at distance $2$ from the starting node, etc, etc... This traversal is called Breadth-first search (BFS).\n",
    "\n",
    "Depending on the algorithm you want to implement, you may need to use DFS or BFS. E.g., for searching the minimal path (in term of numbers of edges) between two vertices, BFS is the way to go since during a BFS, we always reach a vertex from given source using the minimum number of edges."
   ]
  },
  {
   "cell_type": "markdown",
   "metadata": {},
   "source": [
    "# Weighted graphs\n",
    "\n",
    "Sometimes, we need to store data along with edges. E.g., to each label, we may want to attach a weight representing the travel time between two nodes that in turn represent cities.\n",
    "\n",
    "For example, in the adjacency matrix model, this is possible by storing the data directly in the matrix. If `m` is an adjancy matrix, then `m[i][j]` is `None` if there is no arcs between `i` and `j`. Otherwise, there exists an arc between the two nodes and `m[i][j]` is the data attached to that arc.\n",
    "\n",
    "Consider the following weighted (undirected) graph:\n",
    "\n",
    "<img src=\"files/wgraph.png\" style=\"max-width: 350px;\"></img>\n",
    "\n",
    "<!--\n",
    "graph {\n",
    "    node [margin=0 fontsize=12 width=0.5 shape=circle style=filled]\n",
    "    rankdir=\"LR\";\n",
    "    1 -- 2[label=\"7\"];\n",
    "    1 -- 3[label=\"9\"];\n",
    "    1 -- 6[label=\"14\"];\n",
    "    2 -- 3[label=\"10\"];\n",
    "    2 -- 4[label=\"15\"];\n",
    "    3 -- 4[label=\"11\"];\n",
    "    3 -- 6[label=\"2\"];\n",
    "    4 -- 5[label=\"6\"];\n",
    "    5 -- 6[label=\"9\"];\n",
    "}\n",
    "-->\n",
    "\n",
    "The, we can use the following matrix for its adjacency matrix representation:"
   ]
  },
  {
   "cell_type": "code",
   "execution_count": 16,
   "metadata": {
    "execution": {
     "iopub.execute_input": "2023-03-20T05:49:17.658519Z",
     "iopub.status.busy": "2023-03-20T05:49:17.658397Z",
     "iopub.status.idle": "2023-03-20T05:49:17.661158Z",
     "shell.execute_reply": "2023-03-20T05:49:17.660843Z"
    }
   },
   "outputs": [
    {
     "name": "stdout",
     "output_type": "stream",
     "text": [
      "[[None, 7, 9, None, None, 14], [7, None, 10, 15, None, None], [9, 10, None, 11, None, 2], [None, 15, 11, None, 6, None], [None, None, None, 6, None, 9], [14, None, 2, None, 9, None]]\n"
     ]
    }
   ],
   "source": [
    "wG = [\n",
    "    [None,    7,    9, None, None,   14],\n",
    "    [None, None,   10,   15, None, None],\n",
    "    [None, None, None,   11, None,    2],\n",
    "    [None, None, None, None,    6, None],\n",
    "    [None, None, None, None, None,    9],\n",
    "    [None, None, None, None, None, None],\n",
    "]\n",
    "\n",
    "# We symetrize G because G is undirected\n",
    "for i in range(len(wG)):\n",
    "    for j in range(i):\n",
    "        wG[i][j] = wG[j][i]\n",
    "del i, j\n",
    "\n",
    "print(wG)"
   ]
  },
  {
   "cell_type": "markdown",
   "metadata": {},
   "source": [
    "Using this representation, we can implement Dijkstra algorithm (seen in CSE103):"
   ]
  },
  {
   "cell_type": "code",
   "execution_count": 17,
   "metadata": {
    "execution": {
     "iopub.execute_input": "2023-03-20T05:49:17.662501Z",
     "iopub.status.busy": "2023-03-20T05:49:17.662376Z",
     "iopub.status.idle": "2023-03-20T05:49:17.665792Z",
     "shell.execute_reply": "2023-03-20T05:49:17.665537Z"
    }
   },
   "outputs": [
    {
     "name": "stdout",
     "output_type": "stream",
     "text": [
      "[0, 7, 9, 20, 20, 11]\n"
     ]
    }
   ],
   "source": [
    "def dijkstra(graph, start):\n",
    "    import math\n",
    "    \n",
    "    # For storing the visited nodes\n",
    "    visited = [False for _ in range(len(graph))]\n",
    "\n",
    "    # Initialize all distances from `start` \n",
    "    distances = [math.inf for _ in range(len(graph))]\n",
    "    distances[start] = 0\n",
    "\n",
    "    while True:\n",
    "        # Among the non-visited nodes, find the one with the\n",
    "        # currently shortest distance from the start node\n",
    "        min_distance = math.inf\n",
    "        min_index    = None\n",
    "        for i in range(len(graph)):\n",
    "            if distances[i] < min_distance and not visited[i]:\n",
    "                min_index, min_distance = i, distances[i]\n",
    "\n",
    "        if min_index is None:\n",
    "            # All nodes have been visited. We are done.\n",
    "            return distances\n",
    "\n",
    "        # For all non-visited neighboring nodes...\n",
    "        for i in range(len(graph[min_index])):\n",
    "            if graph[min_index][i] is not None:\n",
    "                # ...if going through this edge is shorter...\n",
    "                if distances[i] > distances[min_index] + graph[min_index][i]:\n",
    "                    # ...save it\n",
    "                    distances[i] = distances[min_index] + graph[min_index][i]\n",
    "\n",
    "        visited[min_index] = True\n",
    "        \n",
    "print(dijkstra(wG, 0))\n"
   ]
  }
 ],
 "metadata": {
  "celltoolbar": "Format de la Cellule Texte Brut",
  "kernelspec": {
   "display_name": "Python 3",
   "language": "python",
   "name": "python3"
  },
  "language_info": {
   "codemirror_mode": {
    "name": "ipython",
    "version": 3
   },
   "file_extension": ".py",
   "mimetype": "text/x-python",
   "name": "python",
   "nbconvert_exporter": "python",
   "pygments_lexer": "ipython3",
   "version": "3.10.4"
  }
 },
 "nbformat": 4,
 "nbformat_minor": 4
}
