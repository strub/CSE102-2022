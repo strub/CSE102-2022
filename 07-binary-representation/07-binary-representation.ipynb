{
 "cells": [
  {
   "cell_type": "markdown",
   "metadata": {},
   "source": [
    "# Binary representation\n",
    "\n",
    "<div style=\"display:none\">\n",
    "$\\newcommand{\\nat}[1]{\\overline{#1}}$\n",
    "$\\newcommand{\\word}{\\mathcal{W}}$\n",
    "$\\newcommand{\\bits}[1]{\\text{0b}{#1}}$\n",
    "$\\newcommand{\\lift}[1]{\\overline{#1}}$\n",
    "$\\newcommand{\\bor}{\\mathrel{|}}$\n",
    "$\\newcommand{\\band}{\\mathrel{\\&}}$\n",
    "$\\newcommand{\\bxor}{\\mathrel{\\wedge}}$\n",
    "$\\newcommand{\\bnot}{\\mathrel{\\sim}}$\n",
    "$\\newcommand{\\lsl}{\\mathrel{<<}}$\n",
    "$\\newcommand{\\lsr}{\\mathrel{>>}}$\n",
    "</div>\n",
    "\n",
    "The bit is the simplest unit in a digital numbering system, which can take only two values, usually designated by the digits $0$ and $1$. A bit can represent both a logical alternative, expressed as *false* and *true*, as well as a digit of the binary system. The word *bit* is a contraction of the English words *binary digit*. It was popularized by Claude Shannon.\n",
    "\n",
    "The bit is at the core of digital systems because there are many technical means of encoding binary information. E.g., magnetic polarization (for storage), electric current or voltage, light intensity (for transmission). Therefore, at a core level, all digital data is just a stream of $0$s and $1$s.\n",
    "\n",
    "However, a computer does not inherently know what an integer, a string, a function, etc. are; rather, we (as computer scientist) must decide how to represent all such concepts by encoding them as sequences of $0$s and $1$s. \n",
    "(These encodings may change over time and between systems, but two systems that use the same encoding are able to exchange and process data in common).\n",
    "\n",
    "Bits are rarely encoutered in isolation. Instead, they are packed into units of 8 bits, called *bytes*. A byte is the smallest chunk of data of computer can process and allows to encode up to $2^8 = 256$ values whose binary codes are among:\n",
    "\n",
    "$$00000000 \\quad 00000001 \\quad 00000010 \\quad \\cdots \\quad 11111110 \\quad 11111111$$\n",
    "\n",
    "The canonical interpretation of a byte is the natural number that is represented by the standard positional interpretation as a binary number. That is, if I have a byte $B$ that consists of the bits $b_7 b_6 b_5 b_4 b_3 b_2 b_1 b_0$, then its associated natural number $\\nat{B}$ is:\n",
    "\n",
    "$$\n",
    "\\nat{B} = \\sum_{0 \\leq i < 8} 2^i \\cdot b_i\n",
    "$$\n",
    "\n",
    "For example, if $B = 10101010$, then $\\nat{B} = 170$.\n",
    "\n",
    "Most of the time, bytes are aggregated into a larger structure called a machine **word**. A machine word (or word) is a basic unit manipulated by a microprocessor. Most of the operations of a microprocessor works on machine words. On modern architectures, words are usually 64-bits long, i.e. 8-bytes long, and allows to encore up to $2^{64}$ different values. The canonical interpretation of words is the same as the one for bytes: if $w = b_{n-1} b_{n-2} \\ldots b_1 b_0$ is a $n$-bit word, then its associated natural number $\\nat{w}$ is:\n",
    "\n",
    "$$\n",
    "\\nat{w} = \\sum_{0 \\leq i < n} 2^i \\cdot b_i\n",
    "$$\n",
    "\n",
    "In a word, we distinguish two bits: the most significant bit (MSB) $b_{n-1}$ and the least signicant bit (LSB) $b_0$. The most significant bit (MSB) is the bit, in a given binary representation, having the greatest weight (i.e. power of $2$) or position (the one on the left in the usual positional notation). Likewise, the least significant bit (MSB) is the bit, in a given binary representation, having the lowest weight (i.e. power of $2$) or position (the one on the right in the usual positional notation). Moreover, for a given work $w$, we write $[w]_i$ for denoting its $i$-th bit, counting from the LSB up-to the MSB - i.e. $[w]_0$ is the LSB of $w$ and $[w]_{n-1}$ is its MSB.\n",
    "\n",
    "We denote by $\\word_n$ the set of $n$-bit words. We write $\\word_\\infty$ for infinity long words that only have a finite number of bits that are non-zero - i.e. they are words that are lead by an infinite number of $0$s that are left implicit. This is not different from the decimal notation where the leading $0$s are left implicit (i.e. $14 = \\cdots 0 \\cdots 014$). Last, we write $\\word$ instead of $\\word_k$ when the size is left implicit."
   ]
  },
  {
   "cell_type": "markdown",
   "metadata": {},
   "source": [
    "## Bit representation\n",
    "\n",
    "In python, it is not possible to manipulate bytes or machine words directly. This must be done via the `int` type values (in that case, a non-negative integer represents the machine word whose canonical value (as defined above) is the integer under consideration). Thus, if we are interested in the $10101010$ byte, whose value as a natural number is $170$, we will have to manipulate the integer $170$ directly.\n",
    "\n",
    "**Note**: in Python, the type `int` stands for the type of arbitrary long integers - the only limit is your computer memory. This is quite unusual - most programming languages use the machine words are their core `int` type and all arithmetic is done modulo $2^n$, where $n$ is the word size on the underlying architecture. As a consequence, in Python, the size of words are arbitrary too. All the sections here after can be understood regardless of wether we are using fixed-size machine words or arbitrary long words, with the notable exceptions of the right-shifts, bitwise negations.\n",
    "\n",
    "Python offers the `bin` function that produces a Python string (i.e., a value a type `str`) made up of the characters `0` and `1` and which contains the bit representation of the argument of the function. E.g., when applied to $170$, the function outputs the string `0b10101010` - as expected, since the canonical value associated to the byte $10101010$ is indeed $170$. (Note that the string is prefixed with `0b` as a way to indicate that it represents a binary value and not the decimal number `10101010`. Also note that Python understands code literals (i.e. values that you put in your programs) in binary format, i.e. prefixed with `0b`, as examplified below:"
   ]
  },
  {
   "cell_type": "code",
   "execution_count": 1,
   "metadata": {
    "execution": {
     "iopub.execute_input": "2023-03-26T13:50:53.064962Z",
     "iopub.status.busy": "2023-03-26T13:50:53.063945Z",
     "iopub.status.idle": "2023-03-26T13:50:53.079241Z",
     "shell.execute_reply": "2023-03-26T13:50:53.078526Z"
    }
   },
   "outputs": [
    {
     "name": "stdout",
     "output_type": "stream",
     "text": [
      "0b10101010\n",
      "170\n"
     ]
    }
   ],
   "source": [
    "print(bin(170))    # Get the binary representation of 170\n",
    "print(0b10101010)  # A python literal expressed using its binary form"
   ]
  },
  {
   "cell_type": "markdown",
   "metadata": {},
   "source": [
    "Dually, you can convert back a string containing the binary representation of an integer using the `int` function. (Note the second argument of `int` - without it, the string would be interpreted in decimal notation):"
   ]
  },
  {
   "cell_type": "code",
   "execution_count": 2,
   "metadata": {
    "execution": {
     "iopub.execute_input": "2023-03-26T13:50:53.119538Z",
     "iopub.status.busy": "2023-03-26T13:50:53.119296Z",
     "iopub.status.idle": "2023-03-26T13:50:53.121812Z",
     "shell.execute_reply": "2023-03-26T13:50:53.121438Z"
    }
   },
   "outputs": [
    {
     "name": "stdout",
     "output_type": "stream",
     "text": [
      "10101010\n",
      "170\n"
     ]
    }
   ],
   "source": [
    "print(int('10101010'))\n",
    "print(int('10101010', 2))"
   ]
  },
  {
   "cell_type": "markdown",
   "metadata": {},
   "source": [
    "Below, I am defining a function that is a variant of `bin` that adds leading `0`s to a binary representation s.t. the number contains at least `n` digits. This function will be used later and will help with readability."
   ]
  },
  {
   "cell_type": "code",
   "execution_count": 3,
   "metadata": {
    "execution": {
     "iopub.execute_input": "2023-03-26T13:50:53.123468Z",
     "iopub.status.busy": "2023-03-26T13:50:53.123330Z",
     "iopub.status.idle": "2023-03-26T13:50:53.125426Z",
     "shell.execute_reply": "2023-03-26T13:50:53.125143Z"
    }
   },
   "outputs": [],
   "source": [
    "def binpad(x, n = 0):\n",
    "    assert(0 <= x)\n",
    "    return '0b' + f'{x:0b}'.rjust(n, '0')"
   ]
  },
  {
   "cell_type": "markdown",
   "metadata": {},
   "source": [
    "## Manipulating binary representations\n",
    "\n",
    "### Bitwise lifting\n",
    "\n",
    "The simplest bit manipulation functions are the bitwise lifting ones. Assume that we have a function $f : \\{0,1\\}^k \\to \\{0,1\\}$ for some fixed $k$. The lifting of $f$ to words, written $\\lift{f} : \\word^k \\mapsto \\word$, is defined as the function that applies $f$ independently on all the bits of its $k$ input word:\n",
    "\n",
    "$$\n",
    "[\\lift{f}(w^1,\\ldots,w^k)]_i = f([w^1]_i,\\ldots,[w^k]_i)\n",
    "$$\n",
    "\n",
    "When clear from the context, we write $f$ for $\\lift{f}$. In the unary case ($k = 1$), we obtain the following word transformer:\n",
    "\n",
    "<figure>\n",
    "<img src=\"files/bitwise.png\" style=\"height:100px;\"></img>\n",
    "</figure>\n",
    "\n",
    "and the following one in the binary case ($k = 2$):\n",
    "\n",
    "<figure>\n",
    "<img src=\"files/bitwise2.png\" style=\"height:130px;\"></img>\n",
    "</figure>\n",
    "\n",
    "Regarding the usual $f$, there are 4 standard operators:\n",
    "  - **or** (written $\\bor$ in infix form), where $b_1 \\bor b_2$ is equal to $1$ iff one of $b_1$ or $b_2$ is equal to $1$;\n",
    "  - **and** (written $\\band$ in infix form), where $b_1 \\band b_2$ if equal to $1$ iff both of $b_1$ and $b_2$ are equal to $1$;\n",
    "  - **exclusive or** or **xor** (written $\\bxor$ in infix form), where $b_1 \\bxor b_2$ is equal to $1$ is *exactly* one of $b_1$ or $b_2$ is equal to $1$ (i.e. $1 \\bxor 1 = 0$); and\n",
    "  - **not** (written $\\bnot$ in prefix form), where $\\bnot 1 = 0$ and $\\bnot 0 = 1$.\n",
    "\n",
    "We sum up the definition of these 4 operators in the tables below:\n",
    "\n",
    "| $b_1$ | $b_2$ | $b_1 \\bor b_2$ | $b_1 \\band b_2$ | $b_1 \\bxor b_2$ | $\\bnot b_2$ |\n",
    "|:-----:|:-----:|:--------------:|:---------------:|:---------------:|:-----------:|\n",
    "|  $0$  |  $0$  |       $0$      |       $0$       |       $0$       |     $1$     |\n",
    "|  $0$  |  $1$  |       $1$      |       $0$       |       $1$       |     $0$     |\n",
    "|  $1$  |  $0$  |       $1$      |       $0$       |       $1$       |             |\n",
    "|  $1$  |  $1$  |       $1$      |       $1$       |       $0$       |             |\n",
    "\n",
    "The respective Python operators are `|`, `&`, `^` and `~`. We give below a few examples of bitwise operators evaluations in Python:"
   ]
  },
  {
   "cell_type": "code",
   "execution_count": 4,
   "metadata": {
    "execution": {
     "iopub.execute_input": "2023-03-26T13:50:53.126919Z",
     "iopub.status.busy": "2023-03-26T13:50:53.126788Z",
     "iopub.status.idle": "2023-03-26T13:50:53.129358Z",
     "shell.execute_reply": "2023-03-26T13:50:53.129041Z"
    }
   },
   "outputs": [
    {
     "name": "stdout",
     "output_type": "stream",
     "text": [
      "i     = 0b10101010\n",
      "j     = 0b00000111\n",
      "i | j = 0b10101111\n",
      "i & j = 0b00000010\n",
      "i ^ j = 0b10101101\n"
     ]
    }
   ],
   "source": [
    "i = 0b10101010\n",
    "j = 0b00000111\n",
    "\n",
    "print(\"i     =\", binpad(i    , 8))\n",
    "print(\"j     =\", binpad(j    , 8))\n",
    "print(\"i | j =\", binpad(i | j, 8))\n",
    "print(\"i & j =\", binpad(i & j, 8))\n",
    "print(\"i ^ j =\", binpad(i ^ j, 8))"
   ]
  },
  {
   "cell_type": "markdown",
   "metadata": {},
   "source": [
    "The output for the bitwise negation is a bit surprising. For instance, if we bitwise negate `0b10101010`, we obtain `-0b10101011` instead of `0b01010101`. We will later why Python has such a behaviour when we come to the representation of relative integers."
   ]
  },
  {
   "cell_type": "code",
   "execution_count": 5,
   "metadata": {
    "execution": {
     "iopub.execute_input": "2023-03-26T13:50:53.131035Z",
     "iopub.status.busy": "2023-03-26T13:50:53.130890Z",
     "iopub.status.idle": "2023-03-26T13:50:53.132936Z",
     "shell.execute_reply": "2023-03-26T13:50:53.132641Z"
    }
   },
   "outputs": [
    {
     "name": "stdout",
     "output_type": "stream",
     "text": [
      "-0b10101011\n"
     ]
    }
   ],
   "source": [
    "print(bin(~ 0b10101010)) # 0b01010101"
   ]
  },
  {
   "cell_type": "markdown",
   "metadata": {},
   "source": [
    "### Left shift\n",
    "\n",
    "The logical left shift (`w << n`) is the operation that shifts all the bits of its operand `w` to the left (i.e. towerd the MSB), inserting `0`s on the right. This operation is parameterized by the number `n` of bits that are shifted.\n",
    "\n",
    "$$\n",
    "\\DeclareMathOperator{\\lsb}{lsb}\n",
    "[w \\lsl n]_i = \\left\\{\n",
    "  \\begin{aligned}[]\n",
    "    [w]_{i-n} && \\text{if $i \\geq n$} \\\\\n",
    "    0 && \\text{otherwise}\n",
    "  \\end{aligned} \\right.\n",
    "$$\n",
    "\n",
    "In image, this gives the following word transformer:\n",
    "\n",
    "<figure>\n",
    "<img src=\"files/lsl.png\" style=\"height:170px;\"></img>\n",
    "</figure>\n",
    "\n",
    "It is easy to check that left-shifting $w$ by $k$ amounts to multiplying (the canonical presentation of) $w$ by $2^n$:\n",
    "\n",
    "$$\n",
    "\\begin{aligned}\n",
    "  2^n \\cdot w\n",
    "    &= 2^n \\sum_i [w]_i \\cdot 2^i\n",
    "     = \\sum_i [w]_i \\cdot 2^{i+n} \\\\\n",
    "    &= \\sum_{i \\geq n} [w]_{i-n} \\cdot 2^i\n",
    "     = \\sum_{i} [w \\lsl n]_i \\cdot 2^i\n",
    "     = w \\lsl n .\n",
    "\\end{aligned}\n",
    "$$\n",
    "\n",
    "## Right shift\n",
    "\n",
    "The logical right shift (`w >> n`) is the operation that shifts all the bits of its operand `b` to the right (i.e. toward the LSB), inserting `0`s on the left. This operation is parameterized by the number `n` of bits that are shifted.\n",
    "\n",
    "$$\n",
    "\\DeclareMathOperator{\\rsb}{rsb}\n",
    "[w \\lsr n]_i = [w]_{i+n}\n",
    "$$\n",
    "\n",
    "It is easy to check that left-shifting $w$ by $k$ amounts to dividing (the canonical presentation of) $w$ by $2^n$:\n",
    "\n",
    "$$\n",
    "\\begin{aligned}\n",
    "  \\left\\lfloor \\frac{w}{2^n} \\right\\rfloor\n",
    "    &= \\left\\lfloor \\frac{\\sum_i [w]_i \\cdot 2^i}{2^n} \\right\\rfloor\n",
    "     = \\sum_{i \\geq n} [w]_i \\cdot 2^{i-n} \\\\\n",
    "    &= \\sum_i [w]_{i+n} \\cdot 2^i\n",
    "     = \\sum_i [w \\lsr n]_i \\cdot 2^i\n",
    "     = w \\lsr n .\n",
    "\\end{aligned}\n",
    "$$"
   ]
  },
  {
   "cell_type": "markdown",
   "metadata": {},
   "source": [
    "## Bit hacking\n",
    "\n",
    "In this section, we are going to see how we can manipulate the bits of a word one by one. For any position $i$, we are interested of being able to set the $i$-th bit (i.e. to set its value to $1$), to clear the $i$-th bit (i.e. set its value to $0$) and to toggle the $i$-nth bit of a given word.\n",
    "\n",
    "First, note that if we have a single bit $b$, we can force it to $0$ (using $b \\band 0$), force it to $1$ (using $b \\bor 1$) and toogle its value (using $b \\bxor 1$). We now want to lift these operations to words.\n",
    "\n",
    "### Setting a bit\n",
    "\n",
    "Say we want to set the $i$-th bit of a word $w$. We just saw that we can do this by $\\bor$-ing the $i$-th bit of $w$ with $1$:\n",
    "\n",
    "<figure>\n",
    "<img src=\"files/bitset1.png\" style=\"height:150px;\"></img>\n",
    "</figure>\n",
    "\n",
    "Now, we need to find values for the `?` in $m$ s.t. $[w \\bor m]_j = [w]_j$ for any $j \\ne i$. Since $0$ is a neutral element for $\\bor$ (you can check in the table above), it is sufficient to set all the `?` to $0$:\n",
    "\n",
    "<figure>\n",
    "<img src=\"files/bitset2.png\" style=\"height:150px;\"></img>\n",
    "</figure>\n",
    "\n",
    "We see that the final result $w \\bor m$ is exactly $w$ where the $i$-th bit has been forced to $1$. We now need a way to express the mask $m$, i.e. the word where all the bits are $0$ but the $i$-th one. One way to achieve this is to take the word `0b1` (i.e. the word with only its LSB set to $1$) and to shift it to the left by $i$:\n",
    "\n",
    "<figure>\n",
    "<img src=\"files/bitset-mask.png\" style=\"height:100px;\"></img>\n",
    "</figure>\n",
    "\n",
    "If we sum up, the word $w \\bor (\\bits{1} \\lsl i)$ is exactly the word $w$ where the $i$-th bit has been forced to $1$.\n",
    "\n",
    "### Toggling a bit\n",
    "\n",
    "Toggling a bit is not much different since xoring a bit with $1$ flip it and $0$ is a neutral element for $\\bxor$: the word $w \\bxor (\\bits{1} \\lsl i)$ is then exactly the word $w$ where the $i$-th bit has been toggled to $1$.\n",
    "\n",
    "### Clearing a bit\n",
    "\n",
    "For clearing a bit, we are going to do a similar reasoning. Say we want to clear the $i$-th bit of a word $w$. We saw in the introduction that we can do this by $\\band$-ing the $i$-th bit of $w$ with $0$:\n",
    "\n",
    "<figure>\n",
    "<img src=\"files/bitclear1.png\" style=\"height:150px;\"></img>\n",
    "</figure>\n",
    "\n",
    "Now, we need to find values for the `?` in $m$ s.t. $[w \\band m]_j = [w]_j$ for any $j \\ne i$. Since $1$ is a neutral element for $\\band$ (you can check in the table above), it is sufficient to set all the `?` to $1$:\n",
    "\n",
    "<figure>\n",
    "<img src=\"files/bitclear2.png\" style=\"height:150px;\"></img>\n",
    "</figure>\n",
    "\n",
    "We see that the final result $w \\band m$ is exactly $w$ where the $i$-th bit has been forced to $0$. We now need a way to express the mask $m$, i.e. the word where all the bits are $0$ but the $i$-th one. One way to achieve this is to take the word `0b1` (i.e. the word with only its LSB set to $1$),to shift it to the left by $i$ and to (bitwise) negate it:\n",
    "\n",
    "<figure>\n",
    "<img src=\"files/bitclear-mask.png\" style=\"height:150px;\"></img>\n",
    "</figure>\n",
    "\n",
    "If we sum up, the word $w \\band (\\bnot (\\bits{1} \\lsl i))$ is exactly the word $w$ where the $i$-th bit has been forced to $0$.\n",
    "\n",
    "### In Python\n",
    "\n",
    "Finally, we give below the implementation of the bit manipulation functions:"
   ]
  },
  {
   "cell_type": "code",
   "execution_count": 6,
   "metadata": {
    "execution": {
     "iopub.execute_input": "2023-03-26T13:50:53.134374Z",
     "iopub.status.busy": "2023-03-26T13:50:53.134270Z",
     "iopub.status.idle": "2023-03-26T13:50:53.137235Z",
     "shell.execute_reply": "2023-03-26T13:50:53.136942Z"
    }
   },
   "outputs": [
    {
     "name": "stdout",
     "output_type": "stream",
     "text": [
      "0b10101010\n",
      "0b10101110\n",
      "0b10101000\n",
      "0b10101010\n",
      "0b10101000\n",
      "0b10101110\n"
     ]
    }
   ],
   "source": [
    "def bit_set(w, i):\n",
    "    return w | (0b1 << i)\n",
    "\n",
    "def bit_clear(w, i):\n",
    "    return w & (~ (0b1 << i))\n",
    "\n",
    "def bit_toggle(w, i):\n",
    "    return w ^ (0b1 << i)\n",
    "\n",
    "i = 0b10101010\n",
    "print(binpad(bit_set   (i, 1), 8))\n",
    "print(binpad(bit_set   (i, 2), 8))\n",
    "print(binpad(bit_clear (i, 1), 8))\n",
    "print(binpad(bit_clear (i, 2), 8))\n",
    "print(binpad(bit_toggle(i, 1), 8))\n",
    "print(binpad(bit_toggle(i, 2), 8))"
   ]
  },
  {
   "cell_type": "markdown",
   "metadata": {},
   "source": [
    "## 2-complement representation\n",
    "\n",
    "We here assume words of fixed size $n$. To represent signed integers, the $2$-complement representation is most often used: a non-negative integer $k$ is represented using base $2$ as seen above with $n-1$ bits (hence, $k$ must be strictly smaller than $2^{n-1}$), while the (strictly) negative integer $-k$ is represented using $2^n - k$. In the last case, we need $2^n - k$ to be greater or equal than $2^{n-1}$ (otherwise, the representation would also represent the non-negative integer $2^n-k$), hence, we need $1 \\leq k \\leq 2^{n-1}$. In consequence, when using words of size $n$, in the $2$-complement, it is possible to represent values in the range $[-2^{n-1} \\cdots 2^{n-1}-1]$ --- This interval is not symmetrical because there is only one representation of $0$.\n",
    "\n",
    "For example, for $n=4$, `0b0101` is the representation of the canonical number $2^0 + 2^2 = 5 < 2^{n-1}$, and so, is the representation of the non-negative number $5$ in the $2$-complement representation. On the other hand, `0b1010` is the canonical representation of the natural number $2^3 + 2^1 = 10 > 2^{n-1}$, and so is the $2$-complement representation of $-k$ s.t. $2^n-k = 10$, i.e. is the $2$-complement representation of $-6$.\n",
    "\n",
    "If you look carefully as the animation above, there is something remarkable: the MSB of the $2$-complement representation of a non-negative integer is $0$, whereas the MSB of the $2$-complement representation of a negative integer is $1$. (You can also try to prove that the MSB is always $0$ (resp. $1$) for non-negative numbers (resp. negative numbers.)) This is why in the $2$-complement representation, we call it the *sign bit*.\n",
    "\n",
    "There is a simple way to calculate the $2$-complement of an integer: just invert all its bits and add $1$ to the result. Indeed:\n",
    "\n",
    "$$\n",
    "\\begin{aligned}\n",
    "  2^n - k\n",
    "    &= \\left( 1 + \\sum_{i < n} 2^i \\right) - \\sum_{i < n} [k]_i \\cdot 2^i\n",
    "     = 1 + \\sum_{i < n} (1 - [k]_i) \\cdot 2^i \\\\\n",
    "    &= 1 + \\sum_{i < n} [\\bnot k]_i \\cdot 2^i\n",
    "     = 1 + (\\bnot k) .\n",
    "\\end{aligned}\n",
    "$$\n",
    "\n",
    "This remark leads to the following equation: $k + \\bnot k = -1$. This last equality explains why Python represents `~ 0b10101010` as `-0b10101011`. Indeed, since integers in Python are of arbitrary size, when we apply bitwise not to `0b10101010`, we obtain an integer whose bit representation has the reverse of the bits of the original number. This means that all the most significant bits are `1`s... and there is an infinite number of them! Fortunately, we can use the equation $k + \\bnot k = -1$ of the $2$-complement representation and define $\\bnot k$ as $-(k+1)$, and this is how Python defines bitwise negation. For that purpose, instead of using the MSB to store the sign bit, Python just stores the sign bit separately and defines $\\bnot k$ as the negation of $k+1$. If we come back to our example, we have that `~ 0b10101010` is the opposite of `0b10101010 + 1`, i.e. the opposite of `0b10101011`, i.e. `-0b10101011` (here, the sign `-` tells that the sign bit is on)."
   ]
  }
 ],
 "metadata": {
  "celltoolbar": "Format de la Cellule Texte Brut",
  "kernelspec": {
   "display_name": "Python 3",
   "language": "python",
   "name": "python3"
  },
  "language_info": {
   "codemirror_mode": {
    "name": "ipython",
    "version": 3
   },
   "file_extension": ".py",
   "mimetype": "text/x-python",
   "name": "python",
   "nbconvert_exporter": "python",
   "pygments_lexer": "ipython3",
   "version": "3.10.4"
  }
 },
 "nbformat": 4,
 "nbformat_minor": 4
}
