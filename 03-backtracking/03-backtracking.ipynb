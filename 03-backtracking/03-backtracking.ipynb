{
 "cells": [
  {
   "cell_type": "markdown",
   "metadata": {},
   "source": [
    "# Backtracking"
   ]
  },
  {
   "cell_type": "code",
   "execution_count": 1,
   "metadata": {
    "execution": {
     "iopub.execute_input": "2023-02-20T06:00:46.853450Z",
     "iopub.status.busy": "2023-02-20T06:00:46.852802Z",
     "iopub.status.idle": "2023-02-20T06:00:47.767897Z",
     "shell.execute_reply": "2023-02-20T06:00:47.767570Z"
    }
   },
   "outputs": [],
   "source": [
    "# You can safely ignore the next two lines.\n",
    "import matplotlib.pyplot as plt\n",
    "%matplotlib inline"
   ]
  },
  {
   "cell_type": "markdown",
   "metadata": {},
   "source": [
    "Constraint Satisfaction Problems or CSPs (Constraint Satisfaction Problems) are problems in which one looks for objects that satisfy a certain number of constraints or criteria. In general, many CSPs require a combination of heuristics and combinatorial optimization methods to be solved in a reasonable time.\n",
    "\n",
    "However, for simple enough problems, one can try each possibility (combination) until the right one is found. If a blockage appears, in other words if there is no possibility, we return to the last case examined where another possibility existed and continue from there. This way of doing is called **back-tracking**."
   ]
  },
  {
   "cell_type": "markdown",
   "metadata": {},
   "source": [
    "## High-level view\n",
    "\n",
    "The backtracking algorithm works be recursively enumerating a set of partial candidates for a given satisfaction problem. These partial candidates are all part of a tree: the potential search tree. Each partial candidate is the parent of some other candidates that only differ from it by a single alteration. The leaves of the tree represent full candidates that cannot be further modified. The backtracking algorithm works by traversing the search tree recursively, considering the partial candidates it encounters. At each step, the algorithm checks whether:\n",
    "\n",
    "  - the partial candidate can be completed toward a solution. In that case, the algorithms continue recursively by enumerating all the children of the initial partial solution.\n",
    "  - the partial solution is a valid solution to the constraint satisfaction problem. In that case, that solution is reported.\n",
    "  - the partial solution cannot be completed toward a solution. This means that a valid solution cannot be found among the children of the considered partial solution and hence, should not be considered by the algorithm.\n",
    "\n",
    "These steps can be expressed using the following pseudo-code:\n",
    "\n",
    "```python\n",
    "def bt(c):\n",
    "    # \"c\" is a partial solution to our problem\n",
    "    if reject(c):\n",
    "        # If \"c\" cannot be completed further, we prune all\n",
    "        # the children of \"c\" -- i.e. we simply return from\n",
    "        # the call to \"bt(c)\"\n",
    "        return\n",
    "    elif accept(c):\n",
    "        # If \"c\" is a valid complete solution, we report it\n",
    "        yield c\n",
    "    else:\n",
    "        # Otherwise, we iterate over all the partial solutions\n",
    "        # that can be obtained from a single modification to \"c\"\n",
    "        #\n",
    "        # For each of these sub-partial solution, we do a\n",
    "        # recursive call to \"bt\"\n",
    "        for subc in children(c):\n",
    "            yield from bt(subc)\n",
    "```\n",
    "\n",
    "Here, the definitions of `reject`, `accept` and `children` depend on the problem we are trying to solve."
   ]
  },
  {
   "cell_type": "markdown",
   "metadata": {},
   "source": [
    "## Subset sum\n",
    "\n",
    "Subset sum problem is the problem of finding a subset such that the sum of elements equal a given number. We will here use a backtracking approach to solve this problem. The different steps follow:\n",
    "\n",
    " 1. we start with an empty set\n",
    " 2. we add the next element from the set of available numbers to the set\n",
    " 3. if the subset is having desired sum, then we stop with that subset as solution\n",
    " 4. if the subset is not feasible (it is having a sum greater than the desired one) or if we have reached the end of the set of available numbers, then we backtrack\n",
    " 5. otherwise, if the subset is feasible (it is having a sum lower than the desired one), then we continue we the next available numbers.\n",
    "\n",
    "If at some point we have visited all the elements without finding a suitable subset and no backtracking is possible, then we stop: the problem is not satisfiable.\n",
    "\n",
    "This leads to the following code."
   ]
  },
  {
   "cell_type": "code",
   "execution_count": 2,
   "metadata": {
    "execution": {
     "iopub.execute_input": "2023-02-20T06:00:47.769764Z",
     "iopub.status.busy": "2023-02-20T06:00:47.769608Z",
     "iopub.status.idle": "2023-02-20T06:00:47.774087Z",
     "shell.execute_reply": "2023-02-20T06:00:47.773821Z"
    }
   },
   "outputs": [
    {
     "name": "stdout",
     "output_type": "stream",
     "text": [
      "{1, 3}\n",
      "{2, 3}\n",
      "{1, 2, 99, 3, 10}\n",
      "None\n"
     ]
    }
   ],
   "source": [
    "def subset_sum(nm, S, M):\n",
    "    # \"nm\" is the set of available numbers\n",
    "    # \"M\" is the target sum\n",
    "    # \"S\" is the current partial solution\n",
    "\n",
    "    nS = sum(S) # The sum of the partial solution\n",
    "    \n",
    "    if nS > M:\n",
    "        # \"S\" is a non-feasible solution.\n",
    "        # We reject it.\n",
    "        return None\n",
    "    \n",
    "    if nS == M:\n",
    "        # S is a valid solution.\n",
    "        # We accept it.\n",
    "        return S\n",
    "\n",
    "    for i in nm:\n",
    "        # Otherwise, we try to extend S with the integers\n",
    "        # from \"nm\" - 1 by 1 and continue recursively.\n",
    "        rS = subset_sum(\n",
    "            nm.difference([i]), # We remove \"i\" from \"nm\"\n",
    "            S.union([i])      , # We add \"i\" to \"S\"\n",
    "            M                   # The targeted sum is unchanged\n",
    "        )\n",
    "        \n",
    "        if rS is not None:\n",
    "            # We found a solution (recursively)\n",
    "            # We return it\n",
    "            return rS\n",
    "    \n",
    "    # We tried all the numbers in \"nm\" without finding\n",
    "    # a solution. We report the failure with \"None\"\n",
    "    return None\n",
    "\n",
    "print(subset_sum({ 2, 9, 10, 1, 99, 3}, set(), 4))\n",
    "print(subset_sum({ 2, 9, 10, 1, 99, 3}, set(), 5))\n",
    "print(subset_sum({ 2, 9, 10, 1, 99, 3}, set(), 115))\n",
    "print(subset_sum({ 2, 9, 10, 1, 99, 3}, set(), 116))"
   ]
  },
  {
   "cell_type": "markdown",
   "metadata": {},
   "source": [
    "## Solving Sudoku\n",
    "\n",
    "The aim of the Sudoku game is to fill a 9x9 grid with digits from `1` to `9`, all different, which are never more than once in the same row, column or 3x3 block. Most of the time, a few symbols are already arranged in the grid, allowing the entire problem to be solved gradually. Here is one example of a Sudoku grid:\n",
    "\n",
    "<img src=\"files/sudoku.png\" width=\"300px\" />\n",
    "\n",
    "In Python, we are going to represent Sudoku grids as an array of arrays `board` for size 9x9 where `board[i][j]` contains the value of the cell at row `i` and column `i`, with the convention that a value of `0` indicates that the cell value is still unknown. For instance, the Sudoku grid above is represented with the following Python value:"
   ]
  },
  {
   "cell_type": "code",
   "execution_count": 3,
   "metadata": {
    "execution": {
     "iopub.execute_input": "2023-02-20T06:00:47.794112Z",
     "iopub.status.busy": "2023-02-20T06:00:47.793983Z",
     "iopub.status.idle": "2023-02-20T06:00:47.796693Z",
     "shell.execute_reply": "2023-02-20T06:00:47.796444Z"
    }
   },
   "outputs": [],
   "source": [
    "def create_board():\n",
    "    return [\n",
    "        [0,0,0,4,0,0,1,2,0],\n",
    "        [6,0,0,0,7,5,0,0,9],\n",
    "        [0,0,0,6,0,1,0,7,8],\n",
    "        [0,0,7,0,4,0,2,6,0],\n",
    "        [0,0,1,0,5,0,9,3,0],\n",
    "        [9,0,4,0,6,0,0,0,5],\n",
    "        [0,0,0,3,0,0,0,1,2],\n",
    "        [1,2,0,0,0,7,4,0,0],\n",
    "        [0,4,9,2,0,6,0,0,7],\n",
    "    ]"
   ]
  },
  {
   "cell_type": "markdown",
   "metadata": {},
   "source": [
    "We also create a function for printing Sudoku grids:"
   ]
  },
  {
   "cell_type": "code",
   "execution_count": 4,
   "metadata": {
    "execution": {
     "iopub.execute_input": "2023-02-20T06:00:47.797929Z",
     "iopub.status.busy": "2023-02-20T06:00:47.797812Z",
     "iopub.status.idle": "2023-02-20T06:00:47.800576Z",
     "shell.execute_reply": "2023-02-20T06:00:47.800336Z"
    }
   },
   "outputs": [
    {
     "name": "stdout",
     "output_type": "stream",
     "text": [
      ". . . |  4 . . |  1 2 .\n",
      "6 . . |  . 7 5 |  . . 9\n",
      ". . . |  6 . 1 |  . 7 8\n",
      "- - - - - - - - - - - - \n",
      ". . 7 |  . 4 . |  2 6 .\n",
      ". . 1 |  . 5 . |  9 3 .\n",
      "9 . 4 |  . 6 . |  . . 5\n",
      "- - - - - - - - - - - - \n",
      ". . . |  3 . . |  . 1 2\n",
      "1 2 . |  . . 7 |  4 . .\n",
      ". 4 9 |  2 . 6 |  . . 7\n"
     ]
    }
   ],
   "source": [
    "def sudoku_print(board):\n",
    "    # A simple function for printing a Sudoku board\n",
    "    for i in range(9):\n",
    "        if i % 3 == 0 and i != 0:\n",
    "            print(\"- \" * 12)\n",
    "\n",
    "        for j in range(9):\n",
    "            if j % 3 == 0 and j != 0:\n",
    "                print(\" | \", end = '')\n",
    "\n",
    "            if j != 0:\n",
    "                print(' ', end = '')\n",
    "            print(board[i][j] or '.', end = '')\n",
    "        print()\n",
    "        \n",
    "sudoku_print(create_board())"
   ]
  },
  {
   "cell_type": "markdown",
   "metadata": {},
   "source": [
    "### An solver based on backtracking\n",
    "\n",
    "We are now interested in solving the Sudoku grid. For that purpose we are going to build a solution incrementally, by filling the cells one by one. Hence, for each cell, either\n",
    "\n",
    "  - the cell is already filled in, we have nothing to do, or\n",
    "  - the cell is empty and we have to find some valid number for it.\n",
    "  \n",
    "In the last case, we need to enumerate all the possible numbers, and then to test that the updated grid leads us to a solution or to a dead-end. When reaching a dead-end, then we revise our last choice and start again the exploration. Eventually, we will reach a solution or we exhausted all our choices. In the last case, the grid is not solvable."
   ]
  },
  {
   "cell_type": "code",
   "execution_count": 5,
   "metadata": {
    "execution": {
     "iopub.execute_input": "2023-02-20T06:00:47.801746Z",
     "iopub.status.busy": "2023-02-20T06:00:47.801645Z",
     "iopub.status.idle": "2023-02-20T06:00:47.805912Z",
     "shell.execute_reply": "2023-02-20T06:00:47.805684Z"
    }
   },
   "outputs": [],
   "source": [
    "def sudoku_check_at(board, i0, j0):\n",
    "    # This function checks wether the cell value at\n",
    "    # (i0, j0) is compatible with the rest of the board\n",
    "    \n",
    "    # Check that the cell at board[i0][j0] is set\n",
    "    assert(1 <= board[i0][j0] <= 9)\n",
    "\n",
    "    # Iterate over the i0-th line and j0-th column:\n",
    "    for k in range(9):\n",
    "        # Check that the value at (k, j0) is different from\n",
    "        # the one at (i0, j0), i.e. that the value at (i0, j0)\n",
    "        # does not appear somewhere else on the i0-th line\n",
    "        if k != i0 and board[k][j0] == board[i0][j0]:\n",
    "            return False\n",
    "        # Check that the value at (j0, k) is different from\n",
    "        # the one at (i0, j0), i.e. that the value at (i0, j0)\n",
    "        # does not appear somewhere else on the j0-th column\n",
    "        if k != j0 and board[i0][k] == board[i0][j0]:\n",
    "            return False\n",
    "\n",
    "    # Iterate over the 3x3 block the cell (i0, j0) is a member\n",
    "    # of the cell (i, j) is part of the (bi, bj)-th block\n",
    "    bi, bj = i0 // 3, j0 // 3\n",
    "    for i in range(3*bi, 3*bi+3):\n",
    "        for j in range(3*bj, 3*bj+3):\n",
    "            # Check that the value at (i, j) is different from\n",
    "            # the one at (i0, j0), i.e. that the value at (i0, j0)\n",
    "            # does not appear somewhere else on the 3x3 block the\n",
    "            # base cell is a member of.\n",
    "            if (i, j) == (i0, j0):\n",
    "                continue\n",
    "            if board[i][j] == board[i0][j0]:\n",
    "                return False\n",
    "\n",
    "    return True \n",
    "\n",
    "def sudoku_find_empty(board):\n",
    "    # This function finds an empty cell in the board.\n",
    "    # It returns its coordinates or `None` if no such\n",
    "    # cell exists.\n",
    "    for i in range(9):\n",
    "        for j in range(9):\n",
    "            if board[i][j] == 0:\n",
    "                return (i, j)\n",
    "    return None\n",
    "\n",
    "def sudoku_solve(board):\n",
    "    # Try to solve the board `board`\n",
    "\n",
    "    # First, we find an unset cell...\n",
    "    empty = sudoku_find_empty(board)\n",
    "\n",
    "    # ...if there are no such cells, we are done...\n",
    "    if empty is None:\n",
    "        return True\n",
    "\n",
    "    # ...otherwise, let (i, j) be its coordinates.\n",
    "    i, j = empty\n",
    "\n",
    "    # For all possible values `c` in [1, 9]\n",
    "    for c in range(1, 9+1):\n",
    "        # Set the cell (i, j) to `c` and...\n",
    "        board[i][j] = c\n",
    "        # ...check that this new value does violate some\n",
    "        # constraint...\n",
    "        if not sudoku_check_at(board, i, j):\n",
    "            # We have a constraint violation, we move\n",
    "            # to the next value.\n",
    "            continue\n",
    "        # ...try to solve the board by moving to the next\n",
    "        # free cell. We do this with a recursive call to\n",
    "        # `sudoku_solve`...\n",
    "        if sudoku_solve(board):\n",
    "            return True\n",
    "        \n",
    "        # ...however, the board was not solvable. We hene\n",
    "        # move to the next value.\n",
    "\n",
    "    # We did not find a suitable value for the cell (i, j).\n",
    "    # We have to backtrack. We unset the cell (i, j) and\n",
    "    # return from the function. The caller will change some\n",
    "    # other cell value and call us again. (Do not forget\n",
    "    # that this function is recursive!)\n",
    "    board[i][j] = 0; return False"
   ]
  },
  {
   "cell_type": "markdown",
   "metadata": {},
   "source": [
    "Let's now test this solver on our test grid (and let's time it!)"
   ]
  },
  {
   "cell_type": "code",
   "execution_count": 6,
   "metadata": {
    "execution": {
     "iopub.execute_input": "2023-02-20T06:00:47.807177Z",
     "iopub.status.busy": "2023-02-20T06:00:47.807093Z",
     "iopub.status.idle": "2023-02-20T06:00:47.810420Z",
     "shell.execute_reply": "2023-02-20T06:00:47.810203Z"
    }
   },
   "outputs": [
    {
     "name": "stdout",
     "output_type": "stream",
     "text": [
      "Solution found in 0.00108s\n",
      "\n",
      "5 7 8 |  4 3 9 |  1 2 6\n",
      "6 1 2 |  8 7 5 |  3 4 9\n",
      "4 9 3 |  6 2 1 |  5 7 8\n",
      "- - - - - - - - - - - - \n",
      "8 5 7 |  9 4 3 |  2 6 1\n",
      "2 6 1 |  7 5 8 |  9 3 4\n",
      "9 3 4 |  1 6 2 |  7 8 5\n",
      "- - - - - - - - - - - - \n",
      "7 8 5 |  3 9 4 |  6 1 2\n",
      "1 2 6 |  5 8 7 |  4 9 3\n",
      "3 4 9 |  2 1 6 |  8 5 7\n"
     ]
    }
   ],
   "source": [
    "import time\n",
    "\n",
    "def test_sudoku_solver(board):\n",
    "    base  = time.time()\n",
    "    if sudoku_solve(board):\n",
    "        print(f'Solution found in {time.time()-base:.5f}s\\n')\n",
    "        sudoku_print(board)\n",
    "\n",
    "test_sudoku_solver(create_board())"
   ]
  },
  {
   "cell_type": "markdown",
   "metadata": {},
   "source": [
    "You can see that the program find a solution in a few thousandths of a second. We will come back to the timing later.\n",
    "\n",
    "So that you better understand how the algorithm works, the animated image below examplified its execution. Green cells denote cells whose value as been fixed by the problem, whereas red cells denote cells for which the algorithm made a choice. You can see that the program progresses incrementally in the grid, trying all the digits between 1 to 9, one by one. When the algorithm reached a dead-end, i.e. when it is not possible to fill a new blank cell with a valid value, the program backtrack: it revises its last choice -- this is when the number of red cells decreases in the animation.\n",
    "\n",
    "<img src=\"files/sudoku.gif\" width=\"300px\" />\n",
    "\n"
   ]
  },
  {
   "cell_type": "markdown",
   "metadata": {},
   "source": [
    "### Enumerating all solutions\n",
    "\n",
    "With a slight modification of the algorithm, it is easy to iterate over all the solutions. In that case, when a solution is found, we `yield` it and then backtrack so that we start searching for the next one:"
   ]
  },
  {
   "cell_type": "code",
   "execution_count": 7,
   "metadata": {
    "execution": {
     "iopub.execute_input": "2023-02-20T06:00:47.811715Z",
     "iopub.status.busy": "2023-02-20T06:00:47.811627Z",
     "iopub.status.idle": "2023-02-20T06:00:47.813896Z",
     "shell.execute_reply": "2023-02-20T06:00:47.813677Z"
    }
   },
   "outputs": [],
   "source": [
    "def sudoku_solve_all(board):\n",
    "    # That function is near to identical to `sudoku_solve`\n",
    "    # However, it iterates over all the solutions\n",
    "    \n",
    "    empty = sudoku_find_empty(board)\n",
    "\n",
    "    if empty is None:\n",
    "        # We solved the board, so let's yield it...\n",
    "        yield board\n",
    "    else:\n",
    "        i, j = empty\n",
    "\n",
    "        for c in range(1, 9+1):\n",
    "            board[i][j] = c\n",
    "\n",
    "            if not sudoku_check_at(board, i, j):\n",
    "                continue\n",
    "\n",
    "            # We managed to set one more cell. From that point\n",
    "            # we simply iterate over all the possible (sub)solutions\n",
    "            # and yield them back\n",
    "            yield from sudoku_solve_all(board)\n",
    "\n",
    "        board[i][j] = 0"
   ]
  },
  {
   "cell_type": "markdown",
   "metadata": {},
   "source": [
    "We can now enumerate all the solutions of our test grid (there are 4 solutions that we find in a few hundreds of second):"
   ]
  },
  {
   "cell_type": "code",
   "execution_count": 8,
   "metadata": {
    "execution": {
     "iopub.execute_input": "2023-02-20T06:00:47.815088Z",
     "iopub.status.busy": "2023-02-20T06:00:47.814988Z",
     "iopub.status.idle": "2023-02-20T06:00:47.824792Z",
     "shell.execute_reply": "2023-02-20T06:00:47.824506Z"
    },
    "scrolled": true
   },
   "outputs": [
    {
     "name": "stdout",
     "output_type": "stream",
     "text": [
      "Solution 0 (0.00109):\n",
      "\n",
      "5 7 8 |  4 3 9 |  1 2 6\n",
      "6 1 2 |  8 7 5 |  3 4 9\n",
      "4 9 3 |  6 2 1 |  5 7 8\n",
      "- - - - - - - - - - - - \n",
      "8 5 7 |  9 4 3 |  2 6 1\n",
      "2 6 1 |  7 5 8 |  9 3 4\n",
      "9 3 4 |  1 6 2 |  7 8 5\n",
      "- - - - - - - - - - - - \n",
      "7 8 5 |  3 9 4 |  6 1 2\n",
      "1 2 6 |  5 8 7 |  4 9 3\n",
      "3 4 9 |  2 1 6 |  8 5 7\n",
      "\n",
      "Solution 1 (0.00166):\n",
      "\n",
      "7 5 8 |  4 3 9 |  1 2 6\n",
      "6 1 2 |  8 7 5 |  3 4 9\n",
      "4 9 3 |  6 2 1 |  5 7 8\n",
      "- - - - - - - - - - - - \n",
      "5 8 7 |  9 4 3 |  2 6 1\n",
      "2 6 1 |  7 5 8 |  9 3 4\n",
      "9 3 4 |  1 6 2 |  7 8 5\n",
      "- - - - - - - - - - - - \n",
      "8 7 5 |  3 9 4 |  6 1 2\n",
      "1 2 6 |  5 8 7 |  4 9 3\n",
      "3 4 9 |  2 1 6 |  8 5 7\n",
      "\n",
      "Solution 2 (0.00149):\n",
      "\n",
      "7 8 5 |  4 3 9 |  1 2 6\n",
      "6 1 2 |  8 7 5 |  3 4 9\n",
      "4 9 3 |  6 2 1 |  5 7 8\n",
      "- - - - - - - - - - - - \n",
      "8 5 7 |  9 4 3 |  2 6 1\n",
      "2 6 1 |  7 5 8 |  9 3 4\n",
      "9 3 4 |  1 6 2 |  7 8 5\n",
      "- - - - - - - - - - - - \n",
      "5 7 8 |  3 9 4 |  6 1 2\n",
      "1 2 6 |  5 8 7 |  4 9 3\n",
      "3 4 9 |  2 1 6 |  8 5 7\n",
      "\n",
      "Solution 3 (0.00181):\n",
      "\n",
      "8 7 5 |  4 3 9 |  1 2 6\n",
      "6 1 2 |  8 7 5 |  3 4 9\n",
      "4 9 3 |  6 2 1 |  5 7 8\n",
      "- - - - - - - - - - - - \n",
      "5 8 7 |  9 4 3 |  2 6 1\n",
      "2 6 1 |  7 5 8 |  9 3 4\n",
      "9 3 4 |  1 6 2 |  7 8 5\n",
      "- - - - - - - - - - - - \n",
      "7 5 8 |  3 9 4 |  6 1 2\n",
      "1 2 6 |  5 8 7 |  4 9 3\n",
      "3 4 9 |  2 1 6 |  8 5 7\n",
      "\n"
     ]
    }
   ],
   "source": [
    "import time\n",
    "\n",
    "def test_enumerate_sudoku(board):\n",
    "    base = time.time()\n",
    "    for i, board in enumerate(sudoku_solve_all(board)):\n",
    "        print(f'Solution {i} ({time.time() - base:.5f}):\\n')\n",
    "        sudoku_print(board)\n",
    "        print(); base = time.time()\n",
    "        \n",
    "test_enumerate_sudoku(create_board())"
   ]
  },
  {
   "cell_type": "markdown",
   "metadata": {},
   "source": [
    "### Efficiency\n",
    "\n",
    "We saw that our backtracking algorithm solves our test grid in a few milliseconds. Let's try to understand why. We first instrumentalize our code s.t. it records some extra information (mainly, the number of recursives calls)."
   ]
  },
  {
   "cell_type": "code",
   "execution_count": 9,
   "metadata": {
    "execution": {
     "iopub.execute_input": "2023-02-20T06:00:47.825997Z",
     "iopub.status.busy": "2023-02-20T06:00:47.825918Z",
     "iopub.status.idle": "2023-02-20T06:00:47.828571Z",
     "shell.execute_reply": "2023-02-20T06:00:47.828337Z"
    }
   },
   "outputs": [],
   "source": [
    "def sudoku_solve_with_stats(board, stats = None, depth = 0):\n",
    "    # This function is identical to `sudoku_solve`.\n",
    "    # However, it stores some extra information in `stats`\n",
    "    # s.t. we can them make some statistics.\n",
    "\n",
    "    stats = {} if stats is None else stats\n",
    "    empty = sudoku_find_empty(board)\n",
    "\n",
    "    # Total number of recursive calls\n",
    "    stats[None] = 1 + stats.get(None, 0)\n",
    "\n",
    "    # Total number of recursive calls at depth `depth`\n",
    "    stats[depth] = 1 + stats.get(depth, 0) \n",
    "    \n",
    "    if empty is None:\n",
    "        return (True, stats)\n",
    "\n",
    "    i, j = empty\n",
    "\n",
    "    for c in range(1, 9+1):\n",
    "        board[i][j] = c\n",
    "        if not sudoku_check_at(board, i, j):\n",
    "            continue\n",
    "        if sudoku_solve_with_stats(board, stats, depth+1)[0]:\n",
    "            return (True, stats)\n",
    "        \n",
    "    board[i][j] = 0; return (False, stats)"
   ]
  },
  {
   "cell_type": "markdown",
   "metadata": {},
   "source": [
    "Let's first print the number of recursive calls:"
   ]
  },
  {
   "cell_type": "code",
   "execution_count": 10,
   "metadata": {
    "execution": {
     "iopub.execute_input": "2023-02-20T06:00:47.829756Z",
     "iopub.status.busy": "2023-02-20T06:00:47.829676Z",
     "iopub.status.idle": "2023-02-20T06:00:47.832610Z",
     "shell.execute_reply": "2023-02-20T06:00:47.832361Z"
    }
   },
   "outputs": [
    {
     "name": "stdout",
     "output_type": "stream",
     "text": [
      "126\n"
     ]
    }
   ],
   "source": [
    "print(sudoku_solve_with_stats(create_board())[1][None])"
   ]
  },
  {
   "cell_type": "markdown",
   "metadata": {},
   "source": [
    "You can see that we only made 126 recursive calls! This is very few compared to the size of the search space. Indeed, counting 9 choices per cell with a total number of (initially) 46 empty cells, the search space is of size $\\sim 10^{46}$. (And even if we take into account the initial constraints imposed by the green cells, we still have a search space of size $\\sim 10^{17}$) This explains why the algorithm performs that well: by checking that a new choice is valid (`sudoku_check_at`) before going recursively, we dramatically cut the search space, allowing to reach a solution in a small amount of time.\n",
    "\n",
    "We can now try with a less constraint grid:"
   ]
  },
  {
   "cell_type": "code",
   "execution_count": 11,
   "metadata": {
    "execution": {
     "iopub.execute_input": "2023-02-20T06:00:47.833785Z",
     "iopub.status.busy": "2023-02-20T06:00:47.833705Z",
     "iopub.status.idle": "2023-02-20T06:00:48.197310Z",
     "shell.execute_reply": "2023-02-20T06:00:48.196972Z"
    }
   },
   "outputs": [
    {
     "name": "stdout",
     "output_type": "stream",
     "text": [
      "Solving time: 0.35979\n",
      "37103\n"
     ]
    }
   ],
   "source": [
    "def create_second_board():\n",
    "    return [\n",
    "        [0,0,0,0,2,0,6,0,0],\n",
    "        [9,0,0,3,0,5,0,0,1],\n",
    "        [0,0,1,8,0,6,4,0,0],\n",
    "        [0,0,8,1,0,2,9,0,0],\n",
    "        [7,0,0,0,0,0,0,0,8],\n",
    "        [0,0,0,0,0,8,2,0,0],\n",
    "        [0,0,2,6,0,0,5,0,0],\n",
    "        [8,0,0,2,0,3,0,0,9],\n",
    "        [0,0,5,0,1,0,3,0,0],\n",
    "    ]\n",
    "\n",
    "import time\n",
    "\n",
    "def test_second_grid():\n",
    "    base  = time.time()\n",
    "    stats = sudoku_solve_with_stats(create_second_board())[1]\n",
    "    print(f'Solving time: {time.time() - base:.5f}')\n",
    "    return stats\n",
    "\n",
    "sg_stats = test_second_grid()\n",
    "print(sg_stats[None])"
   ]
  },
  {
   "cell_type": "markdown",
   "metadata": {},
   "source": [
    "We can see that the solving time is a big higher but the number of recursive calls is still pretty low compared to the search space. For getting more insight, we can plot the number of recursive calls w.r.t. the call depth:"
   ]
  },
  {
   "cell_type": "code",
   "execution_count": 12,
   "metadata": {
    "execution": {
     "iopub.execute_input": "2023-02-20T06:00:48.199255Z",
     "iopub.status.busy": "2023-02-20T06:00:48.199113Z",
     "iopub.status.idle": "2023-02-20T06:00:48.336482Z",
     "shell.execute_reply": "2023-02-20T06:00:48.336159Z"
    }
   },
   "outputs": [
    {
     "data": {
      "image/png": "[encoded data removed]",
      "text/plain": [
       "<Figure size 640x480 with 1 Axes>"
      ]
     },
     "metadata": {},
     "output_type": "display_data"
    }
   ],
   "source": [
    "import numpy as np\n",
    "\n",
    "def plot_stats(stats):\n",
    "    stats = [x for x in stats.items() if x[0] is not None]\n",
    "    stats = list(sorted(stats, key = lambda x : x[0]))\n",
    "    plt.bar(range(len(stats)), [x[1] for x in stats])\n",
    "    return plt\n",
    "             \n",
    "_ = plot_stats(sg_stats)"
   ]
  },
  {
   "cell_type": "markdown",
   "metadata": {},
   "source": [
    "The histogram is pretty chaotic, and it is indeed hard, for a given problem, to forsee how the backtrakcing algorithm is going to behave. However, we can see that, e.g., when the grid is constraint (at the end of the search) and loosy constraints (at the very beginning), we do not backtrack that much."
   ]
  },
  {
   "cell_type": "markdown",
   "metadata": {},
   "source": [
    "### When things go wrong\n",
    "\n",
    "Finally, some grids may be built to work against backtracking. For example, a puzzle with few hints, no hints in the left column (note that our algorithm works left-right) may require the algorithm the enumerate a large part of the search space. For example, it takes more than one minute to solve the following grid:"
   ]
  },
  {
   "cell_type": "code",
   "execution_count": 13,
   "metadata": {
    "execution": {
     "iopub.execute_input": "2023-02-20T06:00:48.338021Z",
     "iopub.status.busy": "2023-02-20T06:00:48.337889Z",
     "iopub.status.idle": "2023-02-20T06:01:25.198725Z",
     "shell.execute_reply": "2023-02-20T06:01:25.198424Z"
    }
   },
   "outputs": [
    {
     "name": "stdout",
     "output_type": "stream",
     "text": [
      "Solving time: 36.76260\n"
     ]
    },
    {
     "data": {
      "image/png": "[encoded data removed]",
      "text/plain": [
       "<Figure size 640x480 with 1 Axes>"
      ]
     },
     "metadata": {},
     "output_type": "display_data"
    }
   ],
   "source": [
    "def create_difficult_board():\n",
    "    return [\n",
    "        [0, 0, 0, 0, 0, 0, 5, 0, 0],\n",
    "        [0, 0, 0, 0, 0, 9, 0, 0, 0],\n",
    "        [0, 0, 1, 0, 4, 0, 0, 2, 0],\n",
    "        [0, 0, 0, 5, 0, 0, 0, 0, 0],\n",
    "        [0, 0, 2, 0, 0, 0, 0, 1, 4],\n",
    "        [0, 3, 0, 7, 0, 0, 0, 0, 0],\n",
    "        [0, 8, 0, 0, 1, 0, 0, 0, 0],\n",
    "        [0, 0, 0, 0, 0, 0, 7, 0, 0],\n",
    "        [0, 5, 0, 0, 0, 0, 3, 0, 9],\n",
    "    ]\n",
    "\n",
    "def test_difficult_grid():\n",
    "    base  = time.time()\n",
    "    stats = sudoku_solve_with_stats(create_difficult_board())[1]\n",
    "    print(f'Solving time: {time.time() - base:.5f}')\n",
    "    return stats\n",
    "\n",
    "df_stats = test_difficult_grid()\n",
    "_ = plot_stats(df_stats)"
   ]
  },
  {
   "cell_type": "markdown",
   "metadata": {},
   "source": [
    "For Sudoku solving, we could optimized our algorithm s.t. it backtracks less (by choosing the most constraint cells and by propagating constraints). But note that, although backtracking techniques might work in average, they tend to diverge on worst casse scenario.\n",
    "\n",
    "Also, as a side note, there exist numerous algorithms for solving Sudoku grids. This includes deductive based methods, stochastic search and/or optimization methods."
   ]
  },
  {
   "cell_type": "markdown",
   "metadata": {},
   "source": [
    "## Cryptarithmetic\n",
    "\n",
    "As a second example, we are going to write a program to solve cryptarithmetic puzzles. A cryptarithmetic problem is a type of puzzle consisting of an equation with unknown numbers whose digits are represented by letters. The equation is typically based on an arithmetic operation, such as addition, multiplication or division. The same letter, the same digit, and a different letter, a different digit. Here is one example of cryptarithmetic puzzle:\n",
    "\n",
    "```\n",
    "     P E R E\n",
    "+    N O E L\n",
    "-------------\n",
    "=  J O U E T\n",
    "```\n",
    "  \n",
    "We are going to solve a reduced version of this problem where the cryptarithmetic puzzle is only composed a two numbers that are added (as above). However, we will have to carefully craft the way we navigative in the search space to avoid some complexity issues. For instance, we are going to assign letters from right to left (in the problem operands). This allows us to prune partial assignments by doing a truncated sum (for example, a partial assignment that assigns `1` to `E`, `2` to `L` and `5` to `T` can be rejected as the above sum requires `E + L == T`)."
   ]
  },
  {
   "cell_type": "code",
   "execution_count": 14,
   "metadata": {
    "execution": {
     "iopub.execute_input": "2023-02-20T06:01:25.200351Z",
     "iopub.status.busy": "2023-02-20T06:01:25.200237Z",
     "iopub.status.idle": "2023-02-20T06:01:25.249718Z",
     "shell.execute_reply": "2023-02-20T06:01:25.249436Z"
    }
   },
   "outputs": [
    {
     "name": "stdout",
     "output_type": "stream",
     "text": [
      "Checked in 0.04183s\n",
      "PERE  = 8303\n",
      "NOEL  = 6432\n",
      "JOUET = 14735\n",
      "{'O': 4, 'R': 0, 'P': 8, 'E': 3, 'N': 6, 'U': 7, 'L': 2, 'T': 5, 'J': 1}\n"
     ]
    }
   ],
   "source": [
    "def cp_evaluate(nm, table):\n",
    "    nm = [table.get(x, None) for x in nm]\n",
    "    if None in nm:\n",
    "        return None\n",
    "    return sum([10**(len(nm)-i) * x for i, x in enumerate(nm)])\n",
    "\n",
    "def cp_solved(op1, op2, res, table, mod = None):\n",
    "    # If `mod` is not None, then we check that we have a\n",
    "    # solution modulo `10**mod`. This will allow us to\n",
    "    # prune partial invalid assignments.\n",
    "    \n",
    "    if mod is not None:\n",
    "        op1 = op1[-mod:]\n",
    "        op2 = op2[-mod:]\n",
    "        res = res[-mod:]\n",
    "    \n",
    "    op1 = cp_evaluate(op1, table)\n",
    "    op2 = cp_evaluate(op2, table)\n",
    "    res = cp_evaluate(res, table)\n",
    "\n",
    "    if op1 is None or op2 is None or res is None:\n",
    "        return False\n",
    "    \n",
    "    if mod:\n",
    "        return (op1 + op2) % (10**mod) == (res % (10**mod))\n",
    "    return op1 + op2 == res\n",
    "    \n",
    "def cp_solve(op1, op2, res):\n",
    "    # Solve the cryptarithmetic puzzle: `op1 + op2 == res`,\n",
    "    # where all the parameters are strings. The function\n",
    "    # returns a solution to the puzzle (as a dictionnary from\n",
    "    # letters to digits or `None`) if the puzzle is not solvable.\n",
    "    \n",
    "    # We first gathers all the letters\n",
    "    letters = set(list(op1) + list(op2) + list(res))\n",
    "\n",
    "    # Not that if we have more than 10 letters, the problem\n",
    "    # is not solvable\n",
    "    if len(letters) > 10:\n",
    "        return None\n",
    "    \n",
    "    # Initially, all letters are unassigned\n",
    "    letters = { c: None for c in letters}\n",
    "    \n",
    "    # We also store the digits that are used in a letter assignment\n",
    "    used = set()\n",
    "    \n",
    "    # Here is the backtracking function. We are going to assign\n",
    "    # the letters from right to left (in op1, op2 & res)\n",
    "    #\n",
    "    # The argument `depth` tells us the position (again, in op1,\n",
    "    # op2 & res) of the letters we are considering\n",
    "    def doit(depth):\n",
    "        if depth >= max(len(op1), len(op2), len(res)):\n",
    "            # We assigned all the letters. We simply check if\n",
    "            # the assignment is valid\n",
    "            return cp_solved(op1, op2, res, letters)\n",
    "        \n",
    "        # Otherwise, we try all the possible assignments for the\n",
    "        # `depth`-th letters of op1, op2 & res. Some of them might\n",
    "        # have already been assigned.\n",
    "\n",
    "        # We first gather these unassigned `depth`-th letters\n",
    "        # (Do remember that we count from the right)\n",
    "        toassign = set()\n",
    "        for s in (op1, op2, res):\n",
    "            if depth < len(s) and letters[s[-depth-1]] is None:\n",
    "                toassign.add(s[-depth-1])\n",
    "        toassign = list(toassign)        \n",
    "        \n",
    "        # Then, we try to assign them. We again do a recursive and\n",
    "        # backtracking function.\n",
    "        def sub_doit(j):\n",
    "            if j == len(toassign):\n",
    "                # We assigned all the `depth`-th letters\n",
    "                # Let's check that this is a partial solution...\n",
    "                # ... i.e. that (op1 + op2 == res) modulo `10**(depth+1)`.\n",
    "                #\n",
    "                # Indeed, we only assigned the first `depth` letters, but\n",
    "                # this already allows us reject some assignments.\n",
    "                if not cp_solved(op1, op2, res, letters, depth+1):\n",
    "                    # The partial assignment is invalid. We backtrack\n",
    "                    return False\n",
    "\n",
    "                # Otherwise, we move to the left\n",
    "                return doit(depth+1)\n",
    "                    \n",
    "            # Otherwise, we try all the possible assignments\n",
    "            # for `toassign[j]`.\n",
    "            for dg in range(0, 9+1):\n",
    "                # If `dg` is already used, we skip it\n",
    "                if dg in used:\n",
    "                    continue\n",
    "                    \n",
    "                # We assign `dg` to `toassign[j]`...\n",
    "                letters[toassign[j]] = dg; used.add(dg)\n",
    "                \n",
    "                # ...and we move to the next letter in `toassign`\n",
    "                if sub_doit(j+1):\n",
    "                    return True\n",
    "        \n",
    "                # We found no solutions for that assignment.\n",
    "                letters[toassign[j]] = None; used.remove(dg)\n",
    "                \n",
    "            # We found no solutions, we backtrack\n",
    "            return False\n",
    "        \n",
    "        return sub_doit(0)\n",
    "    \n",
    "    # This is the main call to the backtracking function\n",
    "    return letters if doit(0) else None\n",
    "\n",
    "import time\n",
    "\n",
    "def test_cp_solve(op1, op2, res):\n",
    "    base    = time.time()\n",
    "    letters = cp_solve(op1, op2, res)\n",
    "    print(f'Checked in {time.time()-base:.5f}s')\n",
    "    print('{:5s} = {}'.format(\n",
    "        op1, ''.join([str(letters[x]) for x in op1])))\n",
    "    print('{:5s} = {}'.format(\n",
    "        op2, ''.join([str(letters[x]) for x in op2])))\n",
    "    print('{:5s} = {}'.format(\n",
    "        res, ''.join([str(letters[x]) for x in res])))\n",
    "    return letters\n",
    "\n",
    "print(test_cp_solve('PERE', 'NOEL', 'JOUET'))"
   ]
  },
  {
   "cell_type": "code",
   "execution_count": null,
   "metadata": {},
   "outputs": [],
   "source": []
  }
 ],
 "metadata": {
  "kernelspec": {
   "display_name": "Python 3",
   "language": "python",
   "name": "python3"
  },
  "language_info": {
   "codemirror_mode": {
    "name": "ipython",
    "version": 3
   },
   "file_extension": ".py",
   "mimetype": "text/x-python",
   "name": "python",
   "nbconvert_exporter": "python",
   "pygments_lexer": "ipython3",
   "version": "3.10.4"
  }
 },
 "nbformat": 4,
 "nbformat_minor": 4
}
