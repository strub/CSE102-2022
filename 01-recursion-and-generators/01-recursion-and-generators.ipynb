{
 "cells": [
  {
   "cell_type": "markdown",
   "metadata": {},
   "source": [
    "# Recursivity\n",
    "\n",
    "You have already seen recursivity in CSE101. I am going to remind you what recursivity is, to give it a more formal treatment, to explain how it works in practice (with the notion of stack frame), and to introduce memoization --- an optimization technique that we are going to use later for dynamic programming.\n",
    "\n",
    "## A first example\n",
    "\n",
    "A function is said recursive when its body contains call to itself (either directly or indirectly). E.g., the following function is a (direct) recursive function that prints all the numbers from $n$ downto $0$:"
   ]
  },
  {
   "cell_type": "code",
   "execution_count": 1,
   "metadata": {
    "execution": {
     "iopub.execute_input": "2023-02-01T13:29:55.395992Z",
     "iopub.status.busy": "2023-02-01T13:29:55.395589Z",
     "iopub.status.idle": "2023-02-01T13:29:55.408253Z",
     "shell.execute_reply": "2023-02-01T13:29:55.407743Z"
    }
   },
   "outputs": [
    {
     "name": "stdout",
     "output_type": "stream",
     "text": [
      "5\n",
      "4\n",
      "3\n",
      "2\n",
      "1\n",
      "0\n"
     ]
    }
   ],
   "source": [
    "def f(n):\n",
    "    print(n)\n",
    "    if n > 0:\n",
    "        f(n-1)\n",
    "\n",
    "f(5)"
   ]
  },
  {
   "cell_type": "markdown",
   "metadata": {},
   "source": [
    "While the following ones are indirect recursive functions for computing (very inefficiently) if a number is odd or even:"
   ]
  },
  {
   "cell_type": "code",
   "execution_count": 2,
   "metadata": {
    "execution": {
     "iopub.execute_input": "2023-02-01T13:29:55.439223Z",
     "iopub.status.busy": "2023-02-01T13:29:55.439071Z",
     "iopub.status.idle": "2023-02-01T13:29:55.441828Z",
     "shell.execute_reply": "2023-02-01T13:29:55.441516Z"
    }
   },
   "outputs": [
    {
     "name": "stdout",
     "output_type": "stream",
     "text": [
      "False\n"
     ]
    }
   ],
   "source": [
    "def even(n):\n",
    "    if n < 0:\n",
    "        return even(-n)\n",
    "    if n == 0:\n",
    "        return True\n",
    "    return odd(n-1)\n",
    "\n",
    "def odd(n):\n",
    "    if n < 0:\n",
    "        return odd(-n)\n",
    "    if n == 0:\n",
    "        return False\n",
    "    return even(n-1)\n",
    "\n",
    "print(odd(-134))"
   ]
  },
  {
   "cell_type": "markdown",
   "metadata": {},
   "source": [
    "Recursion is at the root of (theoretical) Computer Science and is tightly linked to the notion of indutive (or recursive) structure."
   ]
  },
  {
   "cell_type": "markdown",
   "metadata": {},
   "source": [
    "## Recursivity and induction\n",
    "\n",
    "### Natural numbers \n",
    "\n",
    "We restrict ourself to direct induction here.\n",
    "\n",
    "Recursivity and induction are closed notions. We start with the example of natural numbers, and its induction principle that allows to prove a property $P$ (over natural numbers) using the following principle:\n",
    "\n",
    "$\\left\\{ \\begin{array}{l}\n",
    "    P(0) \\\\\n",
    "    \\forall n \\in \\mathbb{N} .\\, P(n) \\implies P(n+1)\n",
    "\\end{array} \\right. \\implies \\forall n \\in \\mathbb{N} .\\, P(n)$\n",
    "\n",
    "In a similar way, we can define a function $f$ over natural numbers if we give its value $f(0)$ for $0$ and its value for $f(n+1)$ from $f(n)$. For example, the factorial function $n! = \\prod_{1 \\le i \\le n} i$ could be recursively defined by induction as follow: $f(0) = 1$ and $f(n+1) = (n+1) \\times f(n)$. In python, this gives the following code:"
   ]
  },
  {
   "cell_type": "code",
   "execution_count": 3,
   "metadata": {
    "execution": {
     "iopub.execute_input": "2023-02-01T13:29:55.443289Z",
     "iopub.status.busy": "2023-02-01T13:29:55.443159Z",
     "iopub.status.idle": "2023-02-01T13:29:55.445401Z",
     "shell.execute_reply": "2023-02-01T13:29:55.445111Z"
    }
   },
   "outputs": [
    {
     "name": "stdout",
     "output_type": "stream",
     "text": [
      "0! = 1\n",
      "1! = 1\n",
      "2! = 2\n",
      "3! = 6\n",
      "4! = 24\n",
      "5! = 120\n",
      "6! = 720\n",
      "7! = 5040\n",
      "8! = 40320\n",
      "9! = 362880\n"
     ]
    }
   ],
   "source": [
    "def factorial(n):\n",
    "    if n == 0:\n",
    "        return 1 # base case\n",
    "    return n * factorial(n-1) # inductive case\n",
    "\n",
    "for i in range(10):\n",
    "    print(\"{}! = {}\".format(i, factorial(i)))"
   ]
  },
  {
   "cell_type": "markdown",
   "metadata": {},
   "source": [
    "### Inductive structure\n",
    "\n",
    "We can extend this to any data-type that comes equipped with a well-founded order. A pair $(E, \\preceq)$ is a well-founded if $\\preceq$ is a pre-order on $E$ (i.e. it is reflexive and transitive) and there is no $\\prec$-infinite chains (where $x \\prec y \\iff (x \\preceq y) \\wedge x \\ne y$), i.e. there is no $\\prec$-decreasing families $\\{ \\alpha_i \\}_{i \\in \\mathbb{N}}$ (i.e. such that $i < j \\implies \\alpha_i \\succ \\alpha_j$).\n",
    "\n",
    "Well-founded structure comes with an induction principle. Assume that $P$ is a predicate over $E$. Then, we have that:\n",
    "\n",
    "$$(\\forall x \\in E .\\, (\\forall y \\in E .\\, y \\prec x \\implies P(y)) \\implies P(x))\n",
    "    \\implies \\forall x \\in E .\\, P(x)$$\n",
    "\n",
    "Natural numbers $(\\mathbb{N}, \\leq)$ equipped with their natural ordering is a well-founded structure. The induction principle associated to it is what you know as the **strong induction principle** of natural numbers.\n",
    "\n",
    "A function $f$ is defined inductively over $(E, \\preceq)$ if, for any $x \\in E$, $f(x)$ is expressed for the $f(y)$'s s.t. $y \\prec x$. This includes the factorial function ($f(n+1) = (n+1) \\times f(n)$ and $n \\prec n+1$), or the $even$ predicate ($even(0) = \\mathop{\\top}$, $even(1) = \\mathop{\\perp}$ and $even(n+2) = even(n)$ and $n \\prec n+2$).\n",
    "\n",
    "But we are not restricted to the case $E = \\mathbb{N}$. For example, the Ackermann function:\n",
    "\n",
    "$$ A(m, n) = \\left\\{\n",
    "  \\begin{aligned}\n",
    "    n + 1 && \\text{if $m = 0$} \\\\\n",
    "    A(m-1, n) && \\text{if $m > 0$ and $n = 0$} \\\\\n",
    "    A(m-1, A(m, n-1)) && \\text{if $m > 0$ and $n > 0$}\n",
    "  \\end{aligned}\n",
    "\\right.$$\n",
    "\n",
    "is a function that is inductively defined over $\\mathbb{N} \\times \\mathbb{N}$ that is well-ordered with the lexicographic extension of $\\leq$ --- i.e. $(x, y) \\preceq (x', y')$ if $x < x'$ or $x = x' \\wedge y \\leq y'$.\n"
   ]
  },
  {
   "cell_type": "markdown",
   "metadata": {},
   "source": [
    "Note that, in Python, you can write function that makes recursive call on values that are not strictly smaller than the function argument. E.g."
   ]
  },
  {
   "cell_type": "code",
   "execution_count": 4,
   "metadata": {
    "execution": {
     "iopub.execute_input": "2023-02-01T13:29:55.446808Z",
     "iopub.status.busy": "2023-02-01T13:29:55.446684Z",
     "iopub.status.idle": "2023-02-01T13:29:55.448684Z",
     "shell.execute_reply": "2023-02-01T13:29:55.448391Z"
    }
   },
   "outputs": [],
   "source": [
    "def myfunction(n):\n",
    "    return n + myfunction(n+1)"
   ]
  },
  {
   "cell_type": "markdown",
   "metadata": {},
   "source": [
    "In that case, you may obtain a function that does not terminate, as this is the case in the previous example. Note that a function $f$ may not be inductively well-defined for a structure $(E, \\preceq)$ and terminates. In that case, this means that there exists a well-founded pre-order $\\sqsubseteq$ for $E$ s.t. $f$ is inductively defined over $(E, \\sqsubseteq)$ --- in fact, the ordering relation $\\sqsubseteq$ could be defined in terms of $f$.\n",
    "\n",
    "What you have to retain is that: if $f$ is a function that is inductively defined over a well-founded structure $(E, \\preceq)$, then $f$ terminates. As you will see in algorithmic, this gives you a powerful tool to prove properties of $f$."
   ]
  },
  {
   "cell_type": "markdown",
   "metadata": {},
   "source": [
    "Note that, in some case, it is not even known if a function as a proper inductive definition or not. For instance, it is now know if the following function always terminates:"
   ]
  },
  {
   "cell_type": "code",
   "execution_count": 5,
   "metadata": {
    "execution": {
     "iopub.execute_input": "2023-02-01T13:29:55.450079Z",
     "iopub.status.busy": "2023-02-01T13:29:55.449955Z",
     "iopub.status.idle": "2023-02-01T13:29:55.452227Z",
     "shell.execute_reply": "2023-02-01T13:29:55.451951Z"
    }
   },
   "outputs": [
    {
     "name": "stdout",
     "output_type": "stream",
     "text": [
      "30\n",
      "15\n",
      "46\n",
      "23\n",
      "70\n",
      "35\n",
      "106\n",
      "53\n",
      "160\n",
      "80\n",
      "40\n",
      "20\n",
      "10\n",
      "5\n",
      "16\n",
      "8\n",
      "4\n",
      "2\n",
      "1\n"
     ]
    }
   ],
   "source": [
    "def syracuse(n):\n",
    "    print(n)\n",
    "    if n <= 1:\n",
    "        return\n",
    "    if n % 2: # n is odd\n",
    "        syracuse(3 * n + 1)\n",
    "    else:\n",
    "        syracuse(n // 2)\n",
    "        \n",
    "syracuse(30)"
   ]
  },
  {
   "cell_type": "markdown",
   "metadata": {},
   "source": [
    "## Stack frame\n",
    "\n",
    "It is perfectly legal to use local variables in a recursive function. For instance, we could do the following:"
   ]
  },
  {
   "cell_type": "code",
   "execution_count": 6,
   "metadata": {
    "execution": {
     "iopub.execute_input": "2023-02-01T13:29:55.453533Z",
     "iopub.status.busy": "2023-02-01T13:29:55.453412Z",
     "iopub.status.idle": "2023-02-01T13:29:55.455617Z",
     "shell.execute_reply": "2023-02-01T13:29:55.455335Z"
    }
   },
   "outputs": [
    {
     "name": "stdout",
     "output_type": "stream",
     "text": [
      "0! = 1\n",
      "1! = 1\n",
      "2! = 2\n",
      "3! = 6\n",
      "4! = 24\n",
      "5! = 120\n",
      "6! = 720\n",
      "7! = 5040\n",
      "8! = 40320\n",
      "9! = 362880\n"
     ]
    }
   ],
   "source": [
    "def factorial(n):\n",
    "    if n == 0:\n",
    "        return 1\n",
    "    aout = n\n",
    "    aout = factorial(n-1) * aout\n",
    "    return aout\n",
    "\n",
    "for i in range(10):\n",
    "    print(\"{}! = {}\".format(i, factorial(i)))"
   ]
  },
  {
   "cell_type": "markdown",
   "metadata": {},
   "source": [
    "What we see from that example is that the local variable `aout` is not shared among the different **concurrent** calls --- if so, the result would have been incorrect, as shown by the following example:"
   ]
  },
  {
   "cell_type": "code",
   "execution_count": 7,
   "metadata": {
    "execution": {
     "iopub.execute_input": "2023-02-01T13:29:55.456946Z",
     "iopub.status.busy": "2023-02-01T13:29:55.456831Z",
     "iopub.status.idle": "2023-02-01T13:29:55.459059Z",
     "shell.execute_reply": "2023-02-01T13:29:55.458799Z"
    }
   },
   "outputs": [
    {
     "name": "stdout",
     "output_type": "stream",
     "text": [
      "0! = 1\n",
      "1! = 1\n",
      "2! = 1\n",
      "3! = 1\n",
      "4! = 1\n",
      "5! = 1\n",
      "6! = 1\n",
      "7! = 1\n",
      "8! = 1\n",
      "9! = 1\n"
     ]
    }
   ],
   "source": [
    "aout = 0\n",
    "\n",
    "def factorial_invalid(n):\n",
    "    global aout\n",
    "\n",
    "    if n == 0:\n",
    "        return 1\n",
    "    aout = n\n",
    "    aout = factorial_invalid(n-1) * aout\n",
    "    return aout\n",
    "\n",
    "for i in range(10):\n",
    "    print(\"{}! = {}\".format(i, factorial_invalid(i)))"
   ]
  },
  {
   "cell_type": "markdown",
   "metadata": {},
   "source": [
    "This means that Python (but this is not restricted to Python!) must have a place, different for each concurrent call, where it can store the local variables. For that purpose, Python uses an **execution stack**.\n",
    "\n",
    "The execution stack is a data structure that stores information about the active functions (i.e. the functions that are called) of a program. In the stack, different information may be stored: the arguments of the function, the return address (i.e. where to return when the function call is over), the return value and also the local variables.\n",
    "\n",
    "The execution stack is organized as a stack of **frames**. Each frame represents an active call and contains several information, as described before. When calling a function, the Python interpreter creates a new frame and pushed different values (the arguments of the function, the return address). Then, this frames is used by the callee to store its local variables.\n",
    "\n",
    "<img src=\"files/stack.png\" style=\"width: 40%\">\n",
    "\n",
    "When the callee is done, the return address is used to give the control back to the caller and the frame as the top of the execution stack is removed. The caller can then recover its local variables using the new top-frame.\n",
    "\n",
    "Since there is one frame per active call, we see that concurrent calls to the same function used different memory locations for storing its local variables.\n",
    "\n",
    "The execution stack is a limited in size. Too much recursion may lead to stack exhaustion:"
   ]
  },
  {
   "cell_type": "code",
   "execution_count": 8,
   "metadata": {
    "execution": {
     "iopub.execute_input": "2023-02-01T13:29:55.460327Z",
     "iopub.status.busy": "2023-02-01T13:29:55.460221Z",
     "iopub.status.idle": "2023-02-01T13:29:55.564993Z",
     "shell.execute_reply": "2023-02-01T13:29:55.564745Z"
    },
    "tags": [
     "raises-exception"
    ]
   },
   "outputs": [
    {
     "ename": "RecursionError",
     "evalue": "maximum recursion depth exceeded",
     "output_type": "error",
     "traceback": [
      "\u001b[0;31m---------------------------------------------------------------------------\u001b[0m",
      "\u001b[0;31mRecursionError\u001b[0m                            Traceback (most recent call last)",
      "Cell \u001b[0;32mIn[8], line 4\u001b[0m\n\u001b[1;32m      1\u001b[0m \u001b[38;5;28;01mdef\u001b[39;00m \u001b[38;5;21mnothing\u001b[39m(n):\n\u001b[1;32m      2\u001b[0m     nothing(n\u001b[38;5;241m+\u001b[39m\u001b[38;5;241m1\u001b[39m)\n\u001b[0;32m----> 4\u001b[0m \u001b[43mnothing\u001b[49m\u001b[43m(\u001b[49m\u001b[38;5;241;43m0\u001b[39;49m\u001b[43m)\u001b[49m\n",
      "Cell \u001b[0;32mIn[8], line 2\u001b[0m, in \u001b[0;36mnothing\u001b[0;34m(n)\u001b[0m\n\u001b[1;32m      1\u001b[0m \u001b[38;5;28;01mdef\u001b[39;00m \u001b[38;5;21mnothing\u001b[39m(n):\n\u001b[0;32m----> 2\u001b[0m     \u001b[43mnothing\u001b[49m\u001b[43m(\u001b[49m\u001b[43mn\u001b[49m\u001b[38;5;241;43m+\u001b[39;49m\u001b[38;5;241;43m1\u001b[39;49m\u001b[43m)\u001b[49m\n",
      "Cell \u001b[0;32mIn[8], line 2\u001b[0m, in \u001b[0;36mnothing\u001b[0;34m(n)\u001b[0m\n\u001b[1;32m      1\u001b[0m \u001b[38;5;28;01mdef\u001b[39;00m \u001b[38;5;21mnothing\u001b[39m(n):\n\u001b[0;32m----> 2\u001b[0m     \u001b[43mnothing\u001b[49m\u001b[43m(\u001b[49m\u001b[43mn\u001b[49m\u001b[38;5;241;43m+\u001b[39;49m\u001b[38;5;241;43m1\u001b[39;49m\u001b[43m)\u001b[49m\n",
      "    \u001b[0;31m[... skipping similar frames: nothing at line 2 (2970 times)]\u001b[0m\n",
      "Cell \u001b[0;32mIn[8], line 2\u001b[0m, in \u001b[0;36mnothing\u001b[0;34m(n)\u001b[0m\n\u001b[1;32m      1\u001b[0m \u001b[38;5;28;01mdef\u001b[39;00m \u001b[38;5;21mnothing\u001b[39m(n):\n\u001b[0;32m----> 2\u001b[0m     \u001b[43mnothing\u001b[49m\u001b[43m(\u001b[49m\u001b[43mn\u001b[49m\u001b[38;5;241;43m+\u001b[39;49m\u001b[38;5;241;43m1\u001b[39;49m\u001b[43m)\u001b[49m\n",
      "\u001b[0;31mRecursionError\u001b[0m: maximum recursion depth exceeded"
     ]
    }
   ],
   "source": [
    "def nothing(n):\n",
    "    nothing(n+1)\n",
    "    \n",
    "nothing(0)"
   ]
  },
  {
   "cell_type": "markdown",
   "metadata": {},
   "source": [
    "This problem can be solved using tail-call recursion. For example, we could implementation the factorial as follows:"
   ]
  },
  {
   "cell_type": "code",
   "execution_count": 9,
   "metadata": {
    "execution": {
     "iopub.execute_input": "2023-02-01T13:29:55.566370Z",
     "iopub.status.busy": "2023-02-01T13:29:55.566281Z",
     "iopub.status.idle": "2023-02-01T13:29:55.568385Z",
     "shell.execute_reply": "2023-02-01T13:29:55.568143Z"
    }
   },
   "outputs": [
    {
     "name": "stdout",
     "output_type": "stream",
     "text": [
      "3628800\n"
     ]
    }
   ],
   "source": [
    "def factorial_tc(n, acc = 1):\n",
    "    if n == 0:\n",
    "        return acc\n",
    "    return factorial_tc(n-1, n * acc)\n",
    "\n",
    "print(factorial_tc(10))"
   ]
  },
  {
   "cell_type": "markdown",
   "metadata": {},
   "source": [
    "In the code above, we see that the recursive calls are final (i.e. that they are always executed last). In that case, the function does not need its local variables & arguments anymore and we could destruct its frame right away... or reuse it for the next call of `factorial_tc`. This optimization is call **tail-call optimization**.\n",
    "\n",
    "If tail-call optimization is applied on `factorial_tc`, then the execution stack never increases in size: there is only a single frame that is shared by all the concurrent calls. Hence, the stack cannot be exhausted.\n",
    "\n",
    "However, note that Python does not implement the tail-call optimization."
   ]
  },
  {
   "cell_type": "markdown",
   "metadata": {},
   "source": [
    "## Memoization\n",
    "\n",
    "In some cases, a naive implementation of a recursive function $f$ may lead to the computation of $f$ As an example, we can take the Fibonacci sequence $\\mathcal{F}$ that is inductively defined by: $\\mathcal{F}(0) = 0$, $\\mathcal{F}(1) = 1$ and $\\mathcal{F}(n+2) = \\mathcal{F}(n+1) + \\mathcal{F}(n)$.\n",
    "\n",
    "Such a definition leads to the following naive implementation:"
   ]
  },
  {
   "cell_type": "code",
   "execution_count": 10,
   "metadata": {
    "execution": {
     "iopub.execute_input": "2023-02-01T13:29:55.569630Z",
     "iopub.status.busy": "2023-02-01T13:29:55.569551Z",
     "iopub.status.idle": "2023-02-01T13:30:09.754279Z",
     "shell.execute_reply": "2023-02-01T13:30:09.753894Z"
    }
   },
   "outputs": [
    {
     "name": "stdout",
     "output_type": "stream",
     "text": [
      "0 0 0:00:00.000001\n",
      "1 1 0:00:00.000001\n",
      "2 1 0:00:00.000001\n",
      "3 2 0:00:00.000001\n",
      "4 3 0:00:00.000001\n",
      "5 5 0:00:00.000002\n",
      "6 8 0:00:00.000003\n",
      "7 13 0:00:00.000004\n",
      "8 21 0:00:00.000006\n",
      "9 34 0:00:00.000009\n",
      "10 55 0:00:00.000013\n",
      "11 89 0:00:00.000021\n",
      "12 144 0:00:00.000034\n",
      "13 233 0:00:00.000052\n",
      "14 377 0:00:00.000083\n",
      "15 610 0:00:00.000135\n",
      "16 987 0:00:00.000219\n",
      "17 1597 0:00:00.000357\n",
      "18 2584 0:00:00.000572\n",
      "19 4181 0:00:00.000926\n",
      "20 6765 0:00:00.001536\n",
      "21 10946 0:00:00.002472\n",
      "22 17711 0:00:00.003920\n",
      "23 28657 0:00:00.006393\n",
      "24 46368 0:00:00.010304\n",
      "25 75025 0:00:00.016677\n",
      "26 121393 0:00:00.027008\n",
      "27 196418 0:00:00.044002\n",
      "28 317811 0:00:00.071238\n",
      "29 514229 0:00:00.115185\n",
      "30 832040 0:00:00.186354\n",
      "31 1346269 0:00:00.301174\n",
      "32 2178309 0:00:00.487888\n",
      "33 3524578 0:00:00.787376\n",
      "34 5702887 0:00:01.268106\n",
      "35 9227465 0:00:02.052218\n",
      "36 14930352 0:00:03.357483\n",
      "37 24157817 0:00:05.438373\n"
     ]
    }
   ],
   "source": [
    "def fibonacci(n):\n",
    "    if n == 0:\n",
    "        return 0\n",
    "    if n == 1:\n",
    "        return 1\n",
    "    return fibonacci(n-1) + fibonacci(n-2)\n",
    "\n",
    "def timed(f, n):\n",
    "    import datetime as dt\n",
    "    \n",
    "    start = dt.datetime.now()\n",
    "    aout  = f(n)\n",
    "    stop  = dt.datetime.now()\n",
    "    \n",
    "    print(n, aout, stop - start)\n",
    "\n",
    "for i in range(38):\n",
    "    timed(fibonacci, i)"
   ]
  },
  {
   "cell_type": "markdown",
   "metadata": {},
   "source": [
    "We can see that the execution time is increasing dramatically, even for small values, whereas, the following iterative counterpart does not have this problem:"
   ]
  },
  {
   "cell_type": "code",
   "execution_count": 11,
   "metadata": {
    "execution": {
     "iopub.execute_input": "2023-02-01T13:30:09.755755Z",
     "iopub.status.busy": "2023-02-01T13:30:09.755641Z",
     "iopub.status.idle": "2023-02-01T13:30:09.758130Z",
     "shell.execute_reply": "2023-02-01T13:30:09.757886Z"
    }
   },
   "outputs": [
    {
     "name": "stdout",
     "output_type": "stream",
     "text": [
      "0 0 0:00:00.000002\n",
      "1 1 0:00:00.000001\n",
      "2 1 0:00:00.000001\n",
      "3 2 0:00:00\n",
      "4 3 0:00:00.000001\n",
      "5 5 0:00:00.000001\n",
      "6 8 0:00:00\n",
      "7 13 0:00:00.000001\n",
      "8 21 0:00:00.000001\n",
      "9 34 0:00:00\n",
      "10 55 0:00:00\n",
      "11 89 0:00:00.000001\n",
      "12 144 0:00:00.000001\n",
      "13 233 0:00:00.000001\n",
      "14 377 0:00:00.000001\n",
      "15 610 0:00:00.000001\n",
      "16 987 0:00:00.000001\n",
      "17 1597 0:00:00.000001\n",
      "18 2584 0:00:00.000001\n",
      "19 4181 0:00:00.000001\n",
      "20 6765 0:00:00.000001\n",
      "21 10946 0:00:00.000001\n",
      "22 17711 0:00:00.000001\n",
      "23 28657 0:00:00.000001\n",
      "24 46368 0:00:00.000002\n",
      "25 75025 0:00:00.000001\n",
      "26 121393 0:00:00.000001\n",
      "27 196418 0:00:00.000002\n",
      "28 317811 0:00:00.000002\n",
      "29 514229 0:00:00.000002\n",
      "30 832040 0:00:00.000001\n",
      "31 1346269 0:00:00.000001\n",
      "32 2178309 0:00:00.000001\n",
      "33 3524578 0:00:00.000001\n",
      "34 5702887 0:00:00.000001\n",
      "35 9227465 0:00:00.000001\n",
      "36 14930352 0:00:00.000002\n",
      "37 24157817 0:00:00.000002\n"
     ]
    }
   ],
   "source": [
    "def iterative_fibonacci(n):\n",
    "    r0, r1 = 0, 1\n",
    "    \n",
    "    while n > 0:\n",
    "        r0, r1, n = r1, r0+r1, n-1\n",
    "    return r0\n",
    "\n",
    "for i in range(38):\n",
    "    timed(iterative_fibonacci, i)"
   ]
  },
  {
   "cell_type": "markdown",
   "metadata": {},
   "source": [
    "Why such a difference? Is recursive implementations are doomed to inefficiency? In fact, if we look closely at our implementation, we can see that we keep recomputing `fibonacci(k)` again and again for some values `k`. For example, for `k = 35`, a call to `fibonacci(35)` leads to a call to `fibonacci(34)` and `fibonacci(33)`. But the call to `fibonacci(34)` again leads to a call of `fibonacci(33)` --- so we are going to compute `fibonacci(33)` twice! And things go worst for `32` that we are going to recompute 3 times... in the end, the recursive definition of Fibonacci keeps recomputing things that we already computed in the past.\n",
    "\n",
    "To overcome this problem, you can cache these intermediate values into a dictionary s.t. when we do a call to `fibonacci(k)`, we first look into the dictionary if we already computed it `k` and return it if so. This gives the following implementation:"
   ]
  },
  {
   "cell_type": "code",
   "execution_count": 12,
   "metadata": {
    "execution": {
     "iopub.execute_input": "2023-02-01T13:30:09.759612Z",
     "iopub.status.busy": "2023-02-01T13:30:09.759503Z",
     "iopub.status.idle": "2023-02-01T13:30:09.762345Z",
     "shell.execute_reply": "2023-02-01T13:30:09.762093Z"
    }
   },
   "outputs": [
    {
     "name": "stdout",
     "output_type": "stream",
     "text": [
      "0 0 0:00:00.000001\n",
      "1 1 0:00:00.000001\n",
      "2 1 0:00:00.000001\n",
      "3 2 0:00:00.000001\n",
      "4 3 0:00:00.000001\n",
      "5 5 0:00:00.000001\n",
      "6 8 0:00:00.000002\n",
      "7 13 0:00:00.000002\n",
      "8 21 0:00:00.000002\n",
      "9 34 0:00:00.000003\n",
      "10 55 0:00:00.000003\n",
      "11 89 0:00:00.000003\n",
      "12 144 0:00:00.000004\n",
      "13 233 0:00:00.000003\n",
      "14 377 0:00:00.000003\n",
      "15 610 0:00:00.000003\n",
      "16 987 0:00:00.000004\n",
      "17 1597 0:00:00.000004\n",
      "18 2584 0:00:00.000004\n",
      "19 4181 0:00:00.000004\n",
      "20 6765 0:00:00.000004\n",
      "21 10946 0:00:00.000005\n",
      "22 17711 0:00:00.000005\n",
      "23 28657 0:00:00.000005\n",
      "24 46368 0:00:00.000006\n",
      "25 75025 0:00:00.000006\n",
      "26 121393 0:00:00.000006\n",
      "27 196418 0:00:00.000006\n",
      "28 317811 0:00:00.000007\n",
      "29 514229 0:00:00.000007\n",
      "30 832040 0:00:00.000007\n",
      "31 1346269 0:00:00.000007\n",
      "32 2178309 0:00:00.000008\n",
      "33 3524578 0:00:00.000007\n",
      "34 5702887 0:00:00.000007\n",
      "35 9227465 0:00:00.000007\n",
      "36 14930352 0:00:00.000007\n",
      "37 24157817 0:00:00.000008\n"
     ]
    }
   ],
   "source": [
    "def fibonacci_cached(n, cache):\n",
    "    # Check the cache first\n",
    "    if n in cache:\n",
    "        return cache[n]\n",
    "    # Cache miss, compute it\n",
    "    if n == 0:\n",
    "        aout = 0\n",
    "    elif n == 1:\n",
    "        aout = 1\n",
    "    else:\n",
    "        aout = fibonacci_cached(n-1, cache) + fibonacci_cached(n-2, cache)\n",
    "    # Store the result in cache and return it\n",
    "    cache[n] = aout; return aout\n",
    "    \n",
    "def fibonacci(n):\n",
    "    return fibonacci_cached(n, {})\n",
    "\n",
    "for i in range(38):\n",
    "    timed(fibonacci, i)"
   ]
  },
  {
   "cell_type": "markdown",
   "metadata": {},
   "source": [
    "Here, we obtain values that are comparable to the iterative version. Note that when doing a memoization, you will be face with the pervasive trade-off of computer science: by caching values, you speed-up your program, but you will also increase your memory consumption.\n",
    "\n",
    "Of course, for the Fibonacci sequence, the iterative version is certainly the way to go. But there are problems where recursion is the way to go and where memoization will be central --- this will be the subject of a subsequence course."
   ]
  },
  {
   "cell_type": "markdown",
   "metadata": {},
   "source": [
    "As a final note, we can modify our last implementation a bit s.t. we store the number of time the `fibonacci` function is called when deactivating the memoization:"
   ]
  },
  {
   "cell_type": "code",
   "execution_count": 13,
   "metadata": {
    "execution": {
     "iopub.execute_input": "2023-02-01T13:30:09.763649Z",
     "iopub.status.busy": "2023-02-01T13:30:09.763547Z",
     "iopub.status.idle": "2023-02-01T13:30:36.001923Z",
     "shell.execute_reply": "2023-02-01T13:30:36.001650Z"
    }
   },
   "outputs": [
    {
     "name": "stdout",
     "output_type": "stream",
     "text": [
      "0 ({0: 1}, 0) 0:00:00.000001\n",
      "1 ({1: 1}, 1) 0:00:00.000001\n",
      "2 ({2: 1, 1: 1, 0: 1}, 1) 0:00:00.000001\n",
      "3 ({3: 1, 2: 1, 1: 2, 0: 1}, 2) 0:00:00.000002\n",
      "4 ({4: 1, 3: 1, 2: 2, 1: 3, 0: 2}, 3) 0:00:00.000002\n",
      "5 ({5: 1, 4: 1, 3: 2, 2: 3, 1: 5, 0: 3}, 5) 0:00:00.000003\n",
      "6 ({6: 1, 5: 1, 4: 2, 3: 3, 2: 5, 1: 8, 0: 5}, 8) 0:00:00.000004\n",
      "7 ({7: 1, 6: 1, 5: 2, 4: 3, 3: 5, 2: 8, 1: 13, 0: 8}, 13) 0:00:00.000006\n",
      "8 ({8: 1, 7: 1, 6: 2, 5: 3, 4: 5, 3: 8, 2: 13, 1: 21, 0: 13}, 21) 0:00:00.000009\n",
      "9 ({9: 1, 8: 1, 7: 2, 6: 3, 5: 5, 4: 8, 3: 13, 2: 21, 1: 34, 0: 21}, 34) 0:00:00.000014\n",
      "10 ({10: 1, 9: 1, 8: 2, 7: 3, 6: 5, 5: 8, 4: 13, 3: 21, 2: 34, 1: 55, 0: 34}, 55) 0:00:00.000023\n",
      "11 ({11: 1, 10: 1, 9: 2, 8: 3, 7: 5, 6: 8, 5: 13, 4: 21, 3: 34, 2: 55, 1: 89, 0: 55}, 89) 0:00:00.000040\n",
      "12 ({12: 1, 11: 1, 10: 2, 9: 3, 8: 5, 7: 8, 6: 13, 5: 21, 4: 34, 3: 55, 2: 89, 1: 144, 0: 89}, 144) 0:00:00.000058\n",
      "13 ({13: 1, 12: 1, 11: 2, 10: 3, 9: 5, 8: 8, 7: 13, 6: 21, 5: 34, 4: 55, 3: 89, 2: 144, 1: 233, 0: 144}, 233) 0:00:00.000091\n",
      "14 ({14: 1, 13: 1, 12: 2, 11: 3, 10: 5, 9: 8, 8: 13, 7: 21, 6: 34, 5: 55, 4: 89, 3: 144, 2: 233, 1: 377, 0: 233}, 377) 0:00:00.000147\n",
      "15 ({15: 1, 14: 1, 13: 2, 12: 3, 11: 5, 10: 8, 9: 13, 8: 21, 7: 34, 6: 55, 5: 89, 4: 144, 3: 233, 2: 377, 1: 610, 0: 377}, 610) 0:00:00.000242\n",
      "16 ({16: 1, 15: 1, 14: 2, 13: 3, 12: 5, 11: 8, 10: 13, 9: 21, 8: 34, 7: 55, 6: 89, 5: 144, 4: 233, 3: 377, 2: 610, 1: 987, 0: 610}, 987) 0:00:00.000418\n",
      "17 ({17: 1, 16: 1, 15: 2, 14: 3, 13: 5, 12: 8, 11: 13, 10: 21, 9: 34, 8: 55, 7: 89, 6: 144, 5: 233, 4: 377, 3: 610, 2: 987, 1: 1597, 0: 987}, 1597) 0:00:00.000682\n",
      "18 ({18: 1, 17: 1, 16: 2, 15: 3, 14: 5, 13: 8, 12: 13, 11: 21, 10: 34, 9: 55, 8: 89, 7: 144, 6: 233, 5: 377, 4: 610, 3: 987, 2: 1597, 1: 2584, 0: 1597}, 2584) 0:00:00.001050\n",
      "19 ({19: 1, 18: 1, 17: 2, 16: 3, 15: 5, 14: 8, 13: 13, 12: 21, 11: 34, 10: 55, 9: 89, 8: 144, 7: 233, 6: 377, 5: 610, 4: 987, 3: 1597, 2: 2584, 1: 4181, 0: 2584}, 4181) 0:00:00.001702\n",
      "20 ({20: 1, 19: 1, 18: 2, 17: 3, 16: 5, 15: 8, 14: 13, 13: 21, 12: 34, 11: 55, 10: 89, 9: 144, 8: 233, 7: 377, 6: 610, 5: 987, 4: 1597, 3: 2584, 2: 4181, 1: 6765, 0: 4181}, 6765) 0:00:00.002806\n",
      "21 ({21: 1, 20: 1, 19: 2, 18: 3, 17: 5, 16: 8, 15: 13, 14: 21, 13: 34, 12: 55, 11: 89, 10: 144, 9: 233, 8: 377, 7: 610, 6: 987, 5: 1597, 4: 2584, 3: 4181, 2: 6765, 1: 10946, 0: 6765}, 10946) 0:00:00.004567\n",
      "22 ({22: 1, 21: 1, 20: 2, 19: 3, 18: 5, 17: 8, 16: 13, 15: 21, 14: 34, 13: 55, 12: 89, 11: 144, 10: 233, 9: 377, 8: 610, 7: 987, 6: 1597, 5: 2584, 4: 4181, 3: 6765, 2: 10946, 1: 17711, 0: 10946}, 17711) 0:00:00.007287\n",
      "23 ({23: 1, 22: 1, 21: 2, 20: 3, 19: 5, 18: 8, 17: 13, 16: 21, 15: 34, 14: 55, 13: 89, 12: 144, 11: 233, 10: 377, 9: 610, 8: 987, 7: 1597, 6: 2584, 5: 4181, 4: 6765, 3: 10946, 2: 17711, 1: 28657, 0: 17711}, 28657) 0:00:00.011886\n",
      "24 ({24: 1, 23: 1, 22: 2, 21: 3, 20: 5, 19: 8, 18: 13, 17: 21, 16: 34, 15: 55, 14: 89, 13: 144, 12: 233, 11: 377, 10: 610, 9: 987, 8: 1597, 7: 2584, 6: 4181, 5: 6765, 4: 10946, 3: 17711, 2: 28657, 1: 46368, 0: 28657}, 46368) 0:00:00.019149\n",
      "25 ({25: 1, 24: 1, 23: 2, 22: 3, 21: 5, 20: 8, 19: 13, 18: 21, 17: 34, 16: 55, 15: 89, 14: 144, 13: 233, 12: 377, 11: 610, 10: 987, 9: 1597, 8: 2584, 7: 4181, 6: 6765, 5: 10946, 4: 17711, 3: 28657, 2: 46368, 1: 75025, 0: 46368}, 75025) 0:00:00.030970\n",
      "26 ({26: 1, 25: 1, 24: 2, 23: 3, 22: 5, 21: 8, 20: 13, 19: 21, 18: 34, 17: 55, 16: 89, 15: 144, 14: 233, 13: 377, 12: 610, 11: 987, 10: 1597, 9: 2584, 8: 4181, 7: 6765, 6: 10946, 5: 17711, 4: 28657, 3: 46368, 2: 75025, 1: 121393, 0: 75025}, 121393) 0:00:00.050439\n",
      "27 ({27: 1, 26: 1, 25: 2, 24: 3, 23: 5, 22: 8, 21: 13, 20: 21, 19: 34, 18: 55, 17: 89, 16: 144, 15: 233, 14: 377, 13: 610, 12: 987, 11: 1597, 10: 2584, 9: 4181, 8: 6765, 7: 10946, 6: 17711, 5: 28657, 4: 46368, 3: 75025, 2: 121393, 1: 196418, 0: 121393}, 196418) 0:00:00.081160\n",
      "28 ({28: 1, 27: 1, 26: 2, 25: 3, 24: 5, 23: 8, 22: 13, 21: 21, 20: 34, 19: 55, 18: 89, 17: 144, 16: 233, 15: 377, 14: 610, 13: 987, 12: 1597, 11: 2584, 10: 4181, 9: 6765, 8: 10946, 7: 17711, 6: 28657, 5: 46368, 4: 75025, 3: 121393, 2: 196418, 1: 317811, 0: 196418}, 317811) 0:00:00.131024\n",
      "29 ({29: 1, 28: 1, 27: 2, 26: 3, 25: 5, 24: 8, 23: 13, 22: 21, 21: 34, 20: 55, 19: 89, 18: 144, 17: 233, 16: 377, 15: 610, 14: 987, 13: 1597, 12: 2584, 11: 4181, 10: 6765, 9: 10946, 8: 17711, 7: 28657, 6: 46368, 5: 75025, 4: 121393, 3: 196418, 2: 317811, 1: 514229, 0: 317811}, 514229) 0:00:00.212129\n",
      "30 ({30: 1, 29: 1, 28: 2, 27: 3, 26: 5, 25: 8, 24: 13, 23: 21, 22: 34, 21: 55, 20: 89, 19: 144, 18: 233, 17: 377, 16: 610, 15: 987, 14: 1597, 13: 2584, 12: 4181, 11: 6765, 10: 10946, 9: 17711, 8: 28657, 7: 46368, 6: 75025, 5: 121393, 4: 196418, 3: 317811, 2: 514229, 1: 832040, 0: 514229}, 832040) 0:00:00.347695\n",
      "31 ({31: 1, 30: 1, 29: 2, 28: 3, 27: 5, 26: 8, 25: 13, 24: 21, 23: 34, 22: 55, 21: 89, 20: 144, 19: 233, 18: 377, 17: 610, 16: 987, 15: 1597, 14: 2584, 13: 4181, 12: 6765, 11: 10946, 10: 17711, 9: 28657, 8: 46368, 7: 75025, 6: 121393, 5: 196418, 4: 317811, 3: 514229, 2: 832040, 1: 1346269, 0: 832040}, 1346269) 0:00:00.563480\n",
      "32 ({32: 1, 31: 1, 30: 2, 29: 3, 28: 5, 27: 8, 26: 13, 25: 21, 24: 34, 23: 55, 22: 89, 21: 144, 20: 233, 19: 377, 18: 610, 17: 987, 16: 1597, 15: 2584, 14: 4181, 13: 6765, 12: 10946, 11: 17711, 10: 28657, 9: 46368, 8: 75025, 7: 121393, 6: 196418, 5: 317811, 4: 514229, 3: 832040, 2: 1346269, 1: 2178309, 0: 1346269}, 2178309) 0:00:00.902577\n",
      "33 ({33: 1, 32: 1, 31: 2, 30: 3, 29: 5, 28: 8, 27: 13, 26: 21, 25: 34, 24: 55, 23: 89, 22: 144, 21: 233, 20: 377, 19: 610, 18: 987, 17: 1597, 16: 2584, 15: 4181, 14: 6765, 13: 10946, 12: 17711, 11: 28657, 10: 46368, 9: 75025, 8: 121393, 7: 196418, 6: 317811, 5: 514229, 4: 832040, 3: 1346269, 2: 2178309, 1: 3524578, 0: 2178309}, 3524578) 0:00:01.462939\n",
      "34 ({34: 1, 33: 1, 32: 2, 31: 3, 30: 5, 29: 8, 28: 13, 27: 21, 26: 34, 25: 55, 24: 89, 23: 144, 22: 233, 21: 377, 20: 610, 19: 987, 18: 1597, 17: 2584, 16: 4181, 15: 6765, 14: 10946, 13: 17711, 12: 28657, 11: 46368, 10: 75025, 9: 121393, 8: 196418, 7: 317811, 6: 514229, 5: 832040, 4: 1346269, 3: 2178309, 2: 3524578, 1: 5702887, 0: 3524578}, 5702887) 0:00:02.367196\n",
      "35 ({35: 1, 34: 1, 33: 2, 32: 3, 31: 5, 30: 8, 29: 13, 28: 21, 27: 34, 26: 55, 25: 89, 24: 144, 23: 233, 22: 377, 21: 610, 20: 987, 19: 1597, 18: 2584, 17: 4181, 16: 6765, 15: 10946, 14: 17711, 13: 28657, 12: 46368, 11: 75025, 10: 121393, 9: 196418, 8: 317811, 7: 514229, 6: 832040, 5: 1346269, 4: 2178309, 3: 3524578, 2: 5702887, 1: 9227465, 0: 5702887}, 9227465) 0:00:03.865184\n",
      "36 ({36: 1, 35: 1, 34: 2, 33: 3, 32: 5, 31: 8, 30: 13, 29: 21, 28: 34, 27: 55, 26: 89, 25: 144, 24: 233, 23: 377, 22: 610, 21: 987, 20: 1597, 19: 2584, 18: 4181, 17: 6765, 16: 10946, 15: 17711, 14: 28657, 13: 46368, 12: 75025, 11: 121393, 10: 196418, 9: 317811, 8: 514229, 7: 832040, 6: 1346269, 5: 2178309, 4: 3524578, 3: 5702887, 2: 9227465, 1: 14930352, 0: 9227465}, 14930352) 0:00:06.172089\n",
      "37 ({37: 1, 36: 1, 35: 2, 34: 3, 33: 5, 32: 8, 31: 13, 30: 21, 29: 34, 28: 55, 27: 89, 26: 144, 25: 233, 24: 377, 23: 610, 22: 987, 21: 1597, 20: 2584, 19: 4181, 18: 6765, 17: 10946, 16: 17711, 15: 28657, 14: 46368, 13: 75025, 12: 121393, 11: 196418, 10: 317811, 9: 514229, 8: 832040, 7: 1346269, 6: 2178309, 5: 3524578, 4: 5702887, 3: 9227465, 2: 14930352, 1: 24157817, 0: 14930352}, 24157817) 0:00:09.997294\n"
     ]
    }
   ],
   "source": [
    "def fibonacci_c(n, counts):\n",
    "    counts[n] = counts.get(n, 0) + 1\n",
    "    if n == 0:\n",
    "        return 0\n",
    "    elif n == 1:\n",
    "        return 1\n",
    "    else:\n",
    "        return fibonacci_c(n-1, counts) + fibonacci_c(n-2, counts)\n",
    "    \n",
    "def fibonacci(n):\n",
    "    counts = {}; aout = fibonacci_c(n, counts)\n",
    "    return (counts, aout)\n",
    "\n",
    "for i in range(38):\n",
    "    timed(fibonacci, i)"
   ]
  },
  {
   "cell_type": "markdown",
   "metadata": {},
   "source": [
    "# Generators"
   ]
  },
  {
   "cell_type": "markdown",
   "metadata": {},
   "source": [
    "An **generator** is a kind of cursor that allows to iterate over a sequence of objects. The iterator makes it possible to navigate through each object in a sequence without worrying about the underlying structure.\n",
    "\n",
    "Iterators are pervasive in Python. For instance, `range(n)` is an iterator that allow to iterate over `0`, `1`, ..., `n-1`. A list is an iterator that allows to iterate over its arguments. You iterate over iterators using the `for i in iterator` construction:"
   ]
  },
  {
   "cell_type": "code",
   "execution_count": 14,
   "metadata": {
    "execution": {
     "iopub.execute_input": "2023-02-01T13:30:36.003376Z",
     "iopub.status.busy": "2023-02-01T13:30:36.003275Z",
     "iopub.status.idle": "2023-02-01T13:30:36.005292Z",
     "shell.execute_reply": "2023-02-01T13:30:36.005009Z"
    }
   },
   "outputs": [
    {
     "name": "stdout",
     "output_type": "stream",
     "text": [
      "0\n",
      "1\n",
      "2\n",
      "3\n",
      "4\n",
      "5\n",
      "6\n",
      "7\n",
      "8\n",
      "9\n"
     ]
    }
   ],
   "source": [
    "for i in range(10):\n",
    "    print(i)"
   ]
  },
  {
   "cell_type": "markdown",
   "metadata": {},
   "source": [
    "Why not using directly list? First, iterators bring a higher level of abstraction, i.e. they allow you to programmatically generate your sequence. Second, by its very own nature, iterators are inexpensive objects in terms of memory usage as you do not build the full sequence in memory --- you may write infinite iterators!"
   ]
  },
  {
   "cell_type": "markdown",
   "metadata": {},
   "source": [
    "## Implementing an iterator"
   ]
  },
  {
   "cell_type": "markdown",
   "metadata": {},
   "source": [
    "Iterators are simply objects that come with two special methods called `.__next__()`. This method is responsible for returning the next value in the iterator. Moreover, objects may defined a special method called `.__iter__()` to return the actual implementation of the iterator.\n",
    "\n",
    "For example, we could reimplement a simplified version of the `range` iterator:"
   ]
  },
  {
   "cell_type": "code",
   "execution_count": 15,
   "metadata": {
    "execution": {
     "iopub.execute_input": "2023-02-01T13:30:36.006552Z",
     "iopub.status.busy": "2023-02-01T13:30:36.006465Z",
     "iopub.status.idle": "2023-02-01T13:30:36.009081Z",
     "shell.execute_reply": "2023-02-01T13:30:36.008763Z"
    }
   },
   "outputs": [
    {
     "name": "stdout",
     "output_type": "stream",
     "text": [
      "0\n",
      "1\n",
      "2\n",
      "3\n",
      "4\n",
      "5\n",
      "6\n",
      "7\n",
      "8\n",
      "9\n"
     ]
    }
   ],
   "source": [
    "class myrange:\n",
    "    def __init__(self, bound):\n",
    "        self.__current = 0\n",
    "        self.__bound   = bound\n",
    "        \n",
    "    def __iter__(self):\n",
    "        # We are our own iterator\n",
    "        return self\n",
    "        \n",
    "    def __next__(self):\n",
    "        if self.__current >= self.__bound:\n",
    "            # Indicates that we are done with the iteration\n",
    "            raise StopIteration\n",
    "        aout = self.__current\n",
    "        self.__current += 1\n",
    "        return aout\n",
    "    \n",
    "for i in myrange(10):\n",
    "    print(i)"
   ]
  },
  {
   "cell_type": "markdown",
   "metadata": {},
   "source": [
    "We can also manually iterate over an object using the `iter()` and `next()` builtin, where `iter()` returns an actual iterator and `next()` returns the next value in the iterator. We detect the end of the iteration when the iterator raises the error (or exception) `StopIteration`."
   ]
  },
  {
   "cell_type": "code",
   "execution_count": 16,
   "metadata": {
    "execution": {
     "iopub.execute_input": "2023-02-01T13:30:36.010373Z",
     "iopub.status.busy": "2023-02-01T13:30:36.010269Z",
     "iopub.status.idle": "2023-02-01T13:30:36.012227Z",
     "shell.execute_reply": "2023-02-01T13:30:36.012001Z"
    }
   },
   "outputs": [
    {
     "name": "stdout",
     "output_type": "stream",
     "text": [
      "0\n",
      "1\n",
      "2\n",
      "3\n",
      "4\n",
      "5\n",
      "6\n",
      "7\n",
      "8\n",
      "9\n"
     ]
    }
   ],
   "source": [
    "it = iter(myrange(10))\n",
    "while True:\n",
    "    try:\n",
    "        print(next(it))\n",
    "    except StopIteration:\n",
    "        break"
   ]
  },
  {
   "cell_type": "markdown",
   "metadata": {},
   "source": [
    "We could for instance define an iterator that iterates over the (infinite) sequence of Fibonacci numbers"
   ]
  },
  {
   "cell_type": "code",
   "execution_count": 17,
   "metadata": {
    "execution": {
     "iopub.execute_input": "2023-02-01T13:30:36.013368Z",
     "iopub.status.busy": "2023-02-01T13:30:36.013283Z",
     "iopub.status.idle": "2023-02-01T13:30:36.015634Z",
     "shell.execute_reply": "2023-02-01T13:30:36.015430Z"
    }
   },
   "outputs": [
    {
     "name": "stdout",
     "output_type": "stream",
     "text": [
      "0\n",
      "1\n",
      "1\n",
      "2\n",
      "3\n",
      "5\n",
      "8\n",
      "13\n",
      "21\n",
      "34\n",
      "55\n",
      "89\n",
      "144\n",
      "233\n",
      "377\n",
      "610\n",
      "987\n",
      "1597\n",
      "2584\n",
      "4181\n"
     ]
    }
   ],
   "source": [
    "class Fibonacci:\n",
    "    def __init__(self):\n",
    "        self.__r0, self.__r1 = 0, 1\n",
    "        \n",
    "    def __iter__(self):\n",
    "        # We are our own iterator\n",
    "        return self\n",
    "        \n",
    "    def __next__(self):\n",
    "        aout = self.__r0\n",
    "        self.__r0, self.__r1 = self.__r1, self.__r0 + self.__r1\n",
    "        return aout\n",
    "\n",
    "fibo = iter(Fibonacci())\n",
    "for _ in range(20):\n",
    "    print(next(fibo))"
   ]
  },
  {
   "cell_type": "markdown",
   "metadata": {},
   "source": [
    "## The `yield` builtin\n",
    "\n",
    "Python provides an idiomatic way to implement iterators via the `yield` builtin. Basically, any python function that contains the `yield` keyword is turned into an iterator that is going to enumerate all the values that are passed by the different calls to `yield`:"
   ]
  },
  {
   "cell_type": "code",
   "execution_count": 18,
   "metadata": {
    "execution": {
     "iopub.execute_input": "2023-02-01T13:30:36.016782Z",
     "iopub.status.busy": "2023-02-01T13:30:36.016695Z",
     "iopub.status.idle": "2023-02-01T13:30:36.018813Z",
     "shell.execute_reply": "2023-02-01T13:30:36.018533Z"
    }
   },
   "outputs": [
    {
     "name": "stdout",
     "output_type": "stream",
     "text": [
      "0\n",
      "1\n",
      "2\n",
      "3\n",
      "4\n",
      "5\n",
      "6\n",
      "7\n",
      "8\n",
      "9\n"
     ]
    }
   ],
   "source": [
    "def myrange(n):\n",
    "    i = 0\n",
    "    while i < n:\n",
    "        yield i\n",
    "        i += 1\n",
    "        \n",
    "for j in myrange(10):\n",
    "    print(j)"
   ]
  },
  {
   "cell_type": "markdown",
   "metadata": {},
   "source": [
    "It is important to understand that we here face a non-local control-flow. When entering the `for`-loop, Python starts the execution of `myrange`, up to the execution of `yield`. At that point, Python **suspends** the execution of `myrange` and give the control-back to the `for`-loop (assignment the `yield`-ed value to the loop index `i`). When the loop body has been executed, Python resumes the execution of the iterator... up to next execution of `yield`, where it gives back the control to the `for`-loop. When we exit the iterator function, the iteration is over.\n",
    "\n",
    "Here is our Fibonacci iterator reimplemented in terms of `yield`:"
   ]
  },
  {
   "cell_type": "code",
   "execution_count": 19,
   "metadata": {
    "execution": {
     "iopub.execute_input": "2023-02-01T13:30:36.020065Z",
     "iopub.status.busy": "2023-02-01T13:30:36.019982Z",
     "iopub.status.idle": "2023-02-01T13:30:36.022131Z",
     "shell.execute_reply": "2023-02-01T13:30:36.021899Z"
    }
   },
   "outputs": [
    {
     "name": "stdout",
     "output_type": "stream",
     "text": [
      "0\n",
      "1\n",
      "1\n",
      "2\n",
      "3\n",
      "5\n",
      "8\n",
      "13\n",
      "21\n",
      "34\n",
      "55\n",
      "89\n",
      "144\n",
      "233\n",
      "377\n",
      "610\n",
      "987\n",
      "1597\n",
      "2584\n",
      "4181\n"
     ]
    }
   ],
   "source": [
    "def fibonacci():\n",
    "    r0, r1 = 0, 1\n",
    "    while True:\n",
    "        yield r0\n",
    "        r0, r1 = r1, r0+r1\n",
    "        \n",
    "fibo = iter(fibonacci())\n",
    "for _ in range(20):\n",
    "    print(next(fibo))"
   ]
  },
  {
   "cell_type": "markdown",
   "metadata": {},
   "source": [
    "Note that it is perfectly valid to use an iterator in the implementation of some other iterators. However, we have to be a bit careful here and to explicitly `yield` the value of the subiterators:"
   ]
  },
  {
   "cell_type": "code",
   "execution_count": 20,
   "metadata": {
    "execution": {
     "iopub.execute_input": "2023-02-01T13:30:36.023338Z",
     "iopub.status.busy": "2023-02-01T13:30:36.023252Z",
     "iopub.status.idle": "2023-02-01T13:30:36.025280Z",
     "shell.execute_reply": "2023-02-01T13:30:36.025054Z"
    }
   },
   "outputs": [
    {
     "name": "stdout",
     "output_type": "stream",
     "text": [
      "0\n",
      "1\n",
      "2\n",
      "3\n",
      "4\n",
      "5\n",
      "6\n",
      "7\n",
      "8\n",
      "9\n",
      "-10\n",
      "-9\n",
      "-8\n",
      "-7\n",
      "-6\n",
      "-5\n",
      "-4\n",
      "-3\n",
      "-2\n",
      "-1\n"
     ]
    }
   ],
   "source": [
    "def myiter(n):\n",
    "    for i in range(0, n):\n",
    "        yield i\n",
    "    for i in range(-n, 0):\n",
    "        yield i\n",
    "        \n",
    "for j in myiter(10):\n",
    "    print(j)"
   ]
  },
  {
   "cell_type": "markdown",
   "metadata": {},
   "source": [
    "Note that you can also `yield` all the values of a subiterator using the `yield from` syntax, as examplified below:"
   ]
  },
  {
   "cell_type": "code",
   "execution_count": 21,
   "metadata": {
    "execution": {
     "iopub.execute_input": "2023-02-01T13:30:36.026581Z",
     "iopub.status.busy": "2023-02-01T13:30:36.026499Z",
     "iopub.status.idle": "2023-02-01T13:30:36.028445Z",
     "shell.execute_reply": "2023-02-01T13:30:36.028201Z"
    }
   },
   "outputs": [
    {
     "name": "stdout",
     "output_type": "stream",
     "text": [
      "0\n",
      "1\n",
      "2\n",
      "3\n",
      "4\n",
      "5\n",
      "6\n",
      "7\n",
      "8\n",
      "9\n",
      "-10\n",
      "-9\n",
      "-8\n",
      "-7\n",
      "-6\n",
      "-5\n",
      "-4\n",
      "-3\n",
      "-2\n",
      "-1\n"
     ]
    }
   ],
   "source": [
    "def myiter2(n):\n",
    "    yield from range(0, n)\n",
    "    yield from range(-n, 0)\n",
    "    \n",
    "for j in myiter(10):\n",
    "    print(j)"
   ]
  },
  {
   "cell_type": "code",
   "execution_count": null,
   "metadata": {},
   "outputs": [],
   "source": []
  }
 ],
 "metadata": {
  "celltoolbar": "Format de la Cellule Texte Brut",
  "kernelspec": {
   "display_name": "Python 3",
   "language": "python",
   "name": "python3"
  },
  "language_info": {
   "codemirror_mode": {
    "name": "ipython",
    "version": 3
   },
   "file_extension": ".py",
   "mimetype": "text/x-python",
   "name": "python",
   "nbconvert_exporter": "python",
   "pygments_lexer": "ipython3",
   "version": "3.10.4"
  }
 },
 "nbformat": 4,
 "nbformat_minor": 4
}
