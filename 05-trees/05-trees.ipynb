{
 "cells": [
  {
   "cell_type": "markdown",
   "metadata": {},
   "source": [
    "# Trees\n",
    "\n",
    "A tree is a structure made up of nodes, which can have children (which are other nodes). In the example, node `C` has as children nodes `F` and `I`, and is itself the child of node `A`.\n",
    "\n",
    "<!--\n",
    "digraph G {\n",
    " node [margin=0 fontsize=12 width=0.5 shape=circle style=filled]\n",
    " A -> {B C D}\n",
    " B -> E\n",
    " C -> {F I}\n",
    " F -> {G H}\n",
    "}\n",
    "-->\n",
    "\n",
    "<figure>\n",
    "<table><tr>\n",
    "    <td><img src=\"files/tree-01.png\" style=\"width: 200px\"></td>\n",
    "</tr></table>\n",
    "</figure>\n",
    "\n",
    "Two types of nodes have a special status: nodes that have no children, called **leaves**, and a node that is not a child of any other node, called the **root**. There must be only one root, otherwise it would make several disjointed trees. In the example, `A` is the root and `E`, `G`, `H`, `I` are the leaves.\n",
    "\n",
    "<figure>\n",
    "<table><tr>\n",
    "    <td><img src=\"files/tree-01-with-infos.png\" style=\"width: 380px\"></td>\n",
    "</tr></table>\n",
    "</figure>\n",
    "\n",
    "In a tree, it is also imposed that every node is a descendant of the root and that there is no cycles (i.e. it is not possible to pass twice through the same node when following the \"children relation\").\n",
    "\n",
    "For example, the following structures are not trees (The first one because the node `E` cannot be reached from the root `A`. The second because there is a cycle `A -> B -> C -> A`.\n",
    "\n",
    "<!--\n",
    "digraph G {\n",
    " node [margin=0 fontsize=12 width=0.5 shape=circle style=filled]\n",
    " A -> {B C D}\n",
    " B -> E [style=invis]\n",
    " C -> {F I}\n",
    " F -> {G H}\n",
    "}\n",
    "\n",
    "digraph G {\n",
    " node [margin=0 fontsize=12 width=0.5 shape=circle style=filled]\n",
    " A -> {B C D}\n",
    " B -> E\n",
    " C -> {F I}\n",
    " F -> {G H}\n",
    " B -> C [constraint=false]\n",
    "}\n",
    "-->\n",
    "\n",
    "<figure>\n",
    "<table><tr>\n",
    "    <td><img src=\"files/not-tree-01.png\" style=\"width: 200px\">\n",
    "    <td><img src=\"files/not-tree-02.png\" style=\"width: 200px\">\n",
    "</tr></table>\n",
    "</figure>\n",
    "\n",
    "We are not usually interested only in the structure of the tree (what is the root, where are the leaves, how many children a node has, etc.), but we usually want to store information in it. We will therefore consider trees where each node contains a value (for example an integer). Moreover, trees with additional restrictions are often used (number of children, relationship between children and parents, etc). In particular binary trees, where each node has no more than two children, are very common.\n",
    "\n",
    "As an example, you can find below a tree where each node is labeled with an integer, where all children are labeled with values strictly smaller that their parent and the sum of all the labels of the children of a node is smaller than the label of that node (this is purely arbitrary, but we will find such restrictions in the following courses).\n",
    "\n",
    "<!--\n",
    "digraph G {\n",
    " node [margin=0 fontsize=12 width=0.5 shape=circle style=filled]\n",
    " A [label=\"10\"]\n",
    " B [label=\"2\"]\n",
    " C [label=\"5\"]\n",
    " D [label=\"2\"]\n",
    " E [label=\"1\"]\n",
    " F [label=\"3\"]\n",
    " G [label=\"2\"]\n",
    " H [label=\"1\"]\n",
    " I [label=\"1\"]\n",
    " A -> {B C D}\n",
    " B -> E\n",
    " C -> {F I}\n",
    " F -> {G H}\n",
    "}\n",
    "-->\n",
    "\n",
    "<figure>\n",
    "<table><tr>\n",
    "    <td><img src=\"files/tree-02.png\" style=\"width: 200px\"></td>\n",
    "</tr></table>\n",
    "</figure>\n",
    "\n",
    "Finally, we can give an inductive (a.k.a. recursive) definition of a tree: a tree with labels in $\\mathcal{L}$ is defined by a value $l \\in \\mathcal{L}$ (its label) and a (possibly empty) sequence (or list) of trees (its children). For example, the tree of our first example has label `A` and has 3 children: the trees *rooted* at `B`, `C`, `D`. In turn, the first child of `A` as label `B` and has 1 children: the tree *rooted* `E`, etc, etc..."
   ]
  },
  {
   "cell_type": "markdown",
   "metadata": {},
   "source": [
    "## Representing trees in Python\n",
    "\n",
    "The standard/usual representation of trees in Python is done via a class `Node` whose instances represent different nodes of some trees. Following the recursive definition of trees, this instance must have two data attributes: one for the label and one for the node's list of children."
   ]
  },
  {
   "cell_type": "code",
   "execution_count": 1,
   "metadata": {
    "execution": {
     "iopub.execute_input": "2023-03-13T05:01:42.617097Z",
     "iopub.status.busy": "2023-03-13T05:01:42.615673Z",
     "iopub.status.idle": "2023-03-13T05:01:42.638525Z",
     "shell.execute_reply": "2023-03-13T05:01:42.637877Z"
    }
   },
   "outputs": [
    {
     "name": "stdout",
     "output_type": "stream",
     "text": [
      "A\n",
      "C\n",
      "E\n"
     ]
    }
   ],
   "source": [
    "class Node:\n",
    "    def __init__(self, label, children = []):\n",
    "        \"\"\" Create a new tree node with label `label` and children\n",
    "            `children` that must be a list of instances of Node. \"\"\"\n",
    "        self.label    = label    # We store the node label\n",
    "        self.children = children # By default, the node is created with no children\n",
    "     \n",
    "# Create a Python representation of the tree of the first example\n",
    "mytree = \\\n",
    "  Node(\"A\", [\n",
    "      Node(\"B\", [Node(\"E\")]),\n",
    "      Node(\"C\", [\n",
    "          Node(\"F\", [Node(\"G\"), Node(\"H\")]),\n",
    "          Node(\"I\")\n",
    "      ]),\n",
    "      Node(\"D\")\n",
    "  ])\n",
    "\n",
    "print(mytree.label)\n",
    "print(mytree.children[1].label)\n",
    "print(mytree.children[0].children[0].label)"
   ]
  },
  {
   "cell_type": "markdown",
   "metadata": {},
   "source": [
    "Sometime, we may use more specialized versions of tree representations. For example, binary trees are trees that have at most two children which are referred to as the *left child* and the *right child*. In that case, we can use the following representation:"
   ]
  },
  {
   "cell_type": "code",
   "execution_count": 2,
   "metadata": {
    "execution": {
     "iopub.execute_input": "2023-03-13T05:01:42.673408Z",
     "iopub.status.busy": "2023-03-13T05:01:42.673030Z",
     "iopub.status.idle": "2023-03-13T05:01:42.675840Z",
     "shell.execute_reply": "2023-03-13T05:01:42.675460Z"
    }
   },
   "outputs": [],
   "source": [
    "class BinaryNode:\n",
    "    def __init__(self, label, left = None, right= None):\n",
    "        self.label = label # Node label\n",
    "        self.left  = left  # Left child (might be None when not present)\n",
    "        self.right = right # Right child (might be None when not present)"
   ]
  },
  {
   "cell_type": "markdown",
   "metadata": {},
   "source": [
    "Use the class `BinaryNode`, we can represent the following binary tree as shown in the next Python cell.\n",
    "\n",
    "<!--\n",
    "digraph G {\n",
    " graph [ordering=\"out\"];\n",
    " node [margin=0 fontsize=12 width=0.5 shape=circle style=filled]\n",
    " BL [style = invis]\n",
    " A -> {B C}\n",
    " B -> BL [style = dashed, arrowhead = none]\n",
    " B -> D\n",
    " C -> {E F}\n",
    " F -> {G H}\n",
    "}\n",
    "-->\n",
    "\n",
    "<figure>\n",
    "<table><tr>\n",
    "    <td><img src=\"files/tree-03.png\" style=\"width: 250px\"></td>\n",
    "</tr></table>\n",
    "</figure>"
   ]
  },
  {
   "cell_type": "code",
   "execution_count": 3,
   "metadata": {
    "execution": {
     "iopub.execute_input": "2023-03-13T05:01:42.677474Z",
     "iopub.status.busy": "2023-03-13T05:01:42.677338Z",
     "iopub.status.idle": "2023-03-13T05:01:42.679600Z",
     "shell.execute_reply": "2023-03-13T05:01:42.679260Z"
    }
   },
   "outputs": [],
   "source": [
    "# Create a Python representation of the binary tree above\n",
    "mybintree = \\\n",
    "    BinaryNode(\"A\",\n",
    "        BinaryNode(\"B\", None, BinaryNode(\"D\")),\n",
    "        BinaryNode(\"C\",\n",
    "            BinaryNode(\"E\"),\n",
    "            BinaryNode(\"F\", BinaryNode(\"G\"), BinaryNode(\"H\"))\n",
    "        )\n",
    "    )"
   ]
  },
  {
   "cell_type": "markdown",
   "metadata": {},
   "source": [
    "## Computing function on trees\n",
    "\n",
    "We are now interested in computing function on trees. We here give a few functions that can be defined recursively on the structure of trees.\n",
    "\n",
    "### Size of a tree\n",
    "\n",
    "The size of a tree is defined by the numbers of nodes that it contains (i.e. the number of nodes that can be reached from the root, including the root itself). The reasoning for computing it is quite simple: a tree is a node and the list of its children, so its size is one (the node), plus the size of the subtrees starting from each child:\n",
    "\n",
    "$$|\\text{node}| = 1 + \\sum_{c\\ \\in\\ \\text{node.children}} |c|$$\n",
    "\n",
    "where $|\\text{node}|$ denotes the size of the tree rooted at `node`. On our first example, this gives:\n",
    "\n",
    "<figure>\n",
    "<table><tr>\n",
    "    <td><img src=\"files/tree-size.png\" style=\"height: 150px\"></td>\n",
    "</tr></table>\n",
    "</figure>\n",
    "\n",
    "Of course, we are going to compute the size of the children use a recursive call to the relevant function. In Python, this gives:"
   ]
  },
  {
   "cell_type": "code",
   "execution_count": 4,
   "metadata": {
    "execution": {
     "iopub.execute_input": "2023-03-13T05:01:42.681220Z",
     "iopub.status.busy": "2023-03-13T05:01:42.681086Z",
     "iopub.status.idle": "2023-03-13T05:01:42.683414Z",
     "shell.execute_reply": "2023-03-13T05:01:42.683112Z"
    }
   },
   "outputs": [
    {
     "name": "stdout",
     "output_type": "stream",
     "text": [
      "9\n"
     ]
    }
   ],
   "source": [
    "def size(node):\n",
    "    # One liner: return 1 + sum(size(x) for x in node.children)\n",
    "    aout = 0\n",
    "    for child in node.children:\n",
    "        aout += size(child)\n",
    "    return 1 + aout\n",
    "\n",
    "print(size(mytree))"
   ]
  },
  {
   "cell_type": "markdown",
   "metadata": {},
   "source": [
    "Note that we could have defined the size computation using a method of the class `Node`:"
   ]
  },
  {
   "cell_type": "code",
   "execution_count": 5,
   "metadata": {
    "execution": {
     "iopub.execute_input": "2023-03-13T05:01:42.684851Z",
     "iopub.status.busy": "2023-03-13T05:01:42.684723Z",
     "iopub.status.idle": "2023-03-13T05:01:42.688094Z",
     "shell.execute_reply": "2023-03-13T05:01:42.687661Z"
    }
   },
   "outputs": [
    {
     "name": "stdout",
     "output_type": "stream",
     "text": [
      "9\n"
     ]
    }
   ],
   "source": [
    "class Node:\n",
    "    def __init__(self, label, children = []):\n",
    "        \"\"\" Create a new tree node with label `label` and children\n",
    "            `children` that must be a list of instances of Node. \"\"\"\n",
    "        self.label    = label    # We store the node label\n",
    "        self.children = children # By default, the node is created with no children\n",
    "        \n",
    "    def size(self):\n",
    "        aout = 0\n",
    "        for child in self.children:\n",
    "            aout += child.size()\n",
    "        return 1 + aout\n",
    "     \n",
    "# Since we redefined `Node`, we have to recreate `mytree`\n",
    "# using the new implementation!\n",
    "mytree = \\\n",
    "  Node(\"A\", [\n",
    "      Node(\"B\", [Node(\"E\")]),\n",
    "      Node(\"C\", [\n",
    "          Node(\"F\", [\n",
    "              Node(\"G\"), Node(\"H\")]),\n",
    "              Node(\"I\")\n",
    "          ]\n",
    "      ),\n",
    "      Node(\"D\")\n",
    "  ])\n",
    "\n",
    "print(mytree.size())"
   ]
  },
  {
   "cell_type": "markdown",
   "metadata": {},
   "source": [
    "**Note**: in the remaining of this notebook, I am going to define all operations using functions."
   ]
  },
  {
   "cell_type": "markdown",
   "metadata": {},
   "source": [
    "### Textual representation of a tree\n",
    "\n",
    "Using recursion, we can easily define a textual representation of a tree, as follows:"
   ]
  },
  {
   "cell_type": "code",
   "execution_count": 6,
   "metadata": {
    "execution": {
     "iopub.execute_input": "2023-03-13T05:01:42.689617Z",
     "iopub.status.busy": "2023-03-13T05:01:42.689494Z",
     "iopub.status.idle": "2023-03-13T05:01:42.691896Z",
     "shell.execute_reply": "2023-03-13T05:01:42.691611Z"
    }
   },
   "outputs": [
    {
     "name": "stdout",
     "output_type": "stream",
     "text": [
      "A[B[E], C[F[G, H], I], D]\n"
     ]
    }
   ],
   "source": [
    "def node2str(node):\n",
    "    aout = str(node.label)\n",
    "    if node.children:\n",
    "        aout += \"[{}]\".format(\", \".join(node2str(x) for x in node.children))\n",
    "    return aout\n",
    "\n",
    "print(node2str(mytree))"
   ]
  },
  {
   "cell_type": "markdown",
   "metadata": {},
   "source": [
    "### Gathering all labels of a tree\n",
    "\n",
    "For our last example, we are interested in gathering all the labels (with duplicates) of a given tree. Here too, the reasonning is quite simple: the list of labels of a tree rooted at `node` is composed of the `node`'s label and all the labels of its children. This leads to the following function:"
   ]
  },
  {
   "cell_type": "code",
   "execution_count": 7,
   "metadata": {
    "execution": {
     "iopub.execute_input": "2023-03-13T05:01:42.693221Z",
     "iopub.status.busy": "2023-03-13T05:01:42.693103Z",
     "iopub.status.idle": "2023-03-13T05:01:42.695385Z",
     "shell.execute_reply": "2023-03-13T05:01:42.695114Z"
    },
    "scrolled": true
   },
   "outputs": [
    {
     "name": "stdout",
     "output_type": "stream",
     "text": [
      "['A', 'B', 'E', 'C', 'F', 'G', 'H', 'I', 'D']\n"
     ]
    }
   ],
   "source": [
    "def labels(node, accumulator):\n",
    "    accumulator.append(node.label)\n",
    "    for child in node.children:\n",
    "        labels(child, accumulator)\n",
    "    return accumulator\n",
    "\n",
    "print(labels(mytree, []))"
   ]
  },
  {
   "cell_type": "markdown",
   "metadata": {},
   "source": [
    "Note that I used an accumulator for storing the labels. I could have written the function is a more functional way (i.e. in a way closer to its mathematical definition):"
   ]
  },
  {
   "cell_type": "code",
   "execution_count": 8,
   "metadata": {
    "execution": {
     "iopub.execute_input": "2023-03-13T05:01:42.696685Z",
     "iopub.status.busy": "2023-03-13T05:01:42.696596Z",
     "iopub.status.idle": "2023-03-13T05:01:42.698576Z",
     "shell.execute_reply": "2023-03-13T05:01:42.698358Z"
    }
   },
   "outputs": [
    {
     "name": "stdout",
     "output_type": "stream",
     "text": [
      "['A', 'B', 'E', 'C', 'F', 'G', 'H', 'I', 'D']\n"
     ]
    }
   ],
   "source": [
    "def labelsF(node):\n",
    "    return [node.label] + [x for c in node.children for x in labelsF(c)]\n",
    "\n",
    "print(labelsF(mytree))"
   ]
  },
  {
   "cell_type": "markdown",
   "metadata": {},
   "source": [
    "However, for the next remark, we are going to look as the first version `labels`. If we look at the code, we see that we decided to consider the label of the node before considering its elements. But note that this choice is arbitraty: we could have decided to visit the node's children first, leading to the following implementation:"
   ]
  },
  {
   "cell_type": "code",
   "execution_count": 9,
   "metadata": {
    "execution": {
     "iopub.execute_input": "2023-03-13T05:01:42.699786Z",
     "iopub.status.busy": "2023-03-13T05:01:42.699680Z",
     "iopub.status.idle": "2023-03-13T05:01:42.701779Z",
     "shell.execute_reply": "2023-03-13T05:01:42.701526Z"
    }
   },
   "outputs": [
    {
     "name": "stdout",
     "output_type": "stream",
     "text": [
      "['E', 'B', 'G', 'H', 'F', 'I', 'C', 'D', 'A']\n"
     ]
    }
   ],
   "source": [
    "def labels_post(node, accumulator):\n",
    "    for child in node.children:\n",
    "        labels_post(child, accumulator)\n",
    "    accumulator.append(node.label)\n",
    "    return accumulator\n",
    "\n",
    "print(labels_post(mytree, []))"
   ]
  },
  {
   "cell_type": "markdown",
   "metadata": {},
   "source": [
    "You see that the answers are different, but both of them are valid: they are permutation of each other and both contains the labels of our tree. However, they clearly show that there exist several ways to traverse a tree. Here, we saw two of them: depth-first pre-order (you consider the node and then its children) and depth-first post-order (you consider the node's children and then the node). We will consider tree (and graphs) traversals more in details in the next course."
   ]
  },
  {
   "cell_type": "markdown",
   "metadata": {},
   "source": [
    "## Binary Search Tree\n",
    "\n",
    "A binary search tree (BST) is a tree-like data structure representing a set whose keys belong to a completely ordered set (e.g. the integers). A binary search tree allows quick operations to search for an element, or to insert or delete an element.\n",
    "\n",
    "More specifically, a binary search tree is defined as a binary tree whose labels are taken from an ordered set (in our examples, we are going to have integer labels) s.t.:\n",
    "\n",
    "  1. all the labels of the left child of the root are smaller or equal than the root label,\n",
    "  2. all the labels of the right child of the root are larger or equal than the root label, and\n",
    "  3. the left and right subtrees are binary search tree.\n",
    "\n",
    "For example, the following tree is a BST:\n",
    "\n",
    "<!--\n",
    "digraph G {\n",
    " graph [ordering=\"out\"];\n",
    " node [margin=0 fontsize=12 width=0.5 shape=circle style=filled]\n",
    " A [label = \"10\"]\n",
    " B [label = \"5\"]\n",
    " C [label = \"11\"]\n",
    " D [label = \"7\"]\n",
    " E [label = \"11\"]\n",
    " F [label = \"20\"]\n",
    " G [label = \"15\"]\n",
    " H [label = \"24\"]\n",
    " BL [style = invis]\n",
    " A -> {B C}\n",
    " B -> BL [style = dashed, arrowhead = none]\n",
    " B -> D\n",
    " C -> {E F}\n",
    " F -> {G H}\n",
    "}\n",
    "-->\n",
    "\n",
    "<figure>\n",
    "<table><tr>\n",
    "    <td><img src=\"files/bst-01.png\" style=\"width: 250px\"></td>\n",
    "</tr></table>\n",
    "</figure>  \n",
    "\n",
    "Let's first define a function computing the textual representation of a BST:"
   ]
  },
  {
   "cell_type": "code",
   "execution_count": 10,
   "metadata": {
    "execution": {
     "iopub.execute_input": "2023-03-13T05:01:42.703045Z",
     "iopub.status.busy": "2023-03-13T05:01:42.702957Z",
     "iopub.status.idle": "2023-03-13T05:01:42.704938Z",
     "shell.execute_reply": "2023-03-13T05:01:42.704694Z"
    }
   },
   "outputs": [],
   "source": [
    "def bst_str(node):\n",
    "    if node is None:\n",
    "        return '.'\n",
    "    return \"{}[L={}, R={}]\".format(node.label, bst_str(node.left), bst_str(node.right))"
   ]
  },
  {
   "cell_type": "markdown",
   "metadata": {},
   "source": [
    "### Searching\n",
    "\n",
    "When searching for a value `x` in a BST in a tree rooted at `node`, one can use the following algorithm:\n",
    "\n",
    "  - if the label of `node` is `x`, then we are done.\n",
    "  - if `x` is (strictly) smaller than the label of `node`, then we (recursively) search `x` in the left subtree of `node` (but we do **not** search it in the right subtree).\n",
    "  - likewise, if `x` is (strictly) larger than the label of `node`, then we (recursively) search `x` in the right subtree of `node` (but we do **not** search in the left subtree).\n",
    "  \n",
    "As you can see, at each step, we go down in the tree and never go back or backtrack (i.e. revise a previous decision). So at most, we are going to do a number of comparisons that is proportional to the height of the tree - if the tree is balanced (we will define this more formally later), the height is going to be proportional to the **logarithm** of the number of elements --- i.e. this is going to be a big improvment over a linear search in a list and is comparable to a binary search in a sorted list.\n",
    "\n",
    "But why can we decide to ignore some subtrees? Because of the data-invariant that we imposed on BST. For example, let's go back to our example and assume that we are in the second case: `x` is strictly small than the label of `node`. Since we have a BST, we know that all the labels in the right subtree of `node` are going to be larger than `node`'s label. Hence, all labels in the right subtree of `node` are going to be strictly larger than `x`. In consequence, `x` **cannot** be in the right subtree. It remains to check whether `x` is in the left subtree or not.\n",
    "\n",
    "For example, if we go back to the previous tree, we will follow the red path when searching for the value `15`:\n",
    "\n",
    "<!--\n",
    "digraph G {\n",
    " graph [ordering=\"out\"];\n",
    " node [margin=0 fontsize=12 width=0.5 shape=circle style=filled]\n",
    " A [label = \"10\"]\n",
    " B [label = \"5\"]\n",
    " C [label = \"11\"]\n",
    " D [label = \"7\"]\n",
    " E [label = \"11\"]\n",
    " F [label = \"20\"]\n",
    " G [label = \"15\"]\n",
    " H [label = \"24\"]\n",
    " BL [style = invis]\n",
    " A -> B\n",
    " A -> C [color = red]\n",
    " B -> BL [style = dashed, arrowhead = none]\n",
    " B -> D\n",
    " C -> E\n",
    " C -> F [color = red]\n",
    " F -> G [color = red]\n",
    " F -> H\n",
    "}\n",
    "-->\n",
    "\n",
    "<figure>\n",
    "<table><tr>\n",
    "    <td><img src=\"files/bst-02.png\" style=\"width: 250px\"></td>\n",
    "</tr></table>\n",
    "</figure>\n",
    "\n",
    "Here is the Python implementation:"
   ]
  },
  {
   "cell_type": "code",
   "execution_count": 11,
   "metadata": {
    "execution": {
     "iopub.execute_input": "2023-03-13T05:01:42.706140Z",
     "iopub.status.busy": "2023-03-13T05:01:42.706054Z",
     "iopub.status.idle": "2023-03-13T05:01:42.708643Z",
     "shell.execute_reply": "2023-03-13T05:01:42.708394Z"
    }
   },
   "outputs": [
    {
     "name": "stdout",
     "output_type": "stream",
     "text": [
      "True\n",
      "False\n"
     ]
    }
   ],
   "source": [
    "mystree = \\\n",
    "    BinaryNode(10,\n",
    "        BinaryNode(5, None, BinaryNode(7)),\n",
    "        BinaryNode(11,\n",
    "            BinaryNode(11),\n",
    "            BinaryNode(20, BinaryNode(15), BinaryNode(24))\n",
    "        )\n",
    "    )\n",
    "\n",
    "def bst_search(node, x):\n",
    "    if node is None:\n",
    "        return False\n",
    "    if node.label == x:\n",
    "        return True\n",
    "    return bst_search(node.left if x < node.label else node.right, x)\n",
    "\n",
    "print(bst_search(mystree, 15))\n",
    "print(bst_search(mystree, 14))"
   ]
  },
  {
   "cell_type": "markdown",
   "metadata": {},
   "source": [
    "### Inserting\n",
    "\n",
    "For inserting a value `x` in a tree `node`, we start as for a search, going down in the tree, choosing the left or right subtree based on the comparison of `x` and the current node label. However, when we cannot progress more, we then insert a new left with `x` at its label. This gives the following algorithm:\n",
    "\n",
    "  - if `node` is an actual node, if `x` is smaller or equal (resp. strictly larger) than `node.label`, then we insert `x` in the left (right) subtree, and\n",
    "  - if `node` is `None`, we create a new `Node`, with `x` as its label and with no children.\n",
    "  \n",
    "Here, the algorithm works because: 1. after insertion, the BST has been augmented with a single `Node` whose label is `x`, and 2. by pushing `x` on the left (resp. right) when it is strictly smaller than (resp. larger than) the node label, we insert `x` in a place s.t. it doesn't break the BST invariants.\n",
    "\n",
    "Here too, when the tree is balanced, the insertion will make a number of comparisons that is proportional to the logarothm of the numbers of nodes of the tree.\n",
    "\n",
    "This gives the following Python code:"
   ]
  },
  {
   "cell_type": "code",
   "execution_count": 12,
   "metadata": {
    "execution": {
     "iopub.execute_input": "2023-03-13T05:01:42.709890Z",
     "iopub.status.busy": "2023-03-13T05:01:42.709798Z",
     "iopub.status.idle": "2023-03-13T05:01:42.712879Z",
     "shell.execute_reply": "2023-03-13T05:01:42.712624Z"
    }
   },
   "outputs": [
    {
     "name": "stdout",
     "output_type": "stream",
     "text": [
      "True\n",
      "False\n",
      "10[L=5[L=., R=7[L=., R=.]], R=11[L=11[L=., R=.], R=20[L=15[L=., R=.], R=24[L=., R=.]]]]\n",
      "10[L=5[L=., R=7[L=., R=.]], R=11[L=11[L=., R=.], R=20[L=15[L=14[L=., R=.], R=.], R=24[L=., R=.]]]]\n",
      "True\n",
      "True\n"
     ]
    }
   ],
   "source": [
    "mystree = \\\n",
    "    BinaryNode(10,\n",
    "        BinaryNode(5, None, BinaryNode(7)),\n",
    "        BinaryNode(11,\n",
    "            BinaryNode(11),\n",
    "            BinaryNode(20, BinaryNode(15), BinaryNode(24))\n",
    "        )\n",
    "    )\n",
    "\n",
    "def bst_insert(node, x):\n",
    "    if node is None:\n",
    "        return BinaryNode(x)\n",
    "    if x <= node.label:\n",
    "        node.left = bst_insert(node.left, x)\n",
    "    else:\n",
    "        node.right = bst_insert(node.right, x)\n",
    "    return node\n",
    "        \n",
    "print(bst_search(mystree, 15))\n",
    "print(bst_search(mystree, 14))\n",
    "print(bst_str(mystree))\n",
    "mytree = bst_insert(mystree, 14)\n",
    "print(bst_str(mystree))\n",
    "print(bst_search(mystree, 15))\n",
    "print(bst_search(mystree, 14))"
   ]
  },
  {
   "cell_type": "markdown",
   "metadata": {},
   "source": [
    "### When things go wrong\n",
    "\n",
    "Note that there are cases when binary search trees can degenerate to lists, leading to searches and insertions that take a linear time (in the number of elements). For example:"
   ]
  },
  {
   "cell_type": "code",
   "execution_count": 13,
   "metadata": {
    "execution": {
     "iopub.execute_input": "2023-03-13T05:01:42.714059Z",
     "iopub.status.busy": "2023-03-13T05:01:42.713972Z",
     "iopub.status.idle": "2023-03-13T05:01:42.716034Z",
     "shell.execute_reply": "2023-03-13T05:01:42.715792Z"
    }
   },
   "outputs": [
    {
     "name": "stdout",
     "output_type": "stream",
     "text": [
      "0[L=., R=1[L=., R=2[L=., R=3[L=., R=4[L=., R=5[L=., R=6[L=., R=7[L=., R=8[L=., R=9[L=., R=10[L=., R=11[L=., R=12[L=., R=13[L=., R=14[L=., R=15[L=., R=16[L=., R=17[L=., R=18[L=., R=19[L=., R=.]]]]]]]]]]]]]]]]]]]]\n"
     ]
    }
   ],
   "source": [
    "mylsttree = None\n",
    "for i in range(20):\n",
    "    mylsttree = bst_insert(mylsttree, i)\n",
    "print(bst_str(mylsttree))"
   ]
  },
  {
   "cell_type": "markdown",
   "metadata": {},
   "source": [
    "You can see that this tree is totally degenerated: the left subtrees are always null and its height is equal to its number of elements. During the tutorial, we will see how we can solve this issue by *rotating* sub-trees while insert new values, leading to binary search trees that are always well balanced."
   ]
  }
 ],
 "metadata": {
  "kernelspec": {
   "display_name": "Python 3",
   "language": "python",
   "name": "python3"
  },
  "language_info": {
   "codemirror_mode": {
    "name": "ipython",
    "version": 3
   },
   "file_extension": ".py",
   "mimetype": "text/x-python",
   "name": "python",
   "nbconvert_exporter": "python",
   "pygments_lexer": "ipython3",
   "version": "3.10.4"
  }
 },
 "nbformat": 4,
 "nbformat_minor": 4
}
